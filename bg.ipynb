{
 "cells": [
  {
   "cell_type": "code",
   "execution_count": null,
   "id": "959d8355",
   "metadata": {},
   "outputs": [],
   "source": []
  },
  {
   "cell_type": "code",
   "execution_count": 1,
   "id": "e9fcc390",
   "metadata": {
    "ExecuteTime": {
     "end_time": "2023-12-31T10:16:24.515258Z",
     "start_time": "2023-12-31T10:16:24.471344Z"
    }
   },
   "outputs": [],
   "source": [
    "from PIL import Image"
   ]
  },
  {
   "cell_type": "code",
   "execution_count": 2,
   "id": "a92a73fc",
   "metadata": {
    "ExecuteTime": {
     "end_time": "2023-12-31T10:16:24.748685Z",
     "start_time": "2023-12-31T10:16:24.534369Z"
    }
   },
   "outputs": [],
   "source": [
    "import os\n",
    "import re\n",
    "import requests\n",
    "from lxml import etree\n",
    "import wget\n",
    "from selenium import webdriver\n",
    "import base64\n",
    "import os\n",
    "import re\n",
    "from io import BytesIO\n",
    "from PIL import Image\n",
    "import json\n",
    "\n",
    "import random"
   ]
  },
  {
   "cell_type": "markdown",
   "id": "c1b97ab0",
   "metadata": {
    "ExecuteTime": {
     "end_time": "2023-09-10T06:51:30.959601Z",
     "start_time": "2023-09-10T06:51:30.955640Z"
    }
   },
   "source": [
    "# poster"
   ]
  },
  {
   "cell_type": "code",
   "execution_count": 3,
   "id": "174874d9",
   "metadata": {
    "ExecuteTime": {
     "end_time": "2023-12-31T10:16:24.779689Z",
     "start_time": "2023-12-31T10:16:24.766690Z"
    }
   },
   "outputs": [],
   "source": [
    "from io import BytesIO\n",
    "from PIL import Image\n",
    "import requests"
   ]
  },
  {
   "cell_type": "code",
   "execution_count": 4,
   "id": "dc6b6665",
   "metadata": {
    "ExecuteTime": {
     "end_time": "2023-12-31T10:16:26.095262Z",
     "start_time": "2023-12-31T10:16:24.797688Z"
    }
   },
   "outputs": [
    {
     "name": "stdout",
     "output_type": "stream",
     "text": [
      "(534, 800)\n"
     ]
    }
   ],
   "source": [
    "# -*- coding: utf-8 -*-\n",
    "\n",
    "\n",
    "def get_remote_pic_size(url):\n",
    "    response = requests.get(url)\n",
    "    image = Image.open(BytesIO(response.content), 'r')\n",
    "    return image.size\n",
    "\n",
    "\n",
    "print(get_remote_pic_size(\n",
    "    'https://pics.dmm.co.jp/digital/video/ssis00162/ssis00162jp-1.jpg'))  # 图片宽、高"
   ]
  },
  {
   "cell_type": "code",
   "execution_count": 5,
   "id": "211cae3d",
   "metadata": {
    "ExecuteTime": {
     "end_time": "2023-12-31T10:16:26.508910Z",
     "start_time": "2023-12-31T10:16:26.113263Z"
    }
   },
   "outputs": [
    {
     "ename": "NameError",
     "evalue": "name 'image' is not defined",
     "output_type": "error",
     "traceback": [
      "\u001b[1;31m---------------------------------------------------------------------------\u001b[0m",
      "\u001b[1;31mNameError\u001b[0m                                 Traceback (most recent call last)",
      "Cell \u001b[1;32mIn[5], line 1\u001b[0m\n\u001b[1;32m----> 1\u001b[0m \u001b[43mimage\u001b[49m\u001b[38;5;241m.\u001b[39msize\n",
      "\u001b[1;31mNameError\u001b[0m: name 'image' is not defined"
     ]
    }
   ],
   "source": [
    "image.size"
   ]
  },
  {
   "cell_type": "code",
   "execution_count": null,
   "id": "91015e36",
   "metadata": {
    "ExecuteTime": {
     "end_time": "2023-12-31T10:16:26.514907Z",
     "start_time": "2023-12-31T10:16:26.514907Z"
    }
   },
   "outputs": [],
   "source": [
    "response = requests.get(\"https://www.jav321.com/video/ssis00338\")"
   ]
  },
  {
   "cell_type": "code",
   "execution_count": null,
   "id": "70f1bc3a",
   "metadata": {
    "ExecuteTime": {
     "end_time": "2023-12-31T10:16:26.517902Z",
     "start_time": "2023-12-31T10:16:26.517902Z"
    }
   },
   "outputs": [],
   "source": [
    "html = etree.HTML(response.text)"
   ]
  },
  {
   "cell_type": "code",
   "execution_count": null,
   "id": "66c4e19a",
   "metadata": {
    "ExecuteTime": {
     "end_time": "2023-12-31T10:16:26.525655Z",
     "start_time": "2023-12-31T10:16:26.525655Z"
    }
   },
   "outputs": [],
   "source": [
    "imgs = html.xpath('.//p/a/img[@onerror]/@src')"
   ]
  },
  {
   "cell_type": "code",
   "execution_count": null,
   "id": "adc53def",
   "metadata": {
    "ExecuteTime": {
     "end_time": "2023-12-31T10:16:26.529439Z",
     "start_time": "2023-12-31T10:16:26.529439Z"
    }
   },
   "outputs": [],
   "source": [
    "imgs[random.randint(1, len(imgs)-1)]"
   ]
  },
  {
   "cell_type": "code",
   "execution_count": null,
   "id": "fa2836ed",
   "metadata": {
    "ExecuteTime": {
     "end_time": "2023-12-31T10:16:26.532972Z",
     "start_time": "2023-12-31T10:16:26.532972Z"
    }
   },
   "outputs": [],
   "source": [
    " with open(\"./test.jpg\", mode=\"wb\") as file:\n",
    "        # 直接使用使用requests 请求图片保存\n",
    "        file.write(requests.get(imgs[random.randint(1, len(imgs)-1)]).content)"
   ]
  },
  {
   "cell_type": "code",
   "execution_count": 25,
   "id": "b1ac439d",
   "metadata": {
    "ExecuteTime": {
     "end_time": "2023-12-09T11:40:51.785849Z",
     "start_time": "2023-12-09T11:40:51.780079Z"
    }
   },
   "outputs": [
    {
     "name": "stdout",
     "output_type": "stream",
     "text": [
      "MKD-S147-FHD\n"
     ]
    }
   ],
   "source": [
    "for i in os.listdir(r\"F:\\JAV\")[:1]:\n",
    "    print(i)"
   ]
  },
  {
   "cell_type": "code",
   "execution_count": 6,
   "id": "4b4d0cc8",
   "metadata": {
    "ExecuteTime": {
     "end_time": "2023-12-31T10:16:41.013720Z",
     "start_time": "2023-12-31T10:16:38.548921Z"
    }
   },
   "outputs": [
    {
     "name": "stdout",
     "output_type": "stream",
     "text": [
      "https://www.jav321.com/video/carib001080 G:\\JAV\\Carib-091215-970-FHD\\091215-970-carib-1080p.ass\\backdrop.jpg\n",
      "https://www.jav321.com/video/carib001080\n",
      "https://www.jav321.com/video/carib001080 G:\\JAV\\Carib-091215-970-FHD\\091215-970-carib-1080p.mp4\\backdrop.jpg\n",
      "https://www.jav321.com/video/carib001080\n",
      "https://www.jav321.com/video/carib001080 G:\\JAV\\Carib-091215-970-FHD\\091215-970-carib-1080p.srt\\backdrop.jpg\n",
      "https://www.jav321.com/video/carib001080\n"
     ]
    },
    {
     "ename": "IndexError",
     "evalue": "list index out of range",
     "output_type": "error",
     "traceback": [
      "\u001b[1;31m---------------------------------------------------------------------------\u001b[0m",
      "\u001b[1;31mIndexError\u001b[0m                                Traceback (most recent call last)",
      "Cell \u001b[1;32mIn[6], line 11\u001b[0m\n\u001b[0;32m      8\u001b[0m \u001b[38;5;28;01mexcept\u001b[39;00m:\n\u001b[0;32m      9\u001b[0m     \u001b[38;5;28;01mpass\u001b[39;00m\n\u001b[1;32m---> 11\u001b[0m fh \u001b[38;5;241m=\u001b[39m \u001b[43mre\u001b[49m\u001b[38;5;241;43m.\u001b[39;49m\u001b[43mfindall\u001b[49m\u001b[43m(\u001b[49m\u001b[38;5;124;43m\"\u001b[39;49m\u001b[38;5;124;43m\\\u001b[39;49m\u001b[38;5;124;43mw+-\u001b[39;49m\u001b[38;5;124;43m\\\u001b[39;49m\u001b[38;5;124;43md+\u001b[39;49m\u001b[38;5;124;43m\"\u001b[39;49m\u001b[43m,\u001b[49m\u001b[43m \u001b[49m\u001b[43mj\u001b[49m\u001b[43m)\u001b[49m\u001b[43m[\u001b[49m\u001b[38;5;241;43m-\u001b[39;49m\u001b[38;5;241;43m1\u001b[39;49m\u001b[43m]\u001b[49m\n\u001b[0;32m     12\u001b[0m _fh \u001b[38;5;241m=\u001b[39m (\u001b[38;5;124m\"\u001b[39m\u001b[38;5;124m00\u001b[39m\u001b[38;5;124m\"\u001b[39m)\u001b[38;5;241m.\u001b[39mjoin(fh\u001b[38;5;241m.\u001b[39msplit(\u001b[38;5;124m\"\u001b[39m\u001b[38;5;124m-\u001b[39m\u001b[38;5;124m\"\u001b[39m))\n\u001b[0;32m     13\u001b[0m url \u001b[38;5;241m=\u001b[39m \u001b[38;5;124m\"\u001b[39m\u001b[38;5;124mhttps://www.jav321.com/video/\u001b[39m\u001b[38;5;132;01m{}\u001b[39;00m\u001b[38;5;124m\"\u001b[39m\u001b[38;5;241m.\u001b[39mformat(_fh\u001b[38;5;241m.\u001b[39mlower())\n",
      "\u001b[1;31mIndexError\u001b[0m: list index out of range"
     ]
    }
   ],
   "source": [
    "for i in os.listdir(r\"F:\\JAV\")[:1]:\n",
    "    # print(r\"\\\\10.168.1.127\\hdd3t\\JAV\\{}\".format(i))\n",
    "    for j in os.listdir(r\"G:\\JAV\\{}\".format(i)):\n",
    "        sp = r\"G:\\JAV\\{}\\{}\\backdrop.jpg\".format(i, j)\n",
    "        \n",
    "        try:\n",
    "            os.remove(sp)\n",
    "        except:\n",
    "            pass\n",
    "        \n",
    "        fh = re.findall(\"\\w+-\\d+\", j)[-1]\n",
    "        _fh = (\"00\").join(fh.split(\"-\"))\n",
    "        url = \"https://www.jav321.com/video/{}\".format(_fh.lower())\n",
    "        print(url,sp)\n",
    "        response = requests.get(url)\n",
    "        if response.status_code == 200:\n",
    "            html = etree.HTML(response.text)\n",
    "            imgs = html.xpath('.//p/a/img[@onerror]/@src')\n",
    "            img = imgs[random.randint(4, len(imgs)-2)]\n",
    "            print(img)\n",
    "            with open(sp, mode=\"wb\") as file:\n",
    "            # 直接使用使用requests 请求图片保存\n",
    "                file.write(requests.get(img).content)\n",
    "            pass\n",
    "        else:\n",
    "            print(url)"
   ]
  },
  {
   "cell_type": "code",
   "execution_count": 7,
   "id": "83a733e0",
   "metadata": {
    "ExecuteTime": {
     "end_time": "2023-10-01T14:28:19.910950Z",
     "start_time": "2023-10-01T14:28:19.671386Z"
    }
   },
   "outputs": [
    {
     "name": "stdout",
     "output_type": "stream",
     "text": [
      "TOP\n",
      "三上悠亚\n",
      "安齋拉拉\n",
      "小宵虎南\n",
      "小湊よつ葉\n",
      "山岸逢花\n",
      "山手梨爱\n",
      "明日花绮罗\n",
      "星宫一花\n",
      "有栖花あか\n",
      "河北采花\n"
     ]
    }
   ],
   "source": [
    "for i in os.listdir(r\"\\\\10.168.1.131\\hdd3t\\JAV\")[:]:\n",
    "    print(i)"
   ]
  },
  {
   "cell_type": "code",
   "execution_count": 16,
   "id": "c75f6f9e",
   "metadata": {
    "ExecuteTime": {
     "end_time": "2023-10-01T14:33:30.499697Z",
     "start_time": "2023-10-01T14:33:22.877464Z"
    }
   },
   "outputs": [],
   "source": []
  },
  {
   "cell_type": "code",
   "execution_count": null,
   "id": "6c791378",
   "metadata": {
    "ExecuteTime": {
     "end_time": "2023-11-10T18:44:23.877258Z",
     "start_time": "2023-11-10T18:44:23.877258Z"
    }
   },
   "outputs": [],
   "source": [
    "driver = webdriver.Firefox()\n",
    "driver.get(\"https://www.javbus.com/SSIS-338\")"
   ]
  },
  {
   "cell_type": "code",
   "execution_count": 27,
   "id": "39698750",
   "metadata": {
    "ExecuteTime": {
     "end_time": "2023-12-09T11:41:00.549566Z",
     "start_time": "2023-12-09T11:41:00.540964Z"
    }
   },
   "outputs": [
    {
     "data": {
      "text/plain": [
       "['ssis-011-uncensored',\n",
       " 'SSIS-084-U',\n",
       " 'SSIS-235-U',\n",
       " 'SSIS-641-U',\n",
       " 'SSIS-784-U',\n",
       " 'SSIS-870-U',\n",
       " 'SSIS-950-C']"
      ]
     },
     "execution_count": 27,
     "metadata": {},
     "output_type": "execute_result"
    }
   ],
   "source": [
    "os.listdir(r\"F:\\JAV\\有栖花绯\")"
   ]
  },
  {
   "cell_type": "code",
   "execution_count": 30,
   "id": "87d5868b",
   "metadata": {
    "ExecuteTime": {
     "end_time": "2023-12-09T11:41:25.780506Z",
     "start_time": "2023-12-09T11:41:25.773561Z"
    }
   },
   "outputs": [
    {
     "name": "stdout",
     "output_type": "stream",
     "text": [
      "F:\\JAV\\有栖花绯\\ssis-011-uncensored\\backdrop.jpg\n",
      "F:\\JAV\\有栖花绯\\SSIS-084-U\\backdrop.jpg\n",
      "F:\\JAV\\有栖花绯\\SSIS-235-U\\backdrop.jpg\n",
      "F:\\JAV\\有栖花绯\\SSIS-641-U\\backdrop.jpg\n",
      "F:\\JAV\\有栖花绯\\SSIS-784-U\\backdrop.jpg\n",
      "F:\\JAV\\有栖花绯\\SSIS-870-U\\backdrop.jpg\n",
      "F:\\JAV\\有栖花绯\\SSIS-950-C\\backdrop.jpg\n",
      "F:\\JAV\\河北采花\\SSIS-158-U\\backdrop.jpg\n",
      "F:\\JAV\\河北采花\\SSIS-413-U\\backdrop.jpg\n",
      "F:\\JAV\\河北采花\\SSIS-468-U\\backdrop.jpg\n",
      "F:\\JAV\\河北采花\\SSIS-499-U\\backdrop.jpg\n",
      "F:\\JAV\\河北采花\\SSNI-240-U\\backdrop.jpg\n",
      "F:\\JAV\\白峰ミ\\ADN-396-U\\backdrop.jpg\n",
      "F:\\JAV\\白峰ミ\\ADN-405-U\\backdrop.jpg\n",
      "F:\\JAV\\白峰ミ\\ADN-413-U\\backdrop.jpg\n",
      "F:\\JAV\\白峰ミ\\ADN-499-C\\backdrop.jpg\n",
      "F:\\JAV\\白峰ミ\\ADN-503-C\\backdrop.jpg\n",
      "F:\\JAV\\白峰ミ\\ATID-555-U\\backdrop.jpg\n",
      "F:\\JAV\\白峰ミ\\ATID-557-C\\backdrop.jpg\n",
      "F:\\JAV\\白峰ミ\\ATID-561-U\\backdrop.jpg\n",
      "F:\\JAV\\白峰ミ\\ATID-566-U\\backdrop.jpg\n",
      "F:\\JAV\\白峰ミ\\IPX-589-C\\backdrop.jpg\n",
      "F:\\JAV\\白峰ミ\\IPX-635-U\\backdrop.jpg\n",
      "F:\\JAV\\白峰ミ\\IPX-652-U\\backdrop.jpg\n",
      "F:\\JAV\\白峰ミ\\IPX-668-U\\backdrop.jpg\n",
      "F:\\JAV\\白峰ミ\\IPX-683-U\\backdrop.jpg\n",
      "F:\\JAV\\白峰ミ\\ipx-700-C\\backdrop.jpg\n",
      "F:\\JAV\\白峰ミ\\IPX-736-U\\backdrop.jpg\n",
      "F:\\JAV\\白峰ミ\\IPX-753-U\\backdrop.jpg\n",
      "F:\\JAV\\白峰ミ\\ipx-771-C\\backdrop.jpg\n",
      "F:\\JAV\\白峰ミ\\IPX-806-U\\backdrop.jpg\n",
      "F:\\JAV\\白峰ミ\\IPX-826-U\\backdrop.jpg\n",
      "F:\\JAV\\白峰ミ\\IPX-845-U\\backdrop.jpg\n",
      "F:\\JAV\\白峰ミ\\PRED-483-U\\backdrop.jpg\n",
      "F:\\JAV\\白峰ミ\\PRED-488-C\\backdrop.jpg\n",
      "F:\\JAV\\白峰ミ\\PRED-498-C\\backdrop.jpg\n",
      "F:\\JAV\\白峰ミ\\PRED-507-C\\backdrop.jpg\n",
      "F:\\JAV\\白峰ミ\\PRED-516-C\\backdrop.jpg\n",
      "F:\\JAV\\白峰ミ\\PRED-526-C\\backdrop.jpg\n",
      "F:\\JAV\\白峰ミ\\SAME-013-C\\backdrop.jpg\n",
      "F:\\JAV\\神木\\STARS-573-U\\backdrop.jpg\n",
      "F:\\JAV\\神木\\STARS-599-U\\backdrop.jpg\n",
      "F:\\JAV\\神木\\stars-642-C\\backdrop.jpg\n",
      "F:\\JAV\\神木\\stars-703-C\\backdrop.jpg\n",
      "F:\\JAV\\神木\\stars-725-4k\\backdrop.jpg\n",
      "F:\\JAV\\神木\\STARS-725-U\\backdrop.jpg\n",
      "F:\\JAV\\神木\\STARS-734-UC\\backdrop.jpg\n",
      "F:\\JAV\\神木\\STARS-766-UC\\backdrop.jpg\n",
      "F:\\JAV\\神木\\STARS-778-U\\backdrop.jpg\n",
      "F:\\JAV\\神木\\STARS-804-UC\\backdrop.jpg\n",
      "F:\\JAV\\神木\\STARS-818-UC\\backdrop.jpg\n",
      "F:\\JAV\\神木\\STARS-852-UC\\backdrop.jpg\n",
      "F:\\JAV\\神木\\STARS-866-UC\\backdrop.jpg\n",
      "F:\\JAV\\神木\\STARS-881-UC\\backdrop.jpg\n",
      "F:\\JAV\\神木\\STARS-894-UC\\backdrop.jpg\n",
      "F:\\JAV\\神木\\STARS-896-UC\\backdrop.jpg\n",
      "F:\\JAV\\神木\\STARS-923-UC\\backdrop.jpg\n",
      "F:\\JAV\\神木\\STARS-964-UC\\backdrop.jpg\n"
     ]
    }
   ],
   "source": [
    "root = r\"F:\\JAV\"\n",
    "for i in os.listdir(root)[1::]:\n",
    "#     print(i)\n",
    "    # print(r\"\\\\10.168.1.127\\hdd3t\\JAV\\{}\".format(i))\n",
    "    for j in os.listdir(r\"{}\\{}\".format(root,i))[::]:\n",
    "        sp = r\"{}\\{}\\{}\\backdrop.jpg\".format(root,i, j)\n",
    "        print(sp)"
   ]
  },
  {
   "cell_type": "code",
   "execution_count": 6,
   "id": "f8fb40c4",
   "metadata": {
    "ExecuteTime": {
     "end_time": "2023-12-01T14:55:39.253651Z",
     "start_time": "2023-12-01T14:55:25.118252Z"
    }
   },
   "outputs": [],
   "source": [
    "try:\n",
    "    driver.get(\"https://www.javbus.com\")\n",
    "except:\n",
    "    driver = webdriver.Firefox()\n",
    "    \n",
    "driver.get(\"https://www.javbus.com/SSIS-338\")"
   ]
  },
  {
   "cell_type": "code",
   "execution_count": 8,
   "id": "a8dec5ef",
   "metadata": {
    "ExecuteTime": {
     "end_time": "2023-12-31T10:17:31.940044Z",
     "start_time": "2023-12-31T10:17:17.522527Z"
    }
   },
   "outputs": [
    {
     "name": "stdout",
     "output_type": "stream",
     "text": [
      "F:\\JAV\\山岸逢花\\[7sht.me]pred-140-C\\backdrop.jpg\n",
      "F:\\JAV\\山岸逢花\\pred-153-C\\backdrop.jpg\n",
      "F:\\JAV\\山岸逢花\\PRED-133\\backdrop.jpg\n",
      "F:\\JAV\\山岸逢花\\PRED-099-c\\backdrop.jpg\n",
      "F:\\JAV\\山岸逢花\\PRED-068-C\\backdrop.jpg\n",
      "F:\\JAV\\山岸逢花\\IPX-219\\backdrop.jpg\n",
      "F:\\JAV\\有栖花绯\\SSIS-950-C\\backdrop.jpg\n",
      "F:\\JAV\\有栖花绯\\SSIS-870-U\\backdrop.jpg\n",
      "F:\\JAV\\有栖花绯\\SSIS-784-U\\backdrop.jpg\n",
      "F:\\JAV\\有栖花绯\\SSIS-641-U\\backdrop.jpg\n",
      "F:\\JAV\\有栖花绯\\SSIS-235-U\\backdrop.jpg\n",
      "F:\\JAV\\有栖花绯\\SSIS-084-U\\backdrop.jpg\n",
      "F:\\JAV\\有栖花绯\\ssis-011-uncensored\\backdrop.jpg\n",
      "F:\\JAV\\河北采花\\SSNI-240-U\\backdrop.jpg\n",
      "F:\\JAV\\河北采花\\SSIS-499-U\\backdrop.jpg\n",
      "F:\\JAV\\河北采花\\SSIS-468-U\\backdrop.jpg\n",
      "F:\\JAV\\河北采花\\SSIS-413-U\\backdrop.jpg\n",
      "F:\\JAV\\河北采花\\SSIS-158-U\\backdrop.jpg\n",
      "F:\\JAV\\白峰ミ\\SAME-013-C\\backdrop.jpg\n",
      "F:\\JAV\\白峰ミ\\PRED-526-C\\backdrop.jpg\n",
      "F:\\JAV\\白峰ミ\\PRED-516-C\\backdrop.jpg\n",
      "F:\\JAV\\白峰ミ\\PRED-507-C\\backdrop.jpg\n",
      "F:\\JAV\\白峰ミ\\PRED-498-C\\backdrop.jpg\n",
      "F:\\JAV\\白峰ミ\\PRED-488-C\\backdrop.jpg\n",
      "F:\\JAV\\白峰ミ\\PRED-483-U\\backdrop.jpg\n",
      "F:\\JAV\\白峰ミ\\IPX-845-U\\backdrop.jpg\n",
      "F:\\JAV\\白峰ミ\\IPX-826-U\\backdrop.jpg\n",
      "F:\\JAV\\白峰ミ\\IPX-806-U\\backdrop.jpg\n",
      "F:\\JAV\\白峰ミ\\ipx-771-C\\backdrop.jpg\n",
      "F:\\JAV\\白峰ミ\\IPX-753-U\\backdrop.jpg\n",
      "F:\\JAV\\白峰ミ\\IPX-736-U\\backdrop.jpg\n",
      "F:\\JAV\\白峰ミ\\ipx-700-C\\backdrop.jpg\n",
      "F:\\JAV\\白峰ミ\\IPX-683-U\\backdrop.jpg\n",
      "F:\\JAV\\白峰ミ\\IPX-668-U\\backdrop.jpg\n",
      "F:\\JAV\\白峰ミ\\IPX-652-U\\backdrop.jpg\n",
      "F:\\JAV\\白峰ミ\\IPX-635-U\\backdrop.jpg\n",
      "F:\\JAV\\白峰ミ\\IPX-589-C\\backdrop.jpg\n",
      "F:\\JAV\\白峰ミ\\ATID-566-U\\backdrop.jpg\n",
      "F:\\JAV\\白峰ミ\\ATID-561-U\\backdrop.jpg\n",
      "F:\\JAV\\白峰ミ\\ATID-557-C\\backdrop.jpg\n",
      "F:\\JAV\\白峰ミ\\ATID-555-U\\backdrop.jpg\n",
      "F:\\JAV\\白峰ミ\\ADN-503-C\\backdrop.jpg\n",
      "F:\\JAV\\白峰ミ\\ADN-499-C\\backdrop.jpg\n",
      "F:\\JAV\\白峰ミ\\ADN-413-U\\backdrop.jpg\n",
      "F:\\JAV\\白峰ミ\\ADN-405-U\\backdrop.jpg\n",
      "F:\\JAV\\白峰ミ\\ADN-396-U\\backdrop.jpg\n",
      "F:\\JAV\\神木\\STARS-979-UC\\backdrop.jpg\n",
      "https://pics.dmm.co.jp/digital/video/1stars00979/1stars00979jp-15.jpg\n",
      "F:\\JAV\\神木\\STARS-964-UC\\backdrop.jpg\n",
      "F:\\JAV\\神木\\STARS-923-UC\\backdrop.jpg\n",
      "F:\\JAV\\神木\\STARS-896-UC\\backdrop.jpg\n",
      "F:\\JAV\\神木\\STARS-894-UC\\backdrop.jpg\n",
      "F:\\JAV\\神木\\STARS-881-UC\\backdrop.jpg\n",
      "F:\\JAV\\神木\\STARS-866-UC\\backdrop.jpg\n",
      "F:\\JAV\\神木\\STARS-852-UC\\backdrop.jpg\n",
      "F:\\JAV\\神木\\STARS-818-UC\\backdrop.jpg\n",
      "F:\\JAV\\神木\\STARS-804-UC\\backdrop.jpg\n",
      "F:\\JAV\\神木\\STARS-778-U\\backdrop.jpg\n",
      "F:\\JAV\\神木\\STARS-766-UC\\backdrop.jpg\n",
      "F:\\JAV\\神木\\STARS-734-UC\\backdrop.jpg\n",
      "F:\\JAV\\神木\\STARS-725-U\\backdrop.jpg\n",
      "F:\\JAV\\神木\\stars-725-4k\\backdrop.jpg\n",
      "F:\\JAV\\神木\\stars-703-C\\backdrop.jpg\n",
      "F:\\JAV\\神木\\stars-642-C\\backdrop.jpg\n",
      "F:\\JAV\\神木\\STARS-599-U\\backdrop.jpg\n",
      "F:\\JAV\\神木\\STARS-573-U\\backdrop.jpg\n"
     ]
    }
   ],
   "source": [
    "# driver.close()\n",
    "try:\n",
    "    driver.get(\"https://www.javbus.com\")\n",
    "except:\n",
    "    driver = webdriver.Firefox()\n",
    "root = \"F:\\JAV\"\n",
    "for i in os.listdir(root)[1::1]:\n",
    "    # print(r\"\\\\10.168.1.127\\hdd3t\\JAV\\{}\".format(i))\n",
    "    for j in os.listdir(r\"{}\\{}\".format(root,i))[::-1]:\n",
    "        sp = r\"{}\\{}\\{}\\backdrop.jpg\".format(root,i, j)\n",
    "        print(sp)\n",
    "        \n",
    "        if os.path.exists(sp):\n",
    "            continue\n",
    "        \n",
    "        try:\n",
    "            fh = re.findall(\"\\w+-\\d+\", j)[-1]\n",
    "        except:\n",
    "            pass\n",
    "        url = \"https://www.javbus.com/{}\".format(fh.upper())\n",
    "        # print(url)\n",
    "\n",
    "        driver.get(url)\n",
    "        # if response.status_code == 200:\n",
    "        html = etree.HTML(driver.page_source)\n",
    "\n",
    "        # print(response.text)\n",
    "        imgs = html.xpath('.//a[@class=\"sample-box\"]/@href')\n",
    "\n",
    "        # print(imgs)\n",
    "        try:\n",
    "            img = imgs[random.randint(0, len(imgs)-1)]\n",
    "        except:\n",
    "            continue\n",
    "\n",
    "        if not img.startswith(\"https\"):\n",
    "            img = \"https://www.javbus.com\" + img\n",
    "\n",
    "            # print(imgs)\n",
    "\n",
    "        \n",
    "            \n",
    "        try:\n",
    "            os.remove(sp)\n",
    "        except:\n",
    "            pass\n",
    "        # print(sp, \"123\")\n",
    "        response = requests.get(img)\n",
    "        image = Image.open(BytesIO(response.content), 'r')\n",
    "\n",
    "    # 下载横屏幕照片\n",
    "        while image.size[0] < image.size[1]:\n",
    "            img = imgs[random.randint(0, len(imgs)-1)]\n",
    "            response = requests.get(img)\n",
    "            image = Image.open(BytesIO(response.content), 'r')\n",
    "            # print(image.size, sp)\n",
    "        print(img)\n",
    "        with open(sp, mode=\"wb\") as file:\n",
    "            # 直接使用使用requests 请求图片保存\n",
    "            file.write(requests.get(img).content)\n",
    "driver.close()"
   ]
  },
  {
   "cell_type": "code",
   "execution_count": 24,
   "id": "49104bad",
   "metadata": {
    "ExecuteTime": {
     "end_time": "2023-12-01T15:33:46.387722Z",
     "start_time": "2023-12-01T15:32:31.158853Z"
    }
   },
   "outputs": [
    {
     "name": "stdout",
     "output_type": "stream",
     "text": [
      "F:\\JAV\\新人\\STARS-573-C\\backdrop.jpg\n",
      "F:\\JAV\\新人\\SSIS-508-C\\backdrop.jpg\n",
      "F:\\JAV\\新人\\ssis-378-4k\\backdrop.jpg\n",
      "F:\\JAV\\新人\\ssis-351-4k\\backdrop.jpg\n",
      "F:\\JAV\\新人\\MIDV-180\\backdrop.jpg\n",
      "F:\\JAV\\新人\\midv-075-C\\backdrop.jpg\n",
      "F:\\JAV\\新人\\JUQ-033-C\\backdrop.jpg\n",
      "F:\\JAV\\新人\\jul-947-C\\backdrop.jpg\n",
      "F:\\JAV\\新人\\jul-899-C\\backdrop.jpg\n",
      "F:\\JAV\\新人\\ipx-907\\backdrop.jpg\n",
      "F:\\JAV\\波多野结衣\\[22sht.me]SKY-140-C\\backdrop.jpg\n",
      "F:\\JAV\\波多野结衣\\[22sht.me]heyzo-1048-C\\backdrop.jpg\n",
      "F:\\JAV\\波多野结衣\\[22sht.me]HEYZO-0521-C\\backdrop.jpg\n",
      "F:\\JAV\\波多野结衣\\[22sht.me]122813-509-C\\backdrop.jpg\n",
      "F:\\JAV\\波多野结衣\\[22sht.me]122713-508-C\\backdrop.jpg\n",
      "F:\\JAV\\波多野结衣\\[22sht.me]081315-133-C\\backdrop.jpg\n",
      "F:\\JAV\\波多野结衣\\[22sht.me]062212-055-C\\backdrop.jpg\n",
      "F:\\JAV\\波多野结衣\\[22sht.me]051515-877-C\\backdrop.jpg\n",
      "F:\\JAV\\波多野结衣\\[22sht.me]040415-846-C\\backdrop.jpg\n",
      "F:\\JAV\\波多野结衣\\skyhd-104-C\\backdrop.jpg\n",
      "F:\\JAV\\波多野结衣\\skyhd-039-C\\backdrop.jpg\n",
      "F:\\JAV\\波多野结衣\\lafbd-53-C\\backdrop.jpg\n",
      "F:\\JAV\\波多野结衣\\HD CWP-138 極品女優 138 上演淫蕩性愛激情 波多野結衣[無碼高清中文字幕]\\backdrop.jpg\n",
      "F:\\JAV\\波多野结衣\\DOA-026\\backdrop.jpg\n",
      "F:\\JAV\\波多野结衣\\012413-001-C\\backdrop.jpg\n",
      "F:\\JAV\\神菜美まい\\IPX-977-C_X1080X\\backdrop.jpg\n",
      "F:\\JAV\\神菜美まい\\IPX-962-C_X1080X\\backdrop.jpg\n",
      "F:\\JAV\\神菜美まい\\IPX-945-C\\backdrop.jpg\n",
      "F:\\JAV\\神菜美まい\\IPX-928-C\\backdrop.jpg\n",
      "F:\\JAV\\神菜美まい\\ipx-911-C\\backdrop.jpg\n",
      "F:\\JAV\\神菜美まい\\ipx-895-C\\backdrop.jpg\n",
      "F:\\JAV\\神菜美まい\\IPX-879-C_X1080X\\backdrop.jpg\n",
      "F:\\JAV\\神菜美まい\\ipx-844-C\\backdrop.jpg\n",
      "F:\\JAV\\神菜美まい\\ipx-825-C\\backdrop.jpg\n",
      "F:\\JAV\\神菜美まい\\ipx-805-C\\backdrop.jpg\n",
      "F:\\JAV\\神菜美まい\\ipx-789-C\\backdrop.jpg\n",
      "F:\\JAV\\神菜美まい\\ipx-770-C\\backdrop.jpg\n",
      "F:\\JAV\\神菜美まい\\ipx-751-C\\backdrop.jpg\n"
     ]
    }
   ],
   "source": [
    "try:\n",
    "    driver.get(\"https://www.javbus.com\")\n",
    "except:\n",
    "    driver = webdriver.Firefox()\n",
    "# root = \"G:\\JAV\\TOP\"\n",
    "for i in os.listdir(root)[1::1]:\n",
    "    # print(r\"\\\\10.168.1.127\\hdd3t\\JAV\\{}\".format(i))\n",
    "    for j in os.listdir(r\"{}\\{}\".format(root, i))[::-1]:\n",
    "        sp = r\"{}\\{}\\{}\\backdrop.jpg\".format(root, i, j)\n",
    "        print(sp)\n",
    "\n",
    "        if os.path.exists(sp):\n",
    "            continue\n",
    "\n",
    "        try:\n",
    "            fh = re.findall(\"\\w+-\\d+\", j)[-1]\n",
    "        except:\n",
    "            pass\n",
    "        url = \"https://www.javbus.com/{}\".format(fh.upper())\n",
    "        # print(url)\n",
    "\n",
    "        driver.get(url)\n",
    "        # if response.status_code == 200:\n",
    "        html = etree.HTML(driver.page_source)\n",
    "\n",
    "        # print(response.text)\n",
    "        img = html.xpath('.//a[@class=\"bigImage\"]/@href')\n",
    "        \n",
    "        img = \"https://www.javbus.com\" + img[0] \n",
    "        response = requests.get(img)\n",
    "\n",
    "        with open(sp, mode=\"wb\") as file:\n",
    "            # 直接使用使用requests 请求图片保存\n",
    "            file.write(requests.get(img).content)\n",
    "driver.close()"
   ]
  },
  {
   "cell_type": "code",
   "execution_count": 16,
   "id": "a72d7cd5",
   "metadata": {
    "ExecuteTime": {
     "end_time": "2023-09-10T12:16:46.697341Z",
     "start_time": "2023-09-10T12:16:46.676916Z"
    }
   },
   "outputs": [],
   "source": []
  }
 ],
 "metadata": {
  "hide_input": false,
  "kernelspec": {
   "display_name": "Python 3 (ipykernel)",
   "language": "python",
   "name": "python3"
  },
  "language_info": {
   "codemirror_mode": {
    "name": "ipython",
    "version": 3
   },
   "file_extension": ".py",
   "mimetype": "text/x-python",
   "name": "python",
   "nbconvert_exporter": "python",
   "pygments_lexer": "ipython3",
   "version": "3.10.8"
  },
  "toc": {
   "nav_menu": {},
   "number_sections": true,
   "sideBar": true,
   "skip_h1_title": false,
   "title_cell": "Table of Contents",
   "title_sidebar": "Contents",
   "toc_cell": false,
   "toc_position": {
    "height": "497.778px",
    "left": "1009px",
    "top": "180px",
    "width": "284.444px"
   },
   "toc_section_display": true,
   "toc_window_display": false
  },
  "varInspector": {
   "cols": {
    "lenName": 16,
    "lenType": 16,
    "lenVar": 40
   },
   "kernels_config": {
    "python": {
     "delete_cmd_postfix": "",
     "delete_cmd_prefix": "del ",
     "library": "var_list.py",
     "varRefreshCmd": "print(var_dic_list())"
    },
    "r": {
     "delete_cmd_postfix": ") ",
     "delete_cmd_prefix": "rm(",
     "library": "var_list.r",
     "varRefreshCmd": "cat(var_dic_list()) "
    }
   },
   "types_to_exclude": [
    "module",
    "function",
    "builtin_function_or_method",
    "instance",
    "_Feature"
   ],
   "window_display": false
  }
 },
 "nbformat": 4,
 "nbformat_minor": 5
}
