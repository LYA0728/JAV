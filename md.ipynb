{
 "cells": [
  {
   "cell_type": "code",
   "execution_count": null,
   "id": "4a85aae9",
   "metadata": {},
   "outputs": [],
   "source": []
  },
  {
   "cell_type": "code",
   "execution_count": 1,
   "id": "183ec653",
   "metadata": {
    "ExecuteTime": {
     "end_time": "2023-08-01T15:56:20.067500Z",
     "start_time": "2023-08-01T15:56:19.518603Z"
    }
   },
   "outputs": [],
   "source": [
    "import requests\n",
    "import urllib.parse\n",
    "from lxml import etree\n",
    "from Crypto.Cipher import AES"
   ]
  },
  {
   "cell_type": "code",
   "execution_count": 15,
   "id": "0d9ab94f",
   "metadata": {
    "ExecuteTime": {
     "end_time": "2023-08-01T11:41:29.980183Z",
     "start_time": "2023-08-01T11:41:29.971853Z"
    }
   },
   "outputs": [],
   "source": [
    "url = \"https://madou.club/page/1?s={}\".format(urllib.parse.quote('仙儿嫒'))\n",
    "key_url = \"https://dash.madou.club//videos/{}/ts.key\""
   ]
  },
  {
   "cell_type": "code",
   "execution_count": 8,
   "id": "b184a30d",
   "metadata": {
    "ExecuteTime": {
     "end_time": "2023-08-01T11:40:29.623197Z",
     "start_time": "2023-08-01T11:40:28.095303Z"
    }
   },
   "outputs": [],
   "source": [
    "response = requests.get(url)"
   ]
  },
  {
   "cell_type": "code",
   "execution_count": 9,
   "id": "771ce78b",
   "metadata": {
    "ExecuteTime": {
     "end_time": "2023-08-01T11:40:31.391648Z",
     "start_time": "2023-08-01T11:40:31.370538Z"
    }
   },
   "outputs": [],
   "source": [
    "html = etree.HTML(response.text)"
   ]
  },
  {
   "cell_type": "code",
   "execution_count": 10,
   "id": "fbf79581",
   "metadata": {
    "ExecuteTime": {
     "end_time": "2023-08-01T11:40:31.991810Z",
     "start_time": "2023-08-01T11:40:31.965505Z"
    }
   },
   "outputs": [],
   "source": [
    "hrefs = html.xpath('.//article[@class=\"excerpt excerpt-c5\"]/h2/a/@href')"
   ]
  },
  {
   "cell_type": "code",
   "execution_count": 11,
   "id": "41eff3a3",
   "metadata": {
    "ExecuteTime": {
     "end_time": "2023-08-01T11:40:34.441653Z",
     "start_time": "2023-08-01T11:40:33.033681Z"
    }
   },
   "outputs": [],
   "source": [
    "for h in hrefs[:1]:\n",
    "    res = requests.get(h)"
   ]
  },
  {
   "cell_type": "code",
   "execution_count": 12,
   "id": "131d25f1",
   "metadata": {
    "ExecuteTime": {
     "end_time": "2023-08-01T11:40:35.773943Z",
     "start_time": "2023-08-01T11:40:35.761844Z"
    }
   },
   "outputs": [],
   "source": [
    "html = etree.HTML(res.text)"
   ]
  },
  {
   "cell_type": "code",
   "execution_count": 13,
   "id": "be07a198",
   "metadata": {
    "ExecuteTime": {
     "end_time": "2023-08-01T11:40:36.391911Z",
     "start_time": "2023-08-01T11:40:36.368843Z"
    }
   },
   "outputs": [
    {
     "data": {
      "text/plain": [
       "'64c7769b4bcdef144c80c165'"
      ]
     },
     "execution_count": 13,
     "metadata": {},
     "output_type": "execute_result"
    }
   ],
   "source": [
    "_id = html.xpath('.//iframe/@src')[0].split(\"/\")[-1]\n",
    "_id"
   ]
  },
  {
   "cell_type": "code",
   "execution_count": 24,
   "id": "a3c5d131",
   "metadata": {
    "ExecuteTime": {
     "end_time": "2023-08-01T11:46:42.620844Z",
     "start_time": "2023-08-01T11:46:41.155409Z"
    }
   },
   "outputs": [
    {
     "data": {
      "text/plain": [
       "b'ccDDG5G5bG0GEa95'"
      ]
     },
     "execution_count": 24,
     "metadata": {},
     "output_type": "execute_result"
    }
   ],
   "source": [
    "key = requests.get(key_url.format(_id)).content\n",
    "key"
   ]
  },
  {
   "cell_type": "code",
   "execution_count": 30,
   "id": "117e45ae",
   "metadata": {
    "ExecuteTime": {
     "end_time": "2023-08-01T11:49:03.776735Z",
     "start_time": "2023-08-01T11:49:03.720073Z"
    }
   },
   "outputs": [
    {
     "ename": "SystemError",
     "evalue": "PY_SSIZE_T_CLEAN macro must be defined for '#' formats",
     "output_type": "error",
     "traceback": [
      "\u001b[1;31m---------------------------------------------------------------------------\u001b[0m",
      "\u001b[1;31mSystemError\u001b[0m                               Traceback (most recent call last)",
      "Cell \u001b[1;32mIn[30], line 1\u001b[0m\n\u001b[1;32m----> 1\u001b[0m aes \u001b[38;5;241m=\u001b[39m \u001b[43mAES\u001b[49m\u001b[38;5;241;43m.\u001b[39;49m\u001b[43mnew\u001b[49m\u001b[43m(\u001b[49m\u001b[43mkey\u001b[49m\u001b[43m,\u001b[49m\u001b[43m \u001b[49m\u001b[43mAES\u001b[49m\u001b[38;5;241;43m.\u001b[39;49m\u001b[43mMODE_CBC\u001b[49m\u001b[43m)\u001b[49m\n",
      "File \u001b[1;32mC:\\Application\\miniconda3\\lib\\site-packages\\Crypto\\Cipher\\AES.py:94\u001b[0m, in \u001b[0;36mnew\u001b[1;34m(key, *args, **kwargs)\u001b[0m\n\u001b[0;32m     61\u001b[0m \u001b[38;5;28;01mdef\u001b[39;00m \u001b[38;5;21mnew\u001b[39m(key, \u001b[38;5;241m*\u001b[39margs, \u001b[38;5;241m*\u001b[39m\u001b[38;5;241m*\u001b[39mkwargs):\n\u001b[0;32m     62\u001b[0m \u001b[38;5;250m    \u001b[39m\u001b[38;5;124;03m\"\"\"Create a new AES cipher\u001b[39;00m\n\u001b[0;32m     63\u001b[0m \n\u001b[0;32m     64\u001b[0m \u001b[38;5;124;03m    :Parameters:\u001b[39;00m\n\u001b[1;32m   (...)\u001b[0m\n\u001b[0;32m     92\u001b[0m \u001b[38;5;124;03m    :Return: an `AESCipher` object\u001b[39;00m\n\u001b[0;32m     93\u001b[0m \u001b[38;5;124;03m    \"\"\"\u001b[39;00m\n\u001b[1;32m---> 94\u001b[0m     \u001b[38;5;28;01mreturn\u001b[39;00m AESCipher(key, \u001b[38;5;241m*\u001b[39margs, \u001b[38;5;241m*\u001b[39m\u001b[38;5;241m*\u001b[39mkwargs)\n",
      "File \u001b[1;32mC:\\Application\\miniconda3\\lib\\site-packages\\Crypto\\Cipher\\AES.py:59\u001b[0m, in \u001b[0;36mAESCipher.__init__\u001b[1;34m(self, key, *args, **kwargs)\u001b[0m\n\u001b[0;32m     55\u001b[0m \u001b[38;5;28;01mdef\u001b[39;00m \u001b[38;5;21m__init__\u001b[39m(\u001b[38;5;28mself\u001b[39m, key, \u001b[38;5;241m*\u001b[39margs, \u001b[38;5;241m*\u001b[39m\u001b[38;5;241m*\u001b[39mkwargs):\n\u001b[0;32m     56\u001b[0m \u001b[38;5;250m    \u001b[39m\u001b[38;5;124;03m\"\"\"Initialize an AES cipher object\u001b[39;00m\n\u001b[0;32m     57\u001b[0m \u001b[38;5;124;03m    \u001b[39;00m\n\u001b[0;32m     58\u001b[0m \u001b[38;5;124;03m    See also `new()` at the module level.\"\"\"\u001b[39;00m\n\u001b[1;32m---> 59\u001b[0m     blockalgo\u001b[38;5;241m.\u001b[39mBlockAlgo\u001b[38;5;241m.\u001b[39m\u001b[38;5;21m__init__\u001b[39m(\u001b[38;5;28mself\u001b[39m, _AES, key, \u001b[38;5;241m*\u001b[39margs, \u001b[38;5;241m*\u001b[39m\u001b[38;5;241m*\u001b[39mkwargs)\n",
      "File \u001b[1;32mC:\\Application\\miniconda3\\lib\\site-packages\\Crypto\\Cipher\\blockalgo.py:141\u001b[0m, in \u001b[0;36mBlockAlgo.__init__\u001b[1;34m(self, factory, key, *args, **kwargs)\u001b[0m\n\u001b[0;32m    138\u001b[0m \u001b[38;5;28mself\u001b[39m\u001b[38;5;241m.\u001b[39mblock_size \u001b[38;5;241m=\u001b[39m factory\u001b[38;5;241m.\u001b[39mblock_size\n\u001b[0;32m    140\u001b[0m \u001b[38;5;28;01mif\u001b[39;00m \u001b[38;5;28mself\u001b[39m\u001b[38;5;241m.\u001b[39mmode \u001b[38;5;241m!=\u001b[39m MODE_OPENPGP:\n\u001b[1;32m--> 141\u001b[0m     \u001b[38;5;28mself\u001b[39m\u001b[38;5;241m.\u001b[39m_cipher \u001b[38;5;241m=\u001b[39m factory\u001b[38;5;241m.\u001b[39mnew(key, \u001b[38;5;241m*\u001b[39margs, \u001b[38;5;241m*\u001b[39m\u001b[38;5;241m*\u001b[39mkwargs)\n\u001b[0;32m    142\u001b[0m     \u001b[38;5;28mself\u001b[39m\u001b[38;5;241m.\u001b[39mIV \u001b[38;5;241m=\u001b[39m \u001b[38;5;28mself\u001b[39m\u001b[38;5;241m.\u001b[39m_cipher\u001b[38;5;241m.\u001b[39mIV\n\u001b[0;32m    143\u001b[0m \u001b[38;5;28;01melse\u001b[39;00m:\n\u001b[0;32m    144\u001b[0m     \u001b[38;5;66;03m# OPENPGP mode. For details, see 13.9 in RCC4880.\u001b[39;00m\n\u001b[0;32m    145\u001b[0m     \u001b[38;5;66;03m#\u001b[39;00m\n\u001b[1;32m   (...)\u001b[0m\n\u001b[0;32m    148\u001b[0m     \u001b[38;5;66;03m#  - _done_first_block, set to True after the first encryption\u001b[39;00m\n\u001b[0;32m    149\u001b[0m     \u001b[38;5;66;03m#  - _done_last_block, set to True after a partial block is processed\u001b[39;00m\n",
      "\u001b[1;31mSystemError\u001b[0m: PY_SSIZE_T_CLEAN macro must be defined for '#' formats"
     ]
    }
   ],
   "source": [
    "aes = AES.new(key, AES.MODE_CBC)"
   ]
  },
  {
   "cell_type": "code",
   "execution_count": null,
   "id": "c6223e7e",
   "metadata": {},
   "outputs": [],
   "source": []
  }
 ],
 "metadata": {
  "hide_input": false,
  "kernelspec": {
   "display_name": "Python 3 (ipykernel)",
   "language": "python",
   "name": "python3"
  },
  "language_info": {
   "codemirror_mode": {
    "name": "ipython",
    "version": 3
   },
   "file_extension": ".py",
   "mimetype": "text/x-python",
   "name": "python",
   "nbconvert_exporter": "python",
   "pygments_lexer": "ipython3",
   "version": "3.10.8"
  },
  "toc": {
   "base_numbering": 1,
   "nav_menu": {},
   "number_sections": true,
   "sideBar": true,
   "skip_h1_title": false,
   "title_cell": "Table of Contents",
   "title_sidebar": "Contents",
   "toc_cell": false,
   "toc_position": {},
   "toc_section_display": true,
   "toc_window_display": false
  },
  "varInspector": {
   "cols": {
    "lenName": 16,
    "lenType": 16,
    "lenVar": 40
   },
   "kernels_config": {
    "python": {
     "delete_cmd_postfix": "",
     "delete_cmd_prefix": "del ",
     "library": "var_list.py",
     "varRefreshCmd": "print(var_dic_list())"
    },
    "r": {
     "delete_cmd_postfix": ") ",
     "delete_cmd_prefix": "rm(",
     "library": "var_list.r",
     "varRefreshCmd": "cat(var_dic_list()) "
    }
   },
   "types_to_exclude": [
    "module",
    "function",
    "builtin_function_or_method",
    "instance",
    "_Feature"
   ],
   "window_display": false
  }
 },
 "nbformat": 4,
 "nbformat_minor": 5
}
