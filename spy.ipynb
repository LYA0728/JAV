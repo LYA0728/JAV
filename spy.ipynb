{
 "cells": [
  {
   "cell_type": "code",
   "execution_count": null,
   "id": "5ca5e732",
   "metadata": {},
   "outputs": [],
   "source": []
  },
  {
   "cell_type": "code",
   "execution_count": null,
   "id": "c9fa5d1e",
   "metadata": {},
   "outputs": [],
   "source": []
  },
  {
   "cell_type": "code",
   "execution_count": 1,
   "id": "b0428a2d",
   "metadata": {
    "ExecuteTime": {
     "end_time": "2023-10-29T06:01:38.941658Z",
     "start_time": "2023-10-29T06:01:38.692003Z"
    }
   },
   "outputs": [],
   "source": [
    "import re\n",
    "import requests\n",
    "# import qbittorrentapi\n",
    "from selenium import webdriver\n",
    "from selenium.webdriver.common.by import By\n",
    "from lxml import etree\n",
    "import wget\n",
    "import os\n",
    "import shutil"
   ]
  },
  {
   "cell_type": "code",
   "execution_count": 2,
   "id": "ccb102a6",
   "metadata": {
    "ExecuteTime": {
     "end_time": "2023-10-29T06:01:41.441104Z",
     "start_time": "2023-10-29T06:01:41.422466Z"
    }
   },
   "outputs": [],
   "source": [
    "def get_magnet_urls(url):\n",
    "    res = requests.get(url)\n",
    "    html = etree.HTML(res.text)\n",
    "    a = html.xpath('.//div[@class=\"magnet-name column is-four-fifths\"]/a')\n",
    "    magnet_urls = html.xpath(\n",
    "        './/div[@class=\"magnet-name column is-four-fifths\"]/a/@href')\n",
    "    # print(url)\n",
    "    if html.xpath('.//span[text()=\"字幕\"]/../..'):\n",
    "        infos = []\n",
    "        magnet_url = html.xpath(\n",
    "            './/span[text()=\"字幕\"]/../..')[0].attrib.get(\"href\")\n",
    "        \n",
    "#         print(\"first\", magnet_url)\n",
    "        for info in html.xpath('.//span[text()=\"字幕\"]/../..'):\n",
    "            magnet_url = info.xpath(\n",
    "                './@href')[0] if \"无码\" in info.xpath('./span[@class=\"name\"]/text()')[0] else magnet_url\n",
    "\n",
    "#             infos.extend(info.xpath('./span[@class=\"name\"]/text()'))\n",
    "\n",
    "#         print(\"final\", magnet_url)\n",
    "#         print(infos)\n",
    "\n",
    "        # print(\"有字幕\")\n",
    "    elif html.xpath('.//span[text()=\"高清\"]/../..'):\n",
    "        magnet_url = html.xpath(\n",
    "            './/span[text()=\"高清\"]/../..')[0].attrib.get(\"href\")\n",
    "        # print(\"HD\")\n",
    "    else:\n",
    "        magnet_url = magnet_urls[0]\n",
    "    return magnet_url"
   ]
  },
  {
   "cell_type": "markdown",
   "id": "0195dc76",
   "metadata": {},
   "source": [
    "## 山手梨爱"
   ]
  },
  {
   "cell_type": "code",
   "execution_count": 5,
   "id": "5523123b",
   "metadata": {
    "ExecuteTime": {
     "end_time": "2023-10-28T17:52:12.602465Z",
     "start_time": "2023-10-28T17:51:52.263253Z"
    }
   },
   "outputs": [],
   "source": [
    "query_url = \"https://javdb.com/actors/9Dqpw?t=c&sort_type=0\"\n",
    "res = requests.get(query_url)\n",
    "html = etree.HTML(res.text)\n",
    "href_xpath = './/div[@class=\"item\"]/a/@href'\n",
    "title_xpath = './/div[@class=\"item\"]/a/@title'\n",
    "\n",
    "\n",
    "fh_xpath = './/div[@class=\"item\"]/a/div[@class=\"video-title\"]/strong/text()'\n",
    "href = [\"https://javdb.com\" + i for i in html.xpath(href_xpath)]\n",
    "title = [i.replace(\"xa0\",\"\") for i in html.xpath(title_xpath)]\n",
    "fh = [i for i in html.xpath(fh_xpath)]\n",
    "all_hrefs = [get_magnet_urls(h) for h in href]\n"
   ]
  },
  {
   "cell_type": "code",
   "execution_count": 6,
   "id": "7c4bbe26",
   "metadata": {
    "ExecuteTime": {
     "end_time": "2023-10-28T17:52:28.439270Z",
     "start_time": "2023-10-28T17:52:28.433951Z"
    }
   },
   "outputs": [],
   "source": [
    "fhs = [re.findall(\"\\w+-(\\d+)\", ele)[-1] for ele in os.listdir(r\"\\\\Desktop-3j9bsbd\\g\\JAV\\山手梨爱\")]\n",
    "fhs = [i.upper() for i in fhs]\n"
   ]
  },
  {
   "cell_type": "code",
   "execution_count": 7,
   "id": "6478dd2a",
   "metadata": {
    "ExecuteTime": {
     "end_time": "2023-10-28T17:52:32.898266Z",
     "start_time": "2023-10-28T17:52:32.875801Z"
    },
    "collapsed": true
   },
   "outputs": [
    {
     "data": {
      "text/plain": [
       "['256',\n",
       " '285',\n",
       " '324',\n",
       " '349',\n",
       " '375',\n",
       " '402',\n",
       " '472',\n",
       " '503',\n",
       " '535',\n",
       " '563',\n",
       " '589',\n",
       " '614',\n",
       " '688',\n",
       " '724',\n",
       " '765',\n",
       " '804',\n",
       " '816',\n",
       " '841',\n",
       " '861']"
      ]
     },
     "execution_count": 7,
     "metadata": {},
     "output_type": "execute_result"
    }
   ],
   "source": [
    "fhs"
   ]
  },
  {
   "cell_type": "code",
   "execution_count": 8,
   "id": "795fb2f7",
   "metadata": {
    "ExecuteTime": {
     "end_time": "2023-10-28T17:52:39.765254Z",
     "start_time": "2023-10-28T17:52:39.747297Z"
    }
   },
   "outputs": [
    {
     "name": "stdout",
     "output_type": "stream",
     "text": [
      "magnet:?xt=urn:btih:62b84572c5192b28d4db566d9904f50f492d9821&dn=[javdb.com]SSIS-639-C.torrent \n",
      "\n"
     ]
    }
   ],
   "source": [
    "for i, ele in enumerate(all_hrefs):\n",
    "    # print(ele)\n",
    "    fh = re.findall(\"\\w+-(\\d+)\", ele)[-1]\n",
    "    if fh not in fhs:\n",
    "        # print(fh.upper(),ele)\n",
    "        print(ele,\"\\n\")\n",
    "    # if (1+i) % 2 == 0:"
   ]
  },
  {
   "cell_type": "markdown",
   "id": "80688511",
   "metadata": {},
   "source": [
    "## 星宫一花\n",
    "2页"
   ]
  },
  {
   "cell_type": "code",
   "execution_count": 10,
   "id": "0ecd2cb3",
   "metadata": {
    "ExecuteTime": {
     "end_time": "2023-09-24T08:55:22.508235Z",
     "start_time": "2023-09-24T08:55:05.915162Z"
    }
   },
   "outputs": [],
   "source": [
    "query_url = \"https://javdb.com/actors/vd2n?page=2&sort_type=0&t=d%2Cc\"\n",
    "res = requests.get(query_url)\n",
    "html = etree.HTML(res.text)\n",
    "href_xpath = './/div[@class=\"item\"]/a/@href'\n",
    "title_xpath = './/div[@class=\"item\"]/a/@title'\n",
    "\n",
    "\n",
    "fh_xpath = './/div[@class=\"item\"]/a/div[@class=\"video-title\"]/strong/text()'\n",
    "href = [\"https://javdb.com\" + i for i in html.xpath(href_xpath)]\n",
    "title = [i.replace(\"xa0\",\"\") for i in html.xpath(title_xpath)]\n",
    "fh = [i for i in html.xpath(fh_xpath)]\n",
    "all_hrefs = [get_magnet_urls(h) for h in href]"
   ]
  },
  {
   "cell_type": "code",
   "execution_count": 11,
   "id": "b9d39328",
   "metadata": {
    "ExecuteTime": {
     "end_time": "2023-09-24T08:55:27.520359Z",
     "start_time": "2023-09-24T08:55:26.975262Z"
    }
   },
   "outputs": [],
   "source": [
    "fhs = [re.findall(\"\\w+-(\\d+)\", ele)[-1] for ele in os.listdir(r\"\\\\10.168.1.131\\hdd3t\\JAV\\星宫一花\")]\n",
    "fhs = [i.upper() for i in fhs]"
   ]
  },
  {
   "cell_type": "code",
   "execution_count": 12,
   "id": "e0c707ed",
   "metadata": {
    "ExecuteTime": {
     "end_time": "2023-09-24T08:55:27.754210Z",
     "start_time": "2023-09-24T08:55:27.722378Z"
    }
   },
   "outputs": [
    {
     "name": "stdout",
     "output_type": "stream",
     "text": [
      "magnet:?xt=urn:btih:a27ee4d10b5b259da3fe8eeb031cbbc27f0243bd&dn=[javdb.com]ssni-624-C.torrent \n",
      "\n",
      "magnet:?xt=urn:btih:e5c628b3147f2f69878962d7de3f57dfe2d4d1d0&dn=[javdb.com]ssni-572-C.torrent \n",
      "\n",
      "magnet:?xt=urn:btih:2d5a4772d10fe38c0e15c72643777646ace6fd75&dn=[javdb.com]ssni-549-C.torrent \n",
      "\n",
      "magnet:?xt=urn:btih:b79db37a17e8ddceb765308e339752cce69e7217&dn=[javdb.com][22sht.me]ssni-523-C.torrent \n",
      "\n",
      "magnet:?xt=urn:btih:5c9499444de91aaa51c0a05812c5c220627dfd1d&dn=[javdb.com][22sht.me]ssni-500-C.torrent \n",
      "\n",
      "magnet:?xt=urn:btih:c95bb352eb412603dc452c333bbea84c21ea1c39&dn=[javdb.com][22sht.me]ssni-479-C.torrent \n",
      "\n",
      "magnet:?xt=urn:btih:b52cb96d63292f07563aa1cd9ad83247a871a51a&dn=[javdb.com][7sht.me]ssni-354-c字幕 \n",
      "\n",
      "magnet:?xt=urn:btih:376baf5d6b4266b7c9b03ea3d59ee3f0290844e6&dn=[javdb.com][7sht.me]ssni-332-c字幕 \n",
      "\n"
     ]
    }
   ],
   "source": [
    "for i, ele in enumerate(all_hrefs):\n",
    "    # print(ele)\n",
    "    try:\n",
    "        fh = re.findall(\"\\w+-(\\d+)\", ele)[-1]\n",
    "    except:\n",
    "        fh = re.findall(\"\\[javdb.com][A-Za-z]+(\\d+)\", ele)[-1]\n",
    "        # print(ele,fh)\n",
    "    if fh not in fhs:\n",
    "        # pass\n",
    "        # print(fh.upper(),ele)\n",
    "        print(ele,\"\\n\")\n",
    "    # if (1+i) % 2 == 0:"
   ]
  },
  {
   "cell_type": "markdown",
   "id": "27a13920",
   "metadata": {},
   "source": [
    "## 小宵虎南"
   ]
  },
  {
   "cell_type": "code",
   "execution_count": 9,
   "id": "58fa245a",
   "metadata": {
    "ExecuteTime": {
     "end_time": "2023-10-28T17:53:08.993849Z",
     "start_time": "2023-10-28T17:52:50.581054Z"
    }
   },
   "outputs": [],
   "source": [
    "query_url = \"https://javdb.com/actors/76BeZ?t=d,c&sort_type=0\"\n",
    "res = requests.get(query_url)\n",
    "html = etree.HTML(res.text)\n",
    "href_xpath = './/div[@class=\"item\"]/a/@href'\n",
    "title_xpath = './/div[@class=\"item\"]/a/@title'\n",
    "href = [\"https://javdb.com\" + i for i in html.xpath(href_xpath)]\n",
    "title = [i.replace(\"xa0\",\"\") for i in html.xpath(title_xpath)]\n",
    "all_hrefs = [get_magnet_urls(h) for h in href]"
   ]
  },
  {
   "cell_type": "code",
   "execution_count": 10,
   "id": "35d24bfd",
   "metadata": {
    "ExecuteTime": {
     "end_time": "2023-10-28T17:53:24.518227Z",
     "start_time": "2023-10-28T17:53:24.514830Z"
    }
   },
   "outputs": [],
   "source": [
    "fhs = [re.findall(\"\\w+-(\\d+)\", ele)[-1] for ele in os.listdir(r\"\\\\Desktop-3j9bsbd\\g\\JAV\\小宵虎南\")]\n",
    "fhs = [i.upper() for i in fhs]"
   ]
  },
  {
   "cell_type": "code",
   "execution_count": 11,
   "id": "6e16f6b4",
   "metadata": {
    "ExecuteTime": {
     "end_time": "2023-10-28T17:53:28.104904Z",
     "start_time": "2023-10-28T17:53:28.098761Z"
    }
   },
   "outputs": [
    {
     "name": "stdout",
     "output_type": "stream",
     "text": [
      "magnet:?xt=urn:btih:ee1961667ec0ae6b3ff54655304110e78aa914cd&dn=[javdb.com]SSIS-926-C.torrent \n",
      "\n"
     ]
    }
   ],
   "source": [
    "# fhs = []\n",
    "for i, ele in enumerate(all_hrefs):\n",
    "    # print(ele)\n",
    "    try:\n",
    "        fh = re.findall(\"\\w+-(\\d+)\", ele)[-1]\n",
    "    except:\n",
    "        fh = re.findall(\"\\[javdb.com][A-Za-z]+(\\d+)\", ele)[-1]\n",
    "        # print(ele,fh)\n",
    "    if fh not in fhs:\n",
    "        # pass\n",
    "        # print(fh.upper(),ele)\n",
    "        print(ele,\"\\n\")\n",
    "    # if (1+i) % 2 == 0:"
   ]
  },
  {
   "cell_type": "markdown",
   "id": "b5270acb",
   "metadata": {
    "ExecuteTime": {
     "end_time": "2023-09-09T11:59:14.660678Z",
     "start_time": "2023-09-09T11:59:14.654214Z"
    }
   },
   "source": [
    "## 未步"
   ]
  },
  {
   "cell_type": "code",
   "execution_count": 50,
   "id": "c51e101b",
   "metadata": {
    "ExecuteTime": {
     "end_time": "2023-09-09T11:59:45.536998Z",
     "start_time": "2023-09-09T11:59:35.959440Z"
    }
   },
   "outputs": [],
   "source": [
    "query_url = \"https://javdb.com/actors/GMwOq?t=d,c&sort_type=0\"\n",
    "res = requests.get(query_url)\n",
    "html = etree.HTML(res.text)\n",
    "href_xpath = './/div[@class=\"item\"]/a/@href'\n",
    "title_xpath = './/div[@class=\"item\"]/a/@title'\n",
    "href = [\"https://javdb.com\" + i for i in html.xpath(href_xpath)]\n",
    "title = [i.replace(\"xa0\",\"\") for i in html.xpath(title_xpath)]\n",
    "all_hrefs = [get_magnet_urls(h) for h in href]\n"
   ]
  },
  {
   "cell_type": "code",
   "execution_count": 51,
   "id": "7e9cf769",
   "metadata": {
    "ExecuteTime": {
     "end_time": "2023-09-09T12:00:36.016642Z",
     "start_time": "2023-09-09T12:00:35.990728Z"
    }
   },
   "outputs": [],
   "source": [
    "fhs = [re.findall(\"\\w+-(\\d+)\", ele)[-1] for ele in os.listdir(r\"\\\\linux.liuyian.online\\HDD3T\\JAV\\未歩なな\")]\n",
    "fhs = [i.upper() for i in fhs]"
   ]
  },
  {
   "cell_type": "code",
   "execution_count": 52,
   "id": "9bf37d3a",
   "metadata": {
    "ExecuteTime": {
     "end_time": "2023-09-09T12:00:44.631804Z",
     "start_time": "2023-09-09T12:00:44.614250Z"
    }
   },
   "outputs": [
    {
     "name": "stdout",
     "output_type": "stream",
     "text": [
      "magnet:?xt=urn:btih:e3e03368d1669a51be88e172e558b6426ee58568&dn=[javdb.com]SSIS-844-C.torrent \n",
      "\n",
      "magnet:?xt=urn:btih:978a18ae04b48746191a688d588ccae4edaa7e94&dn=[javdb.com]SSIS-807-C.torrent \n",
      "\n",
      "magnet:?xt=urn:btih:4f4bcbf4c417a28e7917ec276bb0d06ee302cd34&dn=[javdb.com]SSIS-767-C.torrent \n",
      "\n",
      "magnet:?xt=urn:btih:ef1ebefa1445e19e395c663d5d3169fdcca976bb&dn=[javdb.com]SSIS-726-C.torrent \n",
      "\n",
      "magnet:?xt=urn:btih:c3d8de7b215e18a6bfb656c17e599ef6e249b152&dn=[javdb.com]SSIS-628-C.torrent \n",
      "\n",
      "magnet:?xt=urn:btih:7a09d500b10b0cded7bf7cede9e1def12d163f31&dn=[javdb.com]SSIS-636-C.torrent \n",
      "\n",
      "magnet:?xt=urn:btih:5cf5154b2643a0a6eed0cdade1555edbfc6dc191&dn=[javdb.com]SSIS-591-C.torrent \n",
      "\n",
      "magnet:?xt=urn:btih:b997b959dc7ad93b6c0257d109109685cde43318&dn=[javdb.com]SSIS-565 \n",
      "\n",
      "magnet:?xt=urn:btih:9d76b5ea5cad614e0f90e55d63d7532e1d7b1072&dn=[javdb.com]SSIS-537 \n",
      "\n",
      "magnet:?xt=urn:btih:4bda5a9871272d88730e48d60eb7c34a2482d6ac&dn=[javdb.com]SSIS-506-C.torrent \n",
      "\n",
      "magnet:?xt=urn:btih:d172d831a6b793478fd85d58bb1a11fbca0f0efc&dn=[javdb.com]ssis-475-C.rar.torrent \n",
      "\n"
     ]
    }
   ],
   "source": [
    "for i, ele in enumerate(all_hrefs):\n",
    "    # print(ele)\n",
    "    try:\n",
    "        fh = re.findall(\"\\w+-(\\d+)\", ele)[-1]\n",
    "    except:\n",
    "        fh = re.findall(\"\\[javdb.com][A-Za-z]+(\\d+)\", ele)[-1]\n",
    "        # print(ele,fh)\n",
    "    if fh not in fhs:\n",
    "        # pass\n",
    "        # print(fh.upper(),ele)\n",
    "        print(ele,\"\\n\")\n",
    "    # if (1+i) % 2 == 0:"
   ]
  },
  {
   "cell_type": "markdown",
   "id": "482c6d02",
   "metadata": {},
   "source": [
    "## 河北采花"
   ]
  },
  {
   "cell_type": "code",
   "execution_count": 38,
   "id": "13397963",
   "metadata": {
    "ExecuteTime": {
     "end_time": "2023-10-28T18:16:14.684223Z",
     "start_time": "2023-10-28T18:15:42.672741Z"
    }
   },
   "outputs": [],
   "source": [
    "query_url = \"https://javdb.com/actors/EvkJ?t=d,c&sort_type=0\"\n",
    "res = requests.get(query_url)\n",
    "html = etree.HTML(res.text)\n",
    "href_xpath = './/div[@class=\"item\"]/a/@href'\n",
    "title_xpath = './/div[@class=\"item\"]/a/@title'\n",
    "href = [\"https://javdb.com\" + i for i in html.xpath(href_xpath)]\n",
    "# title = [i.replace(\"xa0\",\"\") for i in html.xpath(title_xpath)]\n",
    "all_hrefs = [get_magnet_urls(h) for h in href]"
   ]
  },
  {
   "cell_type": "code",
   "execution_count": 40,
   "id": "a4377900",
   "metadata": {
    "ExecuteTime": {
     "end_time": "2023-10-28T18:16:20.461667Z",
     "start_time": "2023-10-28T18:16:20.457678Z"
    }
   },
   "outputs": [],
   "source": [
    "fhs = [re.findall(\"\\w+-(\\d+)\", ele)[-1] for ele in os.listdir(r\"\\\\Desktop-3j9bsbd\\g\\JAV\\河北采花\")]\n",
    "fhs = [i.upper() for i in fhs]\n"
   ]
  },
  {
   "cell_type": "code",
   "execution_count": 41,
   "id": "ea187561",
   "metadata": {
    "ExecuteTime": {
     "end_time": "2023-10-28T18:16:23.327880Z",
     "start_time": "2023-10-28T18:16:23.316908Z"
    },
    "scrolled": true
   },
   "outputs": [
    {
     "name": "stdout",
     "output_type": "stream",
     "text": [
      "magnet:?xt=urn:btih:8d9fe2171c08639190f1f2ae072dd064acb03dde&dn=[javdb.com]SSIS-913-UC.torrent.无码破解 \n",
      "\n",
      "magnet:?xt=urn:btih:4d366036e911692a04fa1f298da23c4b84762f8f&dn=[javdb.com]SSIS-801-UC.torrent.无码破解 \n",
      "\n",
      "magnet:?xt=urn:btih:1e0e23ad6495548ddb8e2d2e716fa5e7399ac53c&dn=[javdb.com]SSIS-762-UC.torrent.无码破解 \n",
      "\n",
      "magnet:?xt=urn:btih:be52d09f32f3c9fe14c0d464c5e81d63c4bf03ec&dn=[javdb.com]SSIS-721-UC.torrent.无码破解 \n",
      "\n",
      "magnet:?xt=urn:btih:d5926c9530e965b00b8a7767b9e36d79a9e70294&dn=[javdb.com]SSIS-685-UC.torrent.无码破解 \n",
      "\n",
      "magnet:?xt=urn:btih:028f4b8d996f1160c7b5a88112b349bba5b767eb&dn=[javdb.com]SSIS-595-C.torrent \n",
      "\n",
      "magnet:?xt=urn:btih:bd7e206c73485f3afac88b5c71c8c738a479d63a&dn=[javdb.com]SSIS-499-C.torrent \n",
      "\n",
      "magnet:?xt=urn:btih:ea845f47c847fcf23fa0ca25e46db233cff66076&dn=[javdb.com]ssis-468-C.rar.torrent \n",
      "\n",
      "magnet:?xt=urn:btih:1c41ea9ae16daf083e3e9ebccba8542482359e7b&dn=[javdb.com]SSIS-413 \n",
      "\n",
      "magnet:?xt=urn:btih:2d57cef056fdfe507c6005ad27a20a7f412940d8&dn=[javdb.com]ssis-387-C.torrent \n",
      "\n",
      "magnet:?xt=urn:btih:d148d68aac054a3dd8123866cc006d7cf1bd9f3c&dn=[javdb.com]ssis-361-C.torrent \n",
      "\n",
      "magnet:?xt=urn:btih:372116bff3ca01d6f35837e885c53f17d903ebde&dn=[javdb.com]ssis-334-C.torrent \n",
      "\n",
      "magnet:?xt=urn:btih:bc462ee6953471590f749fd051d36572f1d01552&dn=[javdb.com]ssis-308-C.torrent \n",
      "\n",
      "magnet:?xt=urn:btih:4b61835b95e3f7d0e639876a6c1c30e7f1dce5f3&dn=[javdb.com]ssis-280-C.torrent \n",
      "\n",
      "magnet:?xt=urn:btih:06415f9a554587bda0bed56d58e433a3be78a272&dn=[javdb.com]SSIS-222-C.torrent \n",
      "\n",
      "magnet:?xt=urn:btih:471f31c52f326059a1bfebb5d5179869d85bdcc8&dn=[javdb.com]ssis-194-C.torrent \n",
      "\n",
      "magnet:?xt=urn:btih:f4133ae50fc9dc6269d769a1b7b7e165b73b4e63&dn=[javdb.com]SSIS-158-C.torrent \n",
      "\n",
      "magnet:?xt=urn:btih:87996d496eb5787a1820481c622a6bdb04d53083&dn=[javdb.com]SSIS-129-C.torrent \n",
      "\n",
      "magnet:?xt=urn:btih:acaa132aa0482b60e87de794db37ae9809e90888&dn=[javdb.com][7sht.me]SSNI-309-C.torrent \n",
      "\n"
     ]
    }
   ],
   "source": [
    "for i, ele in enumerate(all_hrefs):\n",
    "    # print(ele)\n",
    "    try:\n",
    "        fh = re.findall(\"\\w+-(\\d+)\", ele)[-1]\n",
    "    except:\n",
    "        fh = re.findall(\"\\[javdb.com][A-Za-z]+(\\d+)\", ele)[-1]\n",
    "        # print(ele,fh)\n",
    "    if fh not in fhs:\n",
    "        # pass\n",
    "        # print(fh.upper(),ele)\n",
    "        print(ele,\"\\n\")\n",
    "    # if (1+i) % 2 == 0:"
   ]
  },
  {
   "cell_type": "markdown",
   "id": "e03cf823",
   "metadata": {},
   "source": [
    "## 小湊よつ葉"
   ]
  },
  {
   "cell_type": "code",
   "execution_count": 50,
   "id": "dd8fc496",
   "metadata": {
    "ExecuteTime": {
     "end_time": "2023-10-28T18:18:50.416545Z",
     "start_time": "2023-10-28T18:18:40.653652Z"
    }
   },
   "outputs": [],
   "source": [
    "query_url = \"https://javdb.com/actors/yr3X0?t=c&sort_type=0\"\n",
    "res = requests.get(query_url)\n",
    "html = etree.HTML(res.text)\n",
    "href_xpath = './/div[@class=\"item\"]/a/@href'\n",
    "title_xpath = './/div[@class=\"item\"]/a/@title'\n",
    "href = [\"https://javdb.com\" + i for i in html.xpath(href_xpath)]\n",
    "title = [i.replace(\"xa0\",\"\") for i in html.xpath(title_xpath)]\n",
    "all_hrefs = [get_magnet_urls(h) for h in href]"
   ]
  },
  {
   "cell_type": "code",
   "execution_count": 43,
   "id": "ebe95d9f",
   "metadata": {
    "ExecuteTime": {
     "end_time": "2023-10-28T18:17:50.053185Z",
     "start_time": "2023-10-28T18:17:50.047399Z"
    }
   },
   "outputs": [],
   "source": [
    "fhs = [re.findall(\"\\w+-(\\d+)\", ele)[-1]\n",
    "       for ele in os.listdir(r\"\\\\Desktop-3j9bsbd\\g\\JAV\\小湊よつ葉\")]\n",
    "fhs = [i.upper() for i in fhs]"
   ]
  },
  {
   "cell_type": "code",
   "execution_count": 51,
   "id": "e4d316c8",
   "metadata": {
    "ExecuteTime": {
     "end_time": "2023-10-28T18:18:51.156060Z",
     "start_time": "2023-10-28T18:18:51.138073Z"
    }
   },
   "outputs": [],
   "source": [
    "fhs = []"
   ]
  },
  {
   "cell_type": "code",
   "execution_count": 52,
   "id": "30bd38ec",
   "metadata": {
    "ExecuteTime": {
     "end_time": "2023-10-28T18:18:51.748059Z",
     "start_time": "2023-10-28T18:18:51.730075Z"
    },
    "collapsed": true
   },
   "outputs": [
    {
     "name": "stdout",
     "output_type": "stream",
     "text": [
      "magnet:?xt=urn:btih:cdb5fc7e39a3266a54fc9a74c2632fdbf4387472&dn=[javdb.com]STARS-918-C.torrent \n",
      "\n",
      "magnet:?xt=urn:btih:21f78f1326552bed4b57d3036c027238eb253d35&dn=[javdb.com]STARS-910-C.torrent \n",
      "\n",
      "magnet:?xt=urn:btih:6c09529a0d973c4e5b176122eff899f62594c31d&dn=[javdb.com]STARS-874-C.torrent \n",
      "\n",
      "magnet:?xt=urn:btih:780acd28aa574d661e171484b628b127c0e83076&dn=[javdb.com]STARS-842-C.torrent \n",
      "\n",
      "magnet:?xt=urn:btih:5a24f5e7707a7acdcfc867176a4d7da50fce759d&dn=[javdb.com]STARS-814-C.torrent \n",
      "\n",
      "magnet:?xt=urn:btih:60cbc49f5a50f20094a0b8ea7e411459550109a9&dn=[javdb.com]STARS-796-C.torrent \n",
      "\n",
      "magnet:?xt=urn:btih:4964c6810f63329ffeb2ac26e4cd6cd4358a8018&dn=[javdb.com]STARS-776-C.torrent \n",
      "\n",
      "magnet:?xt=urn:btih:8f7aa656c39f7c6a625669edf4e77c2ea7ec5f25&dn=[javdb.com]STARS-757-C.torrent \n",
      "\n",
      "magnet:?xt=urn:btih:d0e91cd6ee761b84340a250eaae7bf53faa9afa3&dn=[javdb.com]STARS-765-C.torrent \n",
      "\n",
      "magnet:?xt=urn:btih:91f721278e683f7beb5909f33f8d9cf632221c57&dn=[javdb.com]stars-685-C.torrent \n",
      "\n"
     ]
    }
   ],
   "source": [
    "for i, ele in enumerate(all_hrefs):\n",
    "    # print(ele)\n",
    "    try:\n",
    "        fh = re.findall(\"\\w+-(\\d+)\", ele)[-1]\n",
    "    except:\n",
    "        fh = re.findall(\"\\[javdb.com][A-Za-z]+(\\d+)\", ele)[-1]\n",
    "        # print(ele,fh)\n",
    "    if fh not in fhs:\n",
    "        # pass\n",
    "        # print(fh.upper(),ele)\n",
    "        print(ele,\"\\n\")\n",
    "    # if (1+i) % 2 == 0:"
   ]
  },
  {
   "cell_type": "markdown",
   "id": "646efd59",
   "metadata": {},
   "source": [
    "## 有栖花緋"
   ]
  },
  {
   "cell_type": "code",
   "execution_count": 45,
   "id": "4dc11d8a",
   "metadata": {
    "ExecuteTime": {
     "end_time": "2023-10-28T18:18:18.805823Z",
     "start_time": "2023-10-28T18:17:58.760745Z"
    }
   },
   "outputs": [],
   "source": [
    "query_url = \"https://javdb.com/actors/1G09?t=c,d&sort_type=0\"\n",
    "res = requests.get(query_url)\n",
    "html = etree.HTML(res.text)\n",
    "href_xpath = './/div[@class=\"item\"]/a/@href'\n",
    "title_xpath = './/div[@class=\"item\"]/a/@title'\n",
    "href = [\"https://javdb.com\" + i for i in html.xpath(href_xpath)]\n",
    "title = [i.replace(\"xa0\",\"\") for i in html.xpath(title_xpath)]\n",
    "all_hrefs = [get_magnet_urls(h) for h in href]"
   ]
  },
  {
   "cell_type": "code",
   "execution_count": 46,
   "id": "9c164813",
   "metadata": {
    "ExecuteTime": {
     "end_time": "2023-10-28T18:18:21.233507Z",
     "start_time": "2023-10-28T18:18:21.226526Z"
    }
   },
   "outputs": [],
   "source": [
    "fhs = [re.findall(\"\\w+-(\\d+)\", ele)[-1] for ele in os.listdir(r\"\\\\Desktop-3j9bsbd\\g\\JAV\\有栖花緋\")]\n",
    "fhs = [i.upper() for i in fhs]"
   ]
  },
  {
   "cell_type": "code",
   "execution_count": 48,
   "id": "bbe9addb",
   "metadata": {
    "ExecuteTime": {
     "end_time": "2023-10-28T18:18:26.794746Z",
     "start_time": "2023-10-28T18:18:26.784745Z"
    }
   },
   "outputs": [],
   "source": [
    "fhs = []"
   ]
  },
  {
   "cell_type": "code",
   "execution_count": 49,
   "id": "1e73e877",
   "metadata": {
    "ExecuteTime": {
     "end_time": "2023-10-28T18:18:27.368780Z",
     "start_time": "2023-10-28T18:18:27.336610Z"
    },
    "collapsed": true
   },
   "outputs": [
    {
     "name": "stdout",
     "output_type": "stream",
     "text": [
      "magnet:?xt=urn:btih:95fe9bb86f45822307048dfff9a4d704dd5341d9&dn=[javdb.com]SSIS-870-C.torrent \n",
      "\n",
      "magnet:?xt=urn:btih:5b8b43a512f680865944c8d3c8b7e3b7e36db16c&dn=[javdb.com]SSIS-858-C.torrent \n",
      "\n",
      "magnet:?xt=urn:btih:0d0f852318492cfd19d105883ec1609c2c25c218&dn=[javdb.com]SSIS-817-C.torrent \n",
      "\n",
      "magnet:?xt=urn:btih:f10eadc0046ea99ee81c3c70a6fcdc2c76271a6a&dn=[javdb.com]SSIS-784-C.torrent \n",
      "\n",
      "magnet:?xt=urn:btih:87bed859a9d319b424db4606b10688e0ba5defc5&dn=[javdb.com]SSIS-742-C.torrent \n",
      "\n",
      "magnet:?xt=urn:btih:37e171bc1b55826668e12544ff6c985a9f6b6771&dn=[javdb.com]SSIS-703-C.torrent \n",
      "\n",
      "magnet:?xt=urn:btih:6d9cc142687f99076d1dd94810a035c8bb743199&dn=[javdb.com]SSIS-668-C.torrent \n",
      "\n",
      "magnet:?xt=urn:btih:47ff9d8975a1e524a58e8a0dc69b9c9e20b3a3ab&dn=[javdb.com]SSIS-641-C.torrent \n",
      "\n",
      "magnet:?xt=urn:btih:1521845b79d7e6ab14d27c0cd9cc36e2d2372467&dn=[javdb.com]SSIS-547 \n",
      "\n",
      "magnet:?xt=urn:btih:ecec4ac9487e434e19459964885162ba0730f12a&dn=[javdb.com]ssis-455-C.rar.torrent \n",
      "\n",
      "magnet:?xt=urn:btih:0dfb4415badb5eb1aaf3308ff08a14e48f74d15d&dn=[javdb.com]ssis-426-4k-C.torrent \n",
      "\n",
      "magnet:?xt=urn:btih:06145953b6521a6345b2add10011c676cde3029f&dn=[javdb.com]ssis-398-C.torrent \n",
      "\n",
      "magnet:?xt=urn:btih:855eb4000bef26dfc82276b81c0ba0b4d52417e2&dn=[javdb.com]ssis-345-C.torrent \n",
      "\n",
      "magnet:?xt=urn:btih:19ce5dd91063ebfdcb98789975a2cb4a50e8d15a&dn=[javdb.com]ssis-319-C.torrent \n",
      "\n",
      "magnet:?xt=urn:btih:bdea0361867d6898ae870a0cb82d469b657d4061&dn=[javdb.com]ssis-235-C.torrent \n",
      "\n",
      "magnet:?xt=urn:btih:3a754aec8af88638022f7f00b2aae82953de89c9&dn=[javdb.com]ssis-206-C.torrent \n",
      "\n",
      "magnet:?xt=urn:btih:e48bdb7e400d26792392c02809a983bdf702ca00&dn=[javdb.com]ssis-111-C.torrent \n",
      "\n",
      "magnet:?xt=urn:btih:aa868513b7fa8d979bce7c57ea745ff7ca8afbf6&dn=[javdb.com]ssis-084-C.torrent \n",
      "\n",
      "magnet:?xt=urn:btih:95b74a2632631a4309e1bc82e10f8e1fb5d4ab43&dn=[javdb.com]SSIS034C  \n",
      "\n",
      "magnet:?xt=urn:btih:4754dfb3df507a9c20c720df127f7f7675f62d7b&dn=[javdb.com]ssis-011-C.torrent \n",
      "\n",
      "magnet:?xt=urn:btih:c25b1021b529934831141d82dc5eb239164b09a9&dn=[javdb.com]ssni-961-C.torrent \n",
      "\n",
      "magnet:?xt=urn:btih:742a2c95db8b756d76f21d2fd7f8d0fc23b3afe5&dn=[javdb.com]SSNI937C字幕 \n",
      "\n",
      "magnet:?xt=urn:btih:348d68e07459bdb7ac1af0a0f7b01c213ad60ddc&dn=[javdb.com]ssni-914-C.torrent \n",
      "\n",
      "magnet:?xt=urn:btih:12ce547144fb913910fc3e542bc6737a43e877ff&dn=[javdb.com]ssni-887-C.torrent \n",
      "\n"
     ]
    }
   ],
   "source": [
    "for i, ele in enumerate(all_hrefs):\n",
    "    # print(ele)\n",
    "    try:\n",
    "        fh = re.findall(\"\\w+-(\\d+)\", ele)[-1]\n",
    "    except:\n",
    "        fh = re.findall(\"\\[javdb.com][A-Za-z]+(\\d+)\", ele)[-1]\n",
    "        # print(ele,fh)\n",
    "    if fh not in fhs:\n",
    "        # pass\n",
    "        # print(fh.upper(),ele)\n",
    "        print(ele,\"\\n\")\n",
    "    # if (1+i) % 2 == 0:"
   ]
  },
  {
   "cell_type": "markdown",
   "id": "0274887e",
   "metadata": {},
   "source": [
    "## 明日花"
   ]
  },
  {
   "cell_type": "code",
   "execution_count": 29,
   "id": "0cb8b3ed",
   "metadata": {
    "ExecuteTime": {
     "end_time": "2023-09-24T09:04:34.706834Z",
     "start_time": "2023-09-24T09:03:36.537294Z"
    }
   },
   "outputs": [],
   "source": [
    "query_url = \"https://javdb.com/actors/wm9B?sort_type=0&t=c\"\n",
    "res = requests.get(query_url)\n",
    "html = etree.HTML(res.text)\n",
    "href_xpath = './/div[@class=\"item\"]/a/@href'\n",
    "title_xpath = './/div[@class=\"item\"]/a/@title'\n",
    "href = [\"https://javdb.com\" + i for i in html.xpath(href_xpath)]\n",
    "title = [i.replace(\"xa0\",\"\") for i in html.xpath(title_xpath)]\n",
    "all_hrefs = [get_magnet_urls(h) for h in href]"
   ]
  },
  {
   "cell_type": "code",
   "execution_count": 30,
   "id": "54fb5362",
   "metadata": {
    "ExecuteTime": {
     "end_time": "2023-09-24T09:04:37.842504Z",
     "start_time": "2023-09-24T09:04:37.147211Z"
    }
   },
   "outputs": [],
   "source": [
    "fhs = [re.findall(\"\\w+-(\\d+)\", ele)[-1] for ele in os.listdir(r\"\\\\10.168.1.131\\hdd3t\\JAV\\明日花绮罗\")]\n",
    "fhs = [i.upper() for i in fhs]"
   ]
  },
  {
   "cell_type": "code",
   "execution_count": 31,
   "id": "d66e685a",
   "metadata": {
    "ExecuteTime": {
     "end_time": "2023-09-24T09:04:38.725816Z",
     "start_time": "2023-09-24T09:04:38.706806Z"
    },
    "scrolled": false
   },
   "outputs": [
    {
     "name": "stdout",
     "output_type": "stream",
     "text": [
      "magnet:?xt=urn:btih:9992956982c041ed23dcd2cc71f984bde2998bb8&dn=[javdb.com]snis-052-C.torrent \n",
      "\n",
      "magnet:?xt=urn:btih:b5fd0b57f5dbab20e2c2f74169f7ec1897096017&dn=[javdb.com]SNIS-030-C.torrent \n",
      "\n",
      "magnet:?xt=urn:btih:ec973cfe7d6cbee52518911dc341a77703a01956&dn=[javdb.com]soe-976-C.torrent \n",
      "\n",
      "magnet:?xt=urn:btih:69c916faae94f34dc2d72bc22c108b0f912c84df&dn=[javdb.com][44x.me]ABS-218-C \n",
      "\n",
      "magnet:?xt=urn:btih:b246fdc5f9a3619f340b90aae3a1dc392a07625e&dn=[javdb.com][44x.me]MAS-103-C \n",
      "\n",
      "magnet:?xt=urn:btih:2889ad82645f3f511cb72fdf8e69ed0e689e900d&dn=[javdb.com]spc-004 明日花色情制服特別篇 ~ 明日花キララが○○しながらエロまみれ(中文字幕) \n",
      "\n"
     ]
    }
   ],
   "source": [
    "\n",
    "for i, ele in enumerate(all_hrefs):\n",
    "    # print(ele)\n",
    "    try:\n",
    "        fh = re.findall(\"\\w+-(\\d+)\", ele)[-1]\n",
    "    except:\n",
    "        fh = re.findall(\"\\[javdb.com][A-Za-z]+(\\d+)\", ele)[-1]\n",
    "        # print(ele,fh)\n",
    "    if fh not in fhs:\n",
    "        # pass\n",
    "        # print(fh.upper(),ele)\n",
    "        print(ele,\"\\n\")\n",
    "    # if (1+i) % 2 == 0:"
   ]
  },
  {
   "cell_type": "markdown",
   "id": "c1a52ed9",
   "metadata": {},
   "source": [
    "## 山岸逢花"
   ]
  },
  {
   "cell_type": "code",
   "execution_count": 4,
   "id": "dae6f2dc",
   "metadata": {
    "ExecuteTime": {
     "end_time": "2023-10-29T06:04:09.722723Z",
     "start_time": "2023-10-29T06:03:14.105157Z"
    }
   },
   "outputs": [],
   "source": [
    "all_hrefs = []\n",
    "for page in range(1, 3):\n",
    "    query_url = 'https://javdb.com/actors/8BDW?page={}&sort_type=0&t=c'.format(page)\n",
    "    res = requests.get(query_url)\n",
    "    html = etree.HTML(res.text)\n",
    "    href_xpath = './/div[@class=\"item\"]/a/@href'\n",
    "    title_xpath = './/div[@class=\"item\"]/a/@title'\n",
    "    href = [\"https://javdb.com\" + i for i in html.xpath(href_xpath)]\n",
    "#     title = [i.replace(\"xa0\",\"\") for i in html.xpath(title_xpath)]\n",
    "    all_hrefs.extend([get_magnet_urls(h) for h in href])\n",
    "    # print(page)"
   ]
  },
  {
   "cell_type": "code",
   "execution_count": 6,
   "id": "26b43d07",
   "metadata": {
    "ExecuteTime": {
     "end_time": "2023-10-29T06:04:13.646954Z",
     "start_time": "2023-10-29T06:04:13.634987Z"
    }
   },
   "outputs": [],
   "source": [
    "fhs = [re.findall(\"\\w+-(\\d+)\", ele)[-1] for ele in os.listdir(r\"\\\\Desktop-3j9bsbd\\g\\JAV\\山岸逢花\")]\n",
    "fhs = [i.upper() for i in fhs]"
   ]
  },
  {
   "cell_type": "code",
   "execution_count": 7,
   "id": "f73d1229",
   "metadata": {
    "ExecuteTime": {
     "end_time": "2023-10-29T06:04:14.193726Z",
     "start_time": "2023-10-29T06:04:14.177794Z"
    }
   },
   "outputs": [
    {
     "name": "stdout",
     "output_type": "stream",
     "text": [
      "magnet:?xt=urn:btih:93933a03dc588421f36d050eb5792534ac5d4bf1&dn=[javdb.com]PRED-505-UC.torrent.无码破解 \n",
      "\n",
      "magnet:?xt=urn:btih:3535b85a4bfb14e07a2614cdd4db911f4f6d7db5&dn=[javdb.com]PRED-500-UC.torrent.无码破解 \n",
      "\n",
      "magnet:?xt=urn:btih:c6aa0d33ebb395e312a6ecd90caa6df190079f7e&dn=[javdb.com]PRED-485-UC.torrent.无码破解 \n",
      "\n",
      "magnet:?xt=urn:btih:0fc4d734f07b7b189a57e9277aa892e747a0a101&dn=[javdb.com]PRED-477-UC.torrent.无码破解 \n",
      "\n",
      "magnet:?xt=urn:btih:a1663c625f7cf61a64690b05208f6ceefe2b581c&dn=[javdb.com]PRED-467-UC.torrent.无码破解 \n",
      "\n",
      "magnet:?xt=urn:btih:f5d703e24858cf516762545205d4429d8afdcdc4&dn=[javdb.com]PRED-462-C.torrent.无码破解 \n",
      "\n",
      "magnet:?xt=urn:btih:8f38664b92a6141ff6ce7df0006ad00b9f00f126&dn=[javdb.com]PRED-456-C.torrent.无码破解 \n",
      "\n",
      "magnet:?xt=urn:btih:354eeb9c2170bb38c61260d5cc481812c06933f5&dn=[javdb.com]PRED-444-C.torrent \n",
      "\n",
      "magnet:?xt=urn:btih:115ade94111b94f81051543885eac800ccbcd138&dn=[javdb.com]PRED-437 \n",
      "\n",
      "magnet:?xt=urn:btih:107db05ee4b6c50cac36dbe5e096dd4c29684c69&dn=[javdb.com]PRED-427 \n",
      "\n",
      "magnet:?xt=urn:btih:fc1532061e23c49aedc808bd96194aded83c97fb&dn=[javdb.com]PRED-421-C.torrent \n",
      "\n",
      "magnet:?xt=urn:btih:289e4ac010f72f653c901e601398f25138102534&dn=[javdb.com]cawd-386-C.rar.torrent \n",
      "\n",
      "magnet:?xt=urn:btih:36d6ab743ab131e732ceb13f61614db227d0e327&dn=[javdb.com][98t.tv]pred-402-C.torrent \n",
      "\n",
      "magnet:?xt=urn:btih:f522f84cc7eb62f5f2021f8ade41f931f1d485de&dn=[javdb.com]PRED-395 \n",
      "\n",
      "magnet:?xt=urn:btih:b2e4eca74b95f6c9b195f28dbf910e794d35132d&dn=[javdb.com]pred-388-C.torrent \n",
      "\n",
      "magnet:?xt=urn:btih:719b76b78a0b24cd423cd77fbbb8edbee3110dcd&dn=[javdb.com]pred-381-C.torrent \n",
      "\n",
      "magnet:?xt=urn:btih:b795302586c0d89ac045df3167ddb94cf8c4f18c&dn=[javdb.com]PRED-376-C.torrent \n",
      "\n",
      "magnet:?xt=urn:btih:d41667ad5477feaa7491cd3610ca18bc0922d890&dn=[javdb.com]pred-367-C.torrent \n",
      "\n",
      "magnet:?xt=urn:btih:bb3dc225fadc7d04725c9c29cba90f5048599fdd&dn=[javdb.com]pred-360-C.torrent \n",
      "\n",
      "magnet:?xt=urn:btih:fbf0bf2d2e017bf4c0ab76682939441de033c5a2&dn=[javdb.com]pred-351-C.torrent \n",
      "\n",
      "magnet:?xt=urn:btih:4daaf238925a182fce145be9682228b302ff67e9&dn=[javdb.com]pred-344-C.torrent \n",
      "\n",
      "magnet:?xt=urn:btih:c7878cb6772e4e22ee3f3f98d5614d83d18c6f04&dn=[javdb.com]pred-334-C.torrent \n",
      "\n",
      "magnet:?xt=urn:btih:74cfdc19dfb4f04975389dade57c8c264edc8055&dn=[javdb.com]pred-331-c.torrent \n",
      "\n",
      "magnet:?xt=urn:btih:ac9ee9437f7cd4fb31bb9513c7666b805fe25aba&dn=[javdb.com]pred-320-C.torrent \n",
      "\n",
      "magnet:?xt=urn:btih:7f9606ccacf00d74b4648ede63ab71d62476c050&dn=[javdb.com]PRED-314-C.torrent \n",
      "\n",
      "magnet:?xt=urn:btih:cd016c716bbd328abaf6bbc4386ff8a3e09e6598&dn=[javdb.com]pred-305-C.torrent \n",
      "\n",
      "magnet:?xt=urn:btih:83f81cc6ee377e87b9821178dfed8a2c66408c1d&dn=[javdb.com]pred-298-C.torrent \n",
      "\n",
      "magnet:?xt=urn:btih:1b37f19d2af0a50b3cc7904cc9301ae083283fdc&dn=[javdb.com]pred-291-C.torrent \n",
      "\n",
      "magnet:?xt=urn:btih:c488e0b1c99e93f438ab429682fd40c3ef08dab2&dn=[javdb.com]meyd-651-C.torrent \n",
      "\n",
      "magnet:?xt=urn:btih:c10ae9c180e1ab6785af397a6b8363ddd885ea59&dn=[javdb.com]pred-285-C.torrent \n",
      "\n",
      "magnet:?xt=urn:btih:567be2a2c79d704cb0b6121e20a9923ad2d352e5&dn=[javdb.com]pred-277-C.torrent \n",
      "\n",
      "magnet:?xt=urn:btih:7b8f06394a76569aebd3062a7e299d4f856b7b98&dn=[javdb.com]pred-271-C.torrent \n",
      "\n",
      "magnet:?xt=urn:btih:2ff0ac27cf0189f75372ccc85200f0849318ebdb&dn=[javdb.com]pred-262-C.torrent \n",
      "\n",
      "magnet:?xt=urn:btih:8c6d3881f5a17f238ea4157e1cd5d55697f2a7e5&dn=[javdb.com]pred-256-C.torrent \n",
      "\n",
      "magnet:?xt=urn:btih:8a85981e3eafa272d12547242e0edf6bf6afca5f&dn=[javdb.com]pred-246-C.torrent \n",
      "\n",
      "magnet:?xt=urn:btih:e73520c08449edfff7b77c98423962da9de262ed&dn=[javdb.com]pred-239-C.torrent \n",
      "\n",
      "magnet:?xt=urn:btih:554ccd8539e117b4b3a88870bd5e8366c7681f9d&dn=[javdb.com]pred-233-C.torrent \n",
      "\n",
      "magnet:?xt=urn:btih:d63414eb2aa12547d24aa77ad3500e74ad3c37ac&dn=[javdb.com]pred-221-C.torrent \n",
      "\n",
      "magnet:?xt=urn:btih:b13d13de70c30944774c9f8a0c7465da3b95f631&dn=[javdb.com]jul-179-C.torrent \n",
      "\n",
      "magnet:?xt=urn:btih:33b99fce47516fbc205b7ebb29d1fa4d980607a6&dn=[javdb.com]pred-226-C.torrent \n",
      "\n",
      "magnet:?xt=urn:btih:89ff15404376b36a30fa060cfb18850db7d6bfb3&dn=[javdb.com]pred-213-C.torrent \n",
      "\n",
      "magnet:?xt=urn:btih:13e679c7c8ce392c76d2247ca43e9292618e0f7c&dn=[javdb.com]PRED206C  \n",
      "\n",
      "magnet:?xt=urn:btih:88530bc089e0c2f7499af7402b168c2313e9860e&dn=[javdb.com]wanz-917-C.torrent \n",
      "\n",
      "magnet:?xt=urn:btih:879f36826dbf69cf330d312710b6334c4e8ec558&dn=[javdb.com]pred-200-c.torrent \n",
      "\n",
      "magnet:?xt=urn:btih:fec312915f45aa2f91d47e0e2795005ab12512d0&dn=[javdb.com]pred-193-C.torrent \n",
      "\n",
      "magnet:?xt=urn:btih:ba7d683b5eadff7296f8adbbf1c891de719b6681&dn=[javdb.com]PRED178C  \n",
      "\n",
      "magnet:?xt=urn:btih:7400f1f99423628baea9e97457ca5dbada6d9d47&dn=[javdb.com]PRED-172-C.torrent \n",
      "\n",
      "magnet:?xt=urn:btih:ec786cd7f806d22584ebe452eabbec800c1c6beb&dn=[javdb.com]pred-162-C.torrent \n",
      "\n",
      "magnet:?xt=urn:btih:5fffd5dd47b3797986e243824b446e4643e330b7&dn=[javdb.com][22sht.me]PRED-147-C.torrent \n",
      "\n",
      "magnet:?xt=urn:btih:71800e6304029ed0a2ce05b761b01316e6d59210&dn=[javdb.com]PRED-124 山岸逢花固定活塞抽筋内射[高清中文字幕][有码] \n",
      "\n",
      "magnet:?xt=urn:btih:8cd5ed50be78736a62173e7f73fb09b11f53ad76&dn=[javdb.com]pred-111-C \n",
      "\n",
      "magnet:?xt=urn:btih:a821daa681460ddbafd19530d80dec6cee9ff49c&dn=[javdb.com]prtd-017-C.torrent \n",
      "\n",
      "magnet:?xt=urn:btih:f366dab7fa137764b47df4e07ce102ee905a3a34&dn=[javdb.com]pred-083-C.torrent \n",
      "\n",
      "magnet:?xt=urn:btih:ed936b405bb3c51c5dc01f2286bf94c2e4c0e1b6&dn=[javdb.com]pred-064-C.torrent \n",
      "\n",
      "magnet:?xt=urn:btih:c6e7ec671556320a548172cb1a63c9400ef7a17d&dn=[javdb.com][22sht.me]PRED-057-C.torrent \n",
      "\n",
      "magnet:?xt=urn:btih:c0f94999f33662e42b49ca4644cf1e6bc6cd9204&dn=[javdb.com]pred-051-C.torrent \n",
      "\n",
      "magnet:?xt=urn:btih:32dfd747fe6e8cfb16a196d217f02a571495b1e0&dn=[javdb.com][7sht.me]PRED-036-C.torrent \n",
      "\n"
     ]
    }
   ],
   "source": [
    "fhs = [i.upper() for i in fhs]\n",
    "for i, ele in enumerate(all_hrefs):\n",
    "    # print(ele)\n",
    "    try:\n",
    "        fh = re.findall(\"\\w+-(\\d+)\", ele)[-1]\n",
    "    except:\n",
    "        fh = re.findall(\"\\[javdb.com][A-Za-z]+(\\d+)\", ele)[-1]\n",
    "        # print(ele,fh)\n",
    "    if fh not in fhs:\n",
    "        # pass\n",
    "        # print(fh.upper(),ele)\n",
    "        print(ele, \"\\n\")\n",
    "    # if (1+i) % 2 == 0:"
   ]
  },
  {
   "cell_type": "markdown",
   "id": "a863b1e0",
   "metadata": {
    "ExecuteTime": {
     "end_time": "2023-10-06T13:48:34.827032Z",
     "start_time": "2023-10-06T13:48:34.813476Z"
    }
   },
   "source": [
    "## 三上"
   ]
  },
  {
   "cell_type": "code",
   "execution_count": null,
   "id": "84cc111e",
   "metadata": {
    "ExecuteTime": {
     "end_time": "2023-10-28T18:28:24.477821Z",
     "start_time": "2023-10-28T18:27:52.322680Z"
    }
   },
   "outputs": [],
   "source": []
  },
  {
   "cell_type": "code",
   "execution_count": 68,
   "id": "fa9653d4",
   "metadata": {
    "ExecuteTime": {
     "end_time": "2023-10-28T18:32:41.166268Z",
     "start_time": "2023-10-28T18:31:30.771794Z"
    }
   },
   "outputs": [],
   "source": [
    "all_hrefs = []\n",
    "for page in range(1, 3):\n",
    "    query_url = 'https://javdb.com/actors/Av2e?page={}&sort_type=0&t=c'.format(page)\n",
    "    res = requests.get(query_url)\n",
    "    html = etree.HTML(res.text)\n",
    "    href_xpath = './/div[@class=\"item\"]/a/@href'\n",
    "    title_xpath = './/div[@class=\"item\"]/a/@title'\n",
    "    href = [\"https://javdb.com\" + i for i in html.xpath(href_xpath)]\n",
    "#     title = [i.replace(\"xa0\",\"\") for i in html.xpath(title_xpath)]\n",
    "    all_hrefs.extend([get_magnet_urls(h) for h in href])\n",
    "    # print(page)"
   ]
  },
  {
   "cell_type": "code",
   "execution_count": 69,
   "id": "8f0a6e16",
   "metadata": {
    "ExecuteTime": {
     "end_time": "2023-10-28T18:33:24.216400Z",
     "start_time": "2023-10-28T18:33:24.188875Z"
    }
   },
   "outputs": [
    {
     "name": "stdout",
     "output_type": "stream",
     "text": [
      "magnet:?xt=urn:btih:ad311931d6830f65bb9f3c7a39e07cfe291da3b6&dn=[javdb.com]ssni-756-C.torrent \n",
      "\n",
      "magnet:?xt=urn:btih:f8973f74a0c456ce343fc2d0b2f3e53ef09b6dcf&dn=[javdb.com]SIVR-061-C \n",
      "\n",
      "magnet:?xt=urn:btih:956343e0cff87b9c7357d5e667e12bc81469017e&dn=[javdb.com]ssni-618-C.torrent \n",
      "\n",
      "magnet:?xt=urn:btih:0dc2b98d201f91a6daa125a57ed0e7de715e33c6&dn=[javdb.com][7sht.me]ssni-378-C字幕 \n",
      "\n",
      "magnet:?xt=urn:btih:4a878f2425ae4d27bc2cda42fc77a9f5890411b0&dn=[javdb.com][cctv12306.com](MIDE-599)中文字幕纯净版.(三上悠亜)【エスワン専属×ムーディーズ人気シリーズ】 早漏イクイク敏感4SEX \n",
      "\n",
      "magnet:?xt=urn:btih:410ef8b0b875eb99025841ebdc39a1434e3cd70d&dn=[javdb.com]TEK-097-C.torrent \n",
      "\n",
      "magnet:?xt=urn:btih:7e2803032c2bcc2b15d31893cbf9618eb8e2525a&dn=[javdb.com][7sht.me]ssni-322-c字幕 \n",
      "\n",
      "magnet:?xt=urn:btih:0abaa9d5ec7b2a522d0d899c15e879d7871f069a&dn=[javdb.com][7sht.me]SSNI-279-C.torrent \n",
      "\n",
      "magnet:?xt=urn:btih:44578f5c437020f44958af3fb075178aba2f7723&dn=[javdb.com]ssni-229-C.torrent \n",
      "\n",
      "magnet:?xt=urn:btih:9778ad5e4eae9ff0d18b78fd3c1b81a7ba838c12&dn=[javdb.com]【中文字幕】SSNI-205 ネチネチ焦らされゾクゾク快感 ビックンビックン性感開発 オイルマッサージサロン 三上悠亜ssni205 \n",
      "\n",
      "magnet:?xt=urn:btih:9bf17fbcc46f6961f1a25aff4ae40be1a5080fa5&dn=[javdb.com][7sht.me]SSNI-178-C.torrent \n",
      "\n",
      "magnet:?xt=urn:btih:1254b202ec2d8a80050d5c2a2306469e0c61f52e&dn=[javdb.com][7sht.me]ssni-127-c.torrent \n",
      "\n",
      "magnet:?xt=urn:btih:10ff4716e092a02b8966c387b18b0dabb77b86fc&dn=[javdb.com][22sht.me]SSNI-030-C.torrent \n",
      "\n",
      "magnet:?xt=urn:btih:3d1042c15ed9116180a6bbf1f2a6a7a5d986ad7e&dn=[javdb.com][22sht.me]SNIS-964-C.torrent \n",
      "\n"
     ]
    }
   ],
   "source": [
    "fhs = [re.findall(\"\\w+-(\\d+)\", ele)[-1] for ele in os.listdir(r\"\\\\Desktop-3j9bsbd\\g\\JAV\\三上悠亚\")]\n",
    "fhs.extend(re.findall(\"\\w+-(\\d+)\", ele)[-1] for ele in os.listdir(r\"\\\\Desktop-3j9bsbd\\f\\JAV\\三上悠亚\"))\n",
    "fhs = [i.upper() for i in fhs]\n",
    "for i, ele in enumerate(all_hrefs):\n",
    "    # print(ele)\n",
    "    try:\n",
    "        fh = re.findall(\"\\w+-(\\d+)\", ele)[-1]\n",
    "    except:\n",
    "        fh = re.findall(\"\\[javdb.com][A-Za-z]+(\\d+)\", ele)[-1]\n",
    "        # print(ele,fh)\n",
    "    if fh not in fhs:\n",
    "        # pass\n",
    "        # print(fh.upper(),ele)\n",
    "        print(ele, \"\\n\")\n",
    "    # if (:"
   ]
  },
  {
   "cell_type": "markdown",
   "id": "b34eae1c",
   "metadata": {},
   "source": [
    "## 樱空"
   ]
  },
  {
   "cell_type": "code",
   "execution_count": 66,
   "id": "4b5f043b",
   "metadata": {
    "ExecuteTime": {
     "end_time": "2023-10-28T18:31:15.326775Z",
     "start_time": "2023-10-28T18:30:14.975457Z"
    }
   },
   "outputs": [],
   "source": [
    "all_hrefs = []\n",
    "for page in range(1,3):\n",
    "    query_url = 'https://javdb.com/actors/bvWB?page={}&sort_type=0&t=c'.format(page)\n",
    "    res = requests.get(query_url)\n",
    "    html = etree.HTML(res.text)\n",
    "    href_xpath = './/div[@class=\"item\"]/a/@href'\n",
    "    title_xpath = './/div[@class=\"item\"]/a/@title'\n",
    "    href = [\"https://javdb.com\" + i for i in html.xpath(href_xpath)]\n",
    "#     title = [i.replace(\"xa0\",\"\") for i in html.xpath(title_xpath)]\n",
    "    all_hrefs.extend([get_magnet_urls(h) for h in href])\n",
    "    # print(page)"
   ]
  },
  {
   "cell_type": "code",
   "execution_count": 67,
   "id": "887ce9d5",
   "metadata": {
    "ExecuteTime": {
     "end_time": "2023-10-28T18:31:17.575697Z",
     "start_time": "2023-10-28T18:31:17.562697Z"
    },
    "scrolled": true
   },
   "outputs": [
    {
     "name": "stdout",
     "output_type": "stream",
     "text": [
      "magnet:?xt=urn:btih:2b6fc47317f564c0d2a4773ae8dc8ae5de28440c&dn=[javdb.com]IPZZ-119-UC.torrent.无码破解 \n",
      "\n",
      "magnet:?xt=urn:btih:bb48f2ff952952b3ea37569cea11d5c647cbd99a&dn=[javdb.com][22sht.me]IPX-306-C.torrent \n",
      "\n",
      "magnet:?xt=urn:btih:089605093f7abd391b520b3faba4a555bf1592ba&dn=[javdb.com][7sht.me]ipx-292-C.torrent \n",
      "\n",
      "magnet:?xt=urn:btih:d198494ed8e2e0fbc6d9c6fb1ef2f82b27a38259&dn=[javdb.com][7sht.me]IPX-213-c字幕 \n",
      "\n",
      "magnet:?xt=urn:btih:0e8f8030d8ce096e9faf91096ce084ed7470d691&dn=[javdb.com][7sht.me]IPX-181-C.torrent \n",
      "\n",
      "magnet:?xt=urn:btih:ca514163527e560f17601896c98a7a2f017519c0&dn=[javdb.com][7sht.me]IPX-061-C.torrent \n",
      "\n"
     ]
    }
   ],
   "source": [
    "fhs = [re.findall(\"\\w+-(\\d+)\", ele)[-1] for ele in os.listdir(r\"\\\\Desktop-3j9bsbd\\e\\JAV\\櫻空桃\")]\n",
    "fhs = [i.upper() for i in fhs]\n",
    "for i, ele in enumerate(all_hrefs):\n",
    "    # print(ele)\n",
    "    try:\n",
    "        fh = re.findall(\"\\w+-(\\d+)\", ele)[-1]\n",
    "    except:\n",
    "        fh = re.findall(\"\\[javdb.com][A-Za-z]+(\\d+)\", ele)[-1]\n",
    "        # print(ele,fh)\n",
    "    if fh not in fhs and 1:\n",
    "        # pass\n",
    "        # print(fh.upper(),ele)\n",
    "        print(ele, \"\\n\")\n",
    "    # if (:"
   ]
  },
  {
   "cell_type": "markdown",
   "id": "9660cb63",
   "metadata": {},
   "source": [
    "## 新有菜"
   ]
  },
  {
   "cell_type": "code",
   "execution_count": 54,
   "id": "d0b43328",
   "metadata": {
    "ExecuteTime": {
     "end_time": "2023-10-28T18:21:21.619098Z",
     "start_time": "2023-10-28T18:20:48.415209Z"
    }
   },
   "outputs": [],
   "source": [
    "query_url = 'https://javdb.com/actors/RJM8?page=1&sort_type=0&t=c'\n",
    "res = requests.get(query_url)\n",
    "html = etree.HTML(res.text)\n",
    "href_xpath = './/div[@class=\"item\"]/a/@href'\n",
    "title_xpath = './/div[@class=\"item\"]/a/@title'\n",
    "href = [\"https://javdb.com\" + i for i in html.xpath(href_xpath)]\n",
    "title = [i.replace(\"xa0\", \"\") for i in html.xpath(title_xpath)]\n",
    "all_hrefs = [get_magnet_urls(h) for h in href]"
   ]
  },
  {
   "cell_type": "code",
   "execution_count": 7,
   "id": "12f9db53",
   "metadata": {
    "ExecuteTime": {
     "end_time": "2023-10-15T14:26:54.315995Z",
     "start_time": "2023-10-15T14:26:54.301036Z"
    }
   },
   "outputs": [
    {
     "data": {
      "text/plain": [
       "[]"
      ]
     },
     "execution_count": 7,
     "metadata": {},
     "output_type": "execute_result"
    }
   ],
   "source": [
    "all_hrefs"
   ]
  },
  {
   "cell_type": "code",
   "execution_count": 55,
   "id": "c6e9d957",
   "metadata": {
    "ExecuteTime": {
     "end_time": "2023-10-28T18:21:22.497296Z",
     "start_time": "2023-10-28T18:21:22.481129Z"
    }
   },
   "outputs": [
    {
     "name": "stdout",
     "output_type": "stream",
     "text": [
      "magnet:?xt=urn:btih:6476bb002c7560ebfcf4d08f25e2a70da5769f0c&dn=[javdb.com]MIDV-502-UC.torrent.无码破解 \n",
      "\n",
      "magnet:?xt=urn:btih:25e4e1e62998c5e79e4d59bffc920e38108441e2&dn=[javdb.com]MIDV-472-UC.torrent.无码破解 \n",
      "\n",
      "magnet:?xt=urn:btih:25566771c0e2026f58aaaf82087b7f495297a9ca&dn=[javdb.com]MIDV-442-UC.torrent.无码破解 \n",
      "\n",
      "magnet:?xt=urn:btih:a097453a4938b3839352105c9db8b1c5cb9bb52c&dn=[javdb.com]MIDV-413-UC.torrent.无码破解 \n",
      "\n",
      "magnet:?xt=urn:btih:0006916da3aa6dbeaf254dc8eada4e97cdbf7d11&dn=[javdb.com]MIDV-383-UC.torrent.无码破解 \n",
      "\n",
      "magnet:?xt=urn:btih:86500595d52f7d1fa70f365ec190069bb051b1c5&dn=[javdb.com]midv-354-UC.torrent.无码破解 \n",
      "\n",
      "magnet:?xt=urn:btih:ca5a765709ce579b56b61b8cc2570d2198c0cab8&dn=[javdb.com]SSIS-698-UC.torrent.无码破解 \n",
      "\n",
      "magnet:?xt=urn:btih:ccf209ac47ba85196602e41b3f82cad388b0de7b&dn=[javdb.com]MIDV-289-UC.torrent.无码破解 \n",
      "\n",
      "magnet:?xt=urn:btih:22576e74c8cb10bbfc1e6a09797f5dcf875cfedd&dn=[javdb.com]MIDV-271-C.torrent.无码破解 \n",
      "\n",
      "magnet:?xt=urn:btih:527e53f4501fc5588a9314d04e0055faff280966&dn=[javdb.com]MIDV-252-C.torrent \n",
      "\n",
      "magnet:?xt=urn:btih:c44d854ed5b65cd71eec01327deace0530e3ce72&dn=[javdb.com]MIDV-234-C.torrent \n",
      "\n",
      "magnet:?xt=urn:btih:724ed4e90b13e27bad1d53340a15f6dc99827bfd&dn=[javdb.com]MIDV-214 \n",
      "\n",
      "magnet:?xt=urn:btih:58113d38135d3d93eb7adb3a0dcdbe99a1eae1cc&dn=[javdb.com]MIDV-192 \n",
      "\n",
      "magnet:?xt=urn:btih:1f9e94b49c80b9c61a4e553a4aa9a1af022cb980&dn=[javdb.com]FSDSS-437-C.torrent \n",
      "\n",
      "magnet:?xt=urn:btih:1380fd92673fd6519b63f4064d490ddbb879107d&dn=[javdb.com][98t.tv]fsdss-421-C.torrent \n",
      "\n",
      "magnet:?xt=urn:btih:de88b8112a1e19bdc09296f0cd30e54dfaa47f07&dn=[javdb.com]fsdss-408-C.torrent \n",
      "\n",
      "magnet:?xt=urn:btih:5df8228caccde9ef62258290372e229ad05ce2b4&dn=[javdb.com]fsdss-393-C.torrent \n",
      "\n",
      "magnet:?xt=urn:btih:b137765f369aa99e1b55ddcd53093162b36c1408&dn=[javdb.com]fsdss-376-C.torrent \n",
      "\n",
      "magnet:?xt=urn:btih:d43c655cb761cd2fab0a0df093a9c1e663cb6d5f&dn=[javdb.com]fsdss-365-C.torrent \n",
      "\n",
      "magnet:?xt=urn:btih:43951eefc6be7fe148c99746128c27939d6b5cd0&dn=[javdb.com]fsdss-351-C.torrent \n",
      "\n",
      "magnet:?xt=urn:btih:69a032bde11aab0c55eaa01051de00998ed6b989&dn=[javdb.com]fsdss-335-C.torrent \n",
      "\n",
      "magnet:?xt=urn:btih:dd88619e3cfa365b15fcc0bbffb5f467951d2037&dn=[javdb.com]fsdss-304-C.torrent \n",
      "\n",
      "magnet:?xt=urn:btih:7de6ed4fb6c40e3247b70686eb7e68316c886443&dn=[javdb.com]fsdss-289-C.torrent \n",
      "\n",
      "magnet:?xt=urn:btih:ef69fecf66df558112c0ab21519a63cdfa900810&dn=[javdb.com]fsdss-274-c.torrent \n",
      "\n",
      "magnet:?xt=urn:btih:2ad2af1db431de6065c82e639c57404441cbcc9d&dn=[javdb.com]fsdss-259-C.torrent \n",
      "\n",
      "magnet:?xt=urn:btih:b5d79be7a4da68df52299c843c04ad70044df89d&dn=[javdb.com]fsdss-242-C.torrent \n",
      "\n",
      "magnet:?xt=urn:btih:6eaa187c0626e307492af4da1437f26e34e1c253&dn=[javdb.com]fsdss-226-C.torrent \n",
      "\n",
      "magnet:?xt=urn:btih:60ff684f735dce640cb9c0da684d90f99f891aef&dn=[javdb.com]fsdss-209-C.torrent \n",
      "\n",
      "magnet:?xt=urn:btih:595fd1cfa56a5e03dd90e021977f0f5669b4fc31&dn=[javdb.com]fsdss-194-C.torrent \n",
      "\n",
      "magnet:?xt=urn:btih:85f5eebfd9781ab384cd7657c7dadcf7dbfe560d&dn=[javdb.com]fsdss-127-C.torrent \n",
      "\n",
      "magnet:?xt=urn:btih:35bfc924ee755ff191d3a41005b3dd8de3170f94&dn=[javdb.com]fsdss-111-C.torrent \n",
      "\n",
      "magnet:?xt=urn:btih:2d81245e926feaf1fb76d1c4f9a1948db20491ad&dn=[javdb.com]fsdss-098-C.torrent \n",
      "\n",
      "magnet:?xt=urn:btih:fe6cbe4d0d0440cff304cf1104264a9a4dc3723b&dn=[javdb.com]fsdss-078-C.torrent \n",
      "\n",
      "magnet:?xt=urn:btih:cf4e9ef970d8b063ec9c8be4c4c8590d363e12b2&dn=[javdb.com]fsdss-069-C.torrent \n",
      "\n",
      "magnet:?xt=urn:btih:e321be146aebade09fb494d9e31249dc7b457d79&dn=[javdb.com]fsdss-055-C.torrent \n",
      "\n",
      "magnet:?xt=urn:btih:6b5b72bc56cad257b12534a96bb3a728dbb3385b&dn=[javdb.com]fsdss-042-C.torrent \n",
      "\n",
      "magnet:?xt=urn:btih:933aa9b3582b4721c6d7f05abe0c7670cc27de66&dn=[javdb.com]SSNI-733-C.torrent \n",
      "\n",
      "magnet:?xt=urn:btih:67cd66b8d33058a7dded8597a13d0c72e550b518&dn=[javdb.com]ssni-706-C.torrent \n",
      "\n",
      "magnet:?xt=urn:btih:840e5a2d096ea2e1eb993ac059a223d09ef90274&dn=[javdb.com]ssni-677-C.torrent \n",
      "\n",
      "magnet:?xt=urn:btih:435e668d338569fa5df49baeea227e795dd631f0&dn=[javdb.com]ssni-647-C.torrent \n",
      "\n"
     ]
    }
   ],
   "source": [
    "fhs = []\n",
    "for i, ele in enumerate(all_hrefs):\n",
    "    # print(ele)\n",
    "    try:\n",
    "        fh = re.findall(\"\\w+-(\\d+)\", ele)\n",
    "    except:\n",
    "#         pass\n",
    "        fh = re.findall(\"\\[javdb.com][A-Za-z]+(\\d+)\", ele)[-1]\n",
    "        print(ele,fh)\n",
    "    if fh not in fhs and 1:\n",
    "        # pass\n",
    "        # print(fh.upper(),ele)\n",
    "        print(ele, \"\\n\")\n",
    "    # if (:"
   ]
  },
  {
   "cell_type": "code",
   "execution_count": 15,
   "id": "48e8c6fc",
   "metadata": {
    "ExecuteTime": {
     "end_time": "2023-10-09T02:27:45.552378Z",
     "start_time": "2023-10-09T02:27:45.537459Z"
    },
    "collapsed": true
   },
   "outputs": [
    {
     "name": "stdout",
     "output_type": "stream",
     "text": [
      "magnet:?xt=urn:btih:ffb270a2806ec9c8878b9faba4582ef902eb7dde&dn=[javdb.com][7sht.me]020318_641-C \n",
      "\n",
      "magnet:?xt=urn:btih:488b61ad2a96b461e96f0d1153e611ea75108dd5&dn=[javdb.com]070417-455-C.torrent \n",
      "\n",
      "magnet:?xt=urn:btih:a22d9809006ac80027cb4dc9c5ac12037ce67fd6&dn=[javdb.com]PT-172 美熟女~總勢6名~[無碼中文字幕] \n",
      "\n",
      "magnet:?xt=urn:btih:473cb27c541d2e50eb5cbac2b239014d0c3b2ae7&dn=[javdb.com][email protected]@一本道 042916_289 全是熟女大鍋炒派對 小早川怜子 朝桐光 村上涼子[中文字幕].torrent \n",
      "\n",
      "magnet:?xt=urn:btih:705edb070ef1b486b922dbd5abf54ecb9108a0e9&dn=[javdb.com]heyzo-0608-C.torrent \n",
      "\n",
      "magnet:?xt=urn:btih:3fecb50a35e17a378efb5a6fe1297011881f7383&dn=[javdb.com][20130515][MYfun4U][PT-125]《Akari Asagiri》[dvd-mkv][日語無字幕] \n",
      "\n",
      "magnet:?xt=urn:btih:82b2747f3edc86c8a83cbf39e3aa7b9846b88409&dn=[javdb.com]1pondo_091212_426_HDAVI(中文字幕).torrent \n",
      "\n"
     ]
    }
   ],
   "source": [
    "for i, ele in enumerate(all_hrefs):\n",
    "    print(ele, \"\\n\")"
   ]
  }
 ],
 "metadata": {
  "hide_input": false,
  "kernelspec": {
   "display_name": "Python 3.8",
   "language": "python",
   "name": "python3"
  },
  "language_info": {
   "codemirror_mode": {
    "name": "ipython",
    "version": 3
   },
   "file_extension": ".py",
   "mimetype": "text/x-python",
   "name": "python",
   "nbconvert_exporter": "python",
   "pygments_lexer": "ipython3",
   "version": "3.8.5"
  },
  "toc": {
   "base_numbering": 1,
   "nav_menu": {},
   "number_sections": true,
   "sideBar": true,
   "skip_h1_title": false,
   "title_cell": "Table of Contents",
   "title_sidebar": "Contents",
   "toc_cell": false,
   "toc_position": {
    "height": "633.333px",
    "left": "135px",
    "top": "309.458px",
    "width": "341.289px"
   },
   "toc_section_display": true,
   "toc_window_display": false
  },
  "varInspector": {
   "cols": {
    "lenName": 16,
    "lenType": 16,
    "lenVar": 40
   },
   "kernels_config": {
    "python": {
     "delete_cmd_postfix": "",
     "delete_cmd_prefix": "del ",
     "library": "var_list.py",
     "varRefreshCmd": "print(var_dic_list())"
    },
    "r": {
     "delete_cmd_postfix": ") ",
     "delete_cmd_prefix": "rm(",
     "library": "var_list.r",
     "varRefreshCmd": "cat(var_dic_list()) "
    }
   },
   "types_to_exclude": [
    "module",
    "function",
    "builtin_function_or_method",
    "instance",
    "_Feature"
   ],
   "window_display": false
  }
 },
 "nbformat": 4,
 "nbformat_minor": 5
}
