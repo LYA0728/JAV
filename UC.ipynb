{
 "cells": [
  {
   "cell_type": "code",
   "execution_count": 2,
   "id": "0b21608c",
   "metadata": {
    "ExecuteTime": {
     "end_time": "2024-01-05T13:02:15.506557Z",
     "start_time": "2024-01-05T13:02:13.579334Z"
    }
   },
   "outputs": [],
   "source": [
    "import re\n",
    "import os\n",
    "from selenium import webdriver\n",
    "from selenium.webdriver.common.by import By\n",
    "from lxml import etree\n",
    "import pandas as pd"
   ]
  },
  {
   "cell_type": "code",
   "execution_count": 62,
   "id": "a9dc32e7",
   "metadata": {
    "ExecuteTime": {
     "end_time": "2024-01-06T04:24:37.197377Z",
     "start_time": "2024-01-06T04:24:34.094715Z"
    }
   },
   "outputs": [],
   "source": [
    "url = \"https://javdb521.com/tags?c10=1&c7=348&page={}\"\n",
    "\n",
    "try:\n",
    "    driver.get(\"https://www.subtitlecat.com/\")\n",
    "except:\n",
    "    driver = webdriver.Firefox()"
   ]
  },
  {
   "cell_type": "code",
   "execution_count": 63,
   "id": "1752d7ec",
   "metadata": {
    "ExecuteTime": {
     "end_time": "2024-01-06T04:25:30.602954Z",
     "start_time": "2024-01-06T04:24:39.368282Z"
    }
   },
   "outputs": [],
   "source": [
    "hrefs = []\n",
    "\n",
    "for p in range(1,66):\n",
    "#     print(i)\n",
    "    driver.get(url.format(p))\n",
    "    html = etree.HTML(driver.page_source)\n",
    "    _hrefs = html.xpath(\n",
    "        './/div[@class=\"movie-list h cols-4 vcols-8\"]/div[@class=\"item\"]/a/@href')\n",
    "    hrefs.extend([\"https://javdb.com/\"+i for i in _hrefs])"
   ]
  },
  {
   "cell_type": "code",
   "execution_count": 36,
   "id": "a4347e52",
   "metadata": {
    "ExecuteTime": {
     "end_time": "2024-01-05T13:28:05.089498Z",
     "start_time": "2024-01-05T13:28:05.070167Z"
    }
   },
   "outputs": [
    {
     "data": {
      "text/plain": [
       "['https://javdb.com//v/Az3VEy',\n",
       " 'https://javdb.com//v/k4xDYJ',\n",
       " 'https://javdb.com//v/eKeDp1',\n",
       " 'https://javdb.com//v/0Rg25k',\n",
       " 'https://javdb.com//v/0ROn33',\n",
       " 'https://javdb.com//v/p3w1BB',\n",
       " 'https://javdb.com//v/1BnXvw',\n",
       " 'https://javdb.com//v/45eJBp',\n",
       " 'https://javdb.com//v/xvV1QB',\n",
       " 'https://javdb.com//v/zKz1Jb',\n",
       " 'https://javdb.com//v/bAnRPv',\n",
       " 'https://javdb.com//v/g0mQ5N',\n",
       " 'https://javdb.com//v/yrJ5aW',\n",
       " 'https://javdb.com//v/wqvga7',\n",
       " 'https://javdb.com//v/Nw560g',\n",
       " 'https://javdb.com//v/1B6KRn',\n",
       " 'https://javdb.com//v/ak0KWR',\n",
       " 'https://javdb.com//v/p3weAe',\n",
       " 'https://javdb.com//v/652Wpa',\n",
       " 'https://javdb.com//v/AzmneM',\n",
       " 'https://javdb.com//v/9DvPxq',\n",
       " 'https://javdb.com//v/2abQgp',\n",
       " 'https://javdb.com//v/qD91Z3',\n",
       " 'https://javdb.com//v/76zOnd',\n",
       " 'https://javdb.com//v/PQdDY0',\n",
       " 'https://javdb.com//v/nem1xY',\n",
       " 'https://javdb.com//v/RdwDW7',\n",
       " 'https://javdb.com//v/Az6DrP',\n",
       " 'https://javdb.com//v/k40vA6',\n",
       " 'https://javdb.com//v/YnQDMd',\n",
       " 'https://javdb.com//v/9DvPZq',\n",
       " 'https://javdb.com//v/1B5XZn',\n",
       " 'https://javdb.com//v/p3vy35',\n",
       " 'https://javdb.com//v/76z4pd',\n",
       " 'https://javdb.com//v/ZXVpbJ',\n",
       " 'https://javdb.com//v/k403xz',\n",
       " 'https://javdb.com//v/wqe6rY',\n",
       " 'https://javdb.com//v/d4N6Ye',\n",
       " 'https://javdb.com//v/O2OGJD',\n",
       " 'https://javdb.com//v/K4VRvO',\n",
       " 'https://javdb.com//v/J2Qm58',\n",
       " 'https://javdb.com//v/J2QAg3',\n",
       " 'https://javdb.com//v/VwynGn',\n",
       " 'https://javdb.com//v/akRgDg',\n",
       " 'https://javdb.com//v/xv7dR8',\n",
       " 'https://javdb.com//v/GMyrq2',\n",
       " 'https://javdb.com//v/g0mQRy',\n",
       " 'https://javdb.com//v/Vwem1G',\n",
       " 'https://javdb.com//v/g0dVZZ',\n",
       " 'https://javdb.com//v/rmEN6z',\n",
       " 'https://javdb.com//v/8VbzmE',\n",
       " 'https://javdb.com//v/p3E8Gb',\n",
       " 'https://javdb.com//v/D2qm8p',\n",
       " 'https://javdb.com//v/E2a893',\n",
       " 'https://javdb.com//v/2aBdeN',\n",
       " 'https://javdb.com//v/B87Mma',\n",
       " 'https://javdb.com//v/AzPZGP',\n",
       " 'https://javdb.com//v/qDEW53',\n",
       " 'https://javdb.com//v/yrEKeX',\n",
       " 'https://javdb.com//v/d4aOW5',\n",
       " 'https://javdb.com//v/8VbzpW',\n",
       " 'https://javdb.com//v/meEM5D',\n",
       " 'https://javdb.com//v/65rXrZ',\n",
       " 'https://javdb.com//v/AzPYY0',\n",
       " 'https://javdb.com//v/J2agb8',\n",
       " 'https://javdb.com//v/bAD2kB',\n",
       " 'https://javdb.com//v/YnaO6e',\n",
       " 'https://javdb.com//v/k4E7Wm',\n",
       " 'https://javdb.com//v/765P31',\n",
       " 'https://javdb.com//v/XW1OPG',\n",
       " 'https://javdb.com//v/bAD2pP',\n",
       " 'https://javdb.com//v/rmEZgz',\n",
       " 'https://javdb.com//v/yrERJd',\n",
       " 'https://javdb.com//v/35vDxb',\n",
       " 'https://javdb.com//v/eKanRd',\n",
       " 'https://javdb.com//v/neEny6',\n",
       " 'https://javdb.com//v/meEn8D',\n",
       " 'https://javdb.com//v/45yP2b',\n",
       " 'https://javdb.com//v/p3J6GE',\n",
       " 'https://javdb.com//v/wqEgkz',\n",
       " 'https://javdb.com//v/W1arVq',\n",
       " 'https://javdb.com//v/Yn167x',\n",
       " 'https://javdb.com//v/qD659N',\n",
       " 'https://javdb.com//v/K43XaM',\n",
       " 'https://javdb.com//v/ZX6E6J',\n",
       " 'https://javdb.com//v/qD6563',\n",
       " 'https://javdb.com//v/J23b3d',\n",
       " 'https://javdb.com//v/yrZOZr',\n",
       " 'https://javdb.com//v/1BO6vJ',\n",
       " 'https://javdb.com//v/O23zGv',\n",
       " 'https://javdb.com//v/XW63QP',\n",
       " 'https://javdb.com//v/Mm3VG1',\n",
       " 'https://javdb.com//v/k46dNe',\n",
       " 'https://javdb.com//v/ak6xeX',\n",
       " 'https://javdb.com//v/p36GDq',\n",
       " 'https://javdb.com//v/35PqEb',\n",
       " 'https://javdb.com//v/W16req',\n",
       " 'https://javdb.com//v/9D3pZX',\n",
       " 'https://javdb.com//v/8V3ZY3',\n",
       " 'https://javdb.com//v/Azan8O',\n",
       " 'https://javdb.com//v/ak6VNr',\n",
       " 'https://javdb.com//v/Rdv9Yp',\n",
       " 'https://javdb.com//v/p363ke',\n",
       " 'https://javdb.com//v/9D3D6q',\n",
       " 'https://javdb.com//v/0RKRev',\n",
       " 'https://javdb.com//v/8VnnZ3',\n",
       " 'https://javdb.com//v/RdDDXD',\n",
       " 'https://javdb.com//v/AzDDnO',\n",
       " 'https://javdb.com//v/0Rbb47',\n",
       " 'https://javdb.com//v/xv11Og',\n",
       " 'https://javdb.com//v/E2DDnd',\n",
       " 'https://javdb.com//v/35VVW3',\n",
       " 'https://javdb.com//v/2aQQXm',\n",
       " 'https://javdb.com//v/qD11bD',\n",
       " 'https://javdb.com//v/O2DD1z',\n",
       " 'https://javdb.com//v/J2DDdR',\n",
       " 'https://javdb.com//v/W1DDkB',\n",
       " 'https://javdb.com//v/8Vnn9d',\n",
       " 'https://javdb.com//v/me114n',\n",
       " 'https://javdb.com//v/AzPZDw',\n",
       " 'https://javdb.com//v/YnaADp',\n",
       " 'https://javdb.com//v/76OO91',\n",
       " 'https://javdb.com//v/J2DDzq',\n",
       " 'https://javdb.com//v/p3117Z',\n",
       " 'https://javdb.com//v/YnDDzB',\n",
       " 'https://javdb.com//v/vD1VZ9',\n",
       " 'https://javdb.com//v/2aQOkX',\n",
       " 'https://javdb.com//v/AzDkrn',\n",
       " 'https://javdb.com//v/O2DVMB',\n",
       " 'https://javdb.com//v/k4v3rm',\n",
       " 'https://javdb.com//v/ZX1pzV',\n",
       " 'https://javdb.com//v/W1DKzq',\n",
       " 'https://javdb.com//v/me6d4r',\n",
       " 'https://javdb.com//v/ZXGp06',\n",
       " 'https://javdb.com//v/YnWZMD',\n",
       " 'https://javdb.com//v/vD8Op8',\n",
       " 'https://javdb.com//v/D2bWQM',\n",
       " 'https://javdb.com//v/45k8W3',\n",
       " 'https://javdb.com//v/g0JB2Z',\n",
       " 'https://javdb.com//v/yrGmKA',\n",
       " 'https://javdb.com//v/wq9GQm',\n",
       " 'https://javdb.com//v/B8r4MO',\n",
       " 'https://javdb.com//v/vD8WK8',\n",
       " 'https://javdb.com//v/2aMVZW',\n",
       " 'https://javdb.com//v/AzgRAm',\n",
       " 'https://javdb.com//v/k4nOm0',\n",
       " 'https://javdb.com//v/ZXGy76',\n",
       " 'https://javdb.com//v/5EAJ3B',\n",
       " 'https://javdb.com//v/g0JBMq',\n",
       " 'https://javdb.com//v/wq9GrY',\n",
       " 'https://javdb.com//v/d4XEYe',\n",
       " 'https://javdb.com//v/Rd0a4D',\n",
       " 'https://javdb.com//v/45kB7G',\n",
       " 'https://javdb.com//v/zKJXA6',\n",
       " 'https://javdb.com//v/J2mBMq',\n",
       " 'https://javdb.com//v/8V3ZR3',\n",
       " 'https://javdb.com//v/5Ewxa8',\n",
       " 'https://javdb.com//v/8VraJ9',\n",
       " 'https://javdb.com//v/AzOxXK',\n",
       " 'https://javdb.com//v/k49VrY']"
      ]
     },
     "execution_count": 36,
     "metadata": {},
     "output_type": "execute_result"
    }
   ],
   "source": [
    "hrefs"
   ]
  },
  {
   "cell_type": "code",
   "execution_count": 116,
   "id": "28dd59af",
   "metadata": {
    "ExecuteTime": {
     "end_time": "2024-01-06T08:43:33.321799Z",
     "start_time": "2024-01-06T08:42:42.842780Z"
    }
   },
   "outputs": [
    {
     "name": "stdout",
     "output_type": "stream",
     "text": [
      "鈴音杏夏\n",
      "希咲那奈\n",
      "仲村みう\n",
      "河村乃亜\n",
      "桐條紗綾\n",
      "本庄鈴\n",
      "美乃すずめ\n",
      "我妻里帆\n",
      "美乃すずめ\n",
      "水野朝陽\n",
      "架乃ゆら\n",
      "夢乃あいか\n",
      "鷲尾芽衣\n",
      "槙いずな\n",
      "乙白さやか\n",
      "天音まひな\n",
      "潮美舞\n",
      "山崎水愛\n",
      "はやのうた\n"
     ]
    },
    {
     "ename": "KeyboardInterrupt",
     "evalue": "",
     "output_type": "error",
     "traceback": [
      "\u001b[1;31m---------------------------------------------------------------------------\u001b[0m",
      "\u001b[1;31mKeyboardInterrupt\u001b[0m                         Traceback (most recent call last)",
      "Cell \u001b[1;32mIn[116], line 11\u001b[0m\n\u001b[0;32m      8\u001b[0m \u001b[38;5;28;01mif\u001b[39;00m href \u001b[38;5;129;01min\u001b[39;00m [i \u001b[38;5;28;01mfor\u001b[39;00m i \u001b[38;5;129;01min\u001b[39;00m df[\u001b[38;5;124m\"\u001b[39m\u001b[38;5;124mhref\u001b[39m\u001b[38;5;124m\"\u001b[39m]]:\n\u001b[0;32m      9\u001b[0m     \u001b[38;5;28;01mcontinue\u001b[39;00m\n\u001b[1;32m---> 11\u001b[0m \u001b[43mdriver\u001b[49m\u001b[38;5;241;43m.\u001b[39;49m\u001b[43mget\u001b[49m\u001b[43m(\u001b[49m\u001b[43mhref\u001b[49m\u001b[43m)\u001b[49m\n\u001b[0;32m     13\u001b[0m html \u001b[38;5;241m=\u001b[39m etree\u001b[38;5;241m.\u001b[39mHTML(driver\u001b[38;5;241m.\u001b[39mpage_source)\n\u001b[0;32m     14\u001b[0m fhs \u001b[38;5;241m=\u001b[39m []\n",
      "File \u001b[1;32m~\\AppData\\Roaming\\Python\\Python310\\site-packages\\selenium\\webdriver\\remote\\webdriver.py:355\u001b[0m, in \u001b[0;36mWebDriver.get\u001b[1;34m(self, url)\u001b[0m\n\u001b[0;32m    353\u001b[0m \u001b[38;5;28;01mdef\u001b[39;00m \u001b[38;5;21mget\u001b[39m(\u001b[38;5;28mself\u001b[39m, url: \u001b[38;5;28mstr\u001b[39m) \u001b[38;5;241m-\u001b[39m\u001b[38;5;241m>\u001b[39m \u001b[38;5;28;01mNone\u001b[39;00m:\n\u001b[0;32m    354\u001b[0m \u001b[38;5;250m    \u001b[39m\u001b[38;5;124;03m\"\"\"Loads a web page in the current browser session.\"\"\"\u001b[39;00m\n\u001b[1;32m--> 355\u001b[0m     \u001b[38;5;28;43mself\u001b[39;49m\u001b[38;5;241;43m.\u001b[39;49m\u001b[43mexecute\u001b[49m\u001b[43m(\u001b[49m\u001b[43mCommand\u001b[49m\u001b[38;5;241;43m.\u001b[39;49m\u001b[43mGET\u001b[49m\u001b[43m,\u001b[49m\u001b[43m \u001b[49m\u001b[43m{\u001b[49m\u001b[38;5;124;43m\"\u001b[39;49m\u001b[38;5;124;43murl\u001b[39;49m\u001b[38;5;124;43m\"\u001b[39;49m\u001b[43m:\u001b[49m\u001b[43m \u001b[49m\u001b[43murl\u001b[49m\u001b[43m}\u001b[49m\u001b[43m)\u001b[49m\n",
      "File \u001b[1;32m~\\AppData\\Roaming\\Python\\Python310\\site-packages\\selenium\\webdriver\\remote\\webdriver.py:344\u001b[0m, in \u001b[0;36mWebDriver.execute\u001b[1;34m(self, driver_command, params)\u001b[0m\n\u001b[0;32m    341\u001b[0m     \u001b[38;5;28;01melif\u001b[39;00m \u001b[38;5;124m\"\u001b[39m\u001b[38;5;124msessionId\u001b[39m\u001b[38;5;124m\"\u001b[39m \u001b[38;5;129;01mnot\u001b[39;00m \u001b[38;5;129;01min\u001b[39;00m params:\n\u001b[0;32m    342\u001b[0m         params[\u001b[38;5;124m\"\u001b[39m\u001b[38;5;124msessionId\u001b[39m\u001b[38;5;124m\"\u001b[39m] \u001b[38;5;241m=\u001b[39m \u001b[38;5;28mself\u001b[39m\u001b[38;5;241m.\u001b[39msession_id\n\u001b[1;32m--> 344\u001b[0m response \u001b[38;5;241m=\u001b[39m \u001b[38;5;28;43mself\u001b[39;49m\u001b[38;5;241;43m.\u001b[39;49m\u001b[43mcommand_executor\u001b[49m\u001b[38;5;241;43m.\u001b[39;49m\u001b[43mexecute\u001b[49m\u001b[43m(\u001b[49m\u001b[43mdriver_command\u001b[49m\u001b[43m,\u001b[49m\u001b[43m \u001b[49m\u001b[43mparams\u001b[49m\u001b[43m)\u001b[49m\n\u001b[0;32m    345\u001b[0m \u001b[38;5;28;01mif\u001b[39;00m response:\n\u001b[0;32m    346\u001b[0m     \u001b[38;5;28mself\u001b[39m\u001b[38;5;241m.\u001b[39merror_handler\u001b[38;5;241m.\u001b[39mcheck_response(response)\n",
      "File \u001b[1;32m~\\AppData\\Roaming\\Python\\Python310\\site-packages\\selenium\\webdriver\\remote\\remote_connection.py:290\u001b[0m, in \u001b[0;36mRemoteConnection.execute\u001b[1;34m(self, command, params)\u001b[0m\n\u001b[0;32m    288\u001b[0m data \u001b[38;5;241m=\u001b[39m utils\u001b[38;5;241m.\u001b[39mdump_json(params)\n\u001b[0;32m    289\u001b[0m url \u001b[38;5;241m=\u001b[39m \u001b[38;5;124mf\u001b[39m\u001b[38;5;124m\"\u001b[39m\u001b[38;5;132;01m{\u001b[39;00m\u001b[38;5;28mself\u001b[39m\u001b[38;5;241m.\u001b[39m_url\u001b[38;5;132;01m}\u001b[39;00m\u001b[38;5;132;01m{\u001b[39;00mpath\u001b[38;5;132;01m}\u001b[39;00m\u001b[38;5;124m\"\u001b[39m\n\u001b[1;32m--> 290\u001b[0m \u001b[38;5;28;01mreturn\u001b[39;00m \u001b[38;5;28;43mself\u001b[39;49m\u001b[38;5;241;43m.\u001b[39;49m\u001b[43m_request\u001b[49m\u001b[43m(\u001b[49m\u001b[43mcommand_info\u001b[49m\u001b[43m[\u001b[49m\u001b[38;5;241;43m0\u001b[39;49m\u001b[43m]\u001b[49m\u001b[43m,\u001b[49m\u001b[43m \u001b[49m\u001b[43murl\u001b[49m\u001b[43m,\u001b[49m\u001b[43m \u001b[49m\u001b[43mbody\u001b[49m\u001b[38;5;241;43m=\u001b[39;49m\u001b[43mdata\u001b[49m\u001b[43m)\u001b[49m\n",
      "File \u001b[1;32m~\\AppData\\Roaming\\Python\\Python310\\site-packages\\selenium\\webdriver\\remote\\remote_connection.py:311\u001b[0m, in \u001b[0;36mRemoteConnection._request\u001b[1;34m(self, method, url, body)\u001b[0m\n\u001b[0;32m    308\u001b[0m     body \u001b[38;5;241m=\u001b[39m \u001b[38;5;28;01mNone\u001b[39;00m\n\u001b[0;32m    310\u001b[0m \u001b[38;5;28;01mif\u001b[39;00m \u001b[38;5;28mself\u001b[39m\u001b[38;5;241m.\u001b[39mkeep_alive:\n\u001b[1;32m--> 311\u001b[0m     response \u001b[38;5;241m=\u001b[39m \u001b[38;5;28;43mself\u001b[39;49m\u001b[38;5;241;43m.\u001b[39;49m\u001b[43m_conn\u001b[49m\u001b[38;5;241;43m.\u001b[39;49m\u001b[43mrequest\u001b[49m\u001b[43m(\u001b[49m\u001b[43mmethod\u001b[49m\u001b[43m,\u001b[49m\u001b[43m \u001b[49m\u001b[43murl\u001b[49m\u001b[43m,\u001b[49m\u001b[43m \u001b[49m\u001b[43mbody\u001b[49m\u001b[38;5;241;43m=\u001b[39;49m\u001b[43mbody\u001b[49m\u001b[43m,\u001b[49m\u001b[43m \u001b[49m\u001b[43mheaders\u001b[49m\u001b[38;5;241;43m=\u001b[39;49m\u001b[43mheaders\u001b[49m\u001b[43m)\u001b[49m\n\u001b[0;32m    312\u001b[0m     statuscode \u001b[38;5;241m=\u001b[39m response\u001b[38;5;241m.\u001b[39mstatus\n\u001b[0;32m    313\u001b[0m \u001b[38;5;28;01melse\u001b[39;00m:\n",
      "File \u001b[1;32mC:\\Application\\miniconda3\\lib\\site-packages\\urllib3\\request.py:78\u001b[0m, in \u001b[0;36mRequestMethods.request\u001b[1;34m(self, method, url, fields, headers, **urlopen_kw)\u001b[0m\n\u001b[0;32m     74\u001b[0m     \u001b[38;5;28;01mreturn\u001b[39;00m \u001b[38;5;28mself\u001b[39m\u001b[38;5;241m.\u001b[39mrequest_encode_url(\n\u001b[0;32m     75\u001b[0m         method, url, fields\u001b[38;5;241m=\u001b[39mfields, headers\u001b[38;5;241m=\u001b[39mheaders, \u001b[38;5;241m*\u001b[39m\u001b[38;5;241m*\u001b[39murlopen_kw\n\u001b[0;32m     76\u001b[0m     )\n\u001b[0;32m     77\u001b[0m \u001b[38;5;28;01melse\u001b[39;00m:\n\u001b[1;32m---> 78\u001b[0m     \u001b[38;5;28;01mreturn\u001b[39;00m \u001b[38;5;28mself\u001b[39m\u001b[38;5;241m.\u001b[39mrequest_encode_body(\n\u001b[0;32m     79\u001b[0m         method, url, fields\u001b[38;5;241m=\u001b[39mfields, headers\u001b[38;5;241m=\u001b[39mheaders, \u001b[38;5;241m*\u001b[39m\u001b[38;5;241m*\u001b[39murlopen_kw\n\u001b[0;32m     80\u001b[0m     )\n",
      "File \u001b[1;32mC:\\Application\\miniconda3\\lib\\site-packages\\urllib3\\request.py:170\u001b[0m, in \u001b[0;36mRequestMethods.request_encode_body\u001b[1;34m(self, method, url, fields, headers, encode_multipart, multipart_boundary, **urlopen_kw)\u001b[0m\n\u001b[0;32m    167\u001b[0m extra_kw[\u001b[38;5;124m\"\u001b[39m\u001b[38;5;124mheaders\u001b[39m\u001b[38;5;124m\"\u001b[39m]\u001b[38;5;241m.\u001b[39mupdate(headers)\n\u001b[0;32m    168\u001b[0m extra_kw\u001b[38;5;241m.\u001b[39mupdate(urlopen_kw)\n\u001b[1;32m--> 170\u001b[0m \u001b[38;5;28;01mreturn\u001b[39;00m \u001b[38;5;28mself\u001b[39m\u001b[38;5;241m.\u001b[39murlopen(method, url, \u001b[38;5;241m*\u001b[39m\u001b[38;5;241m*\u001b[39mextra_kw)\n",
      "File \u001b[1;32mC:\\Application\\miniconda3\\lib\\site-packages\\urllib3\\poolmanager.py:376\u001b[0m, in \u001b[0;36mPoolManager.urlopen\u001b[1;34m(self, method, url, redirect, **kw)\u001b[0m\n\u001b[0;32m    374\u001b[0m     response \u001b[38;5;241m=\u001b[39m conn\u001b[38;5;241m.\u001b[39murlopen(method, url, \u001b[38;5;241m*\u001b[39m\u001b[38;5;241m*\u001b[39mkw)\n\u001b[0;32m    375\u001b[0m \u001b[38;5;28;01melse\u001b[39;00m:\n\u001b[1;32m--> 376\u001b[0m     response \u001b[38;5;241m=\u001b[39m conn\u001b[38;5;241m.\u001b[39murlopen(method, u\u001b[38;5;241m.\u001b[39mrequest_uri, \u001b[38;5;241m*\u001b[39m\u001b[38;5;241m*\u001b[39mkw)\n\u001b[0;32m    378\u001b[0m redirect_location \u001b[38;5;241m=\u001b[39m redirect \u001b[38;5;129;01mand\u001b[39;00m response\u001b[38;5;241m.\u001b[39mget_redirect_location()\n\u001b[0;32m    379\u001b[0m \u001b[38;5;28;01mif\u001b[39;00m \u001b[38;5;129;01mnot\u001b[39;00m redirect_location:\n",
      "File \u001b[1;32mC:\\Application\\miniconda3\\lib\\site-packages\\urllib3\\connectionpool.py:703\u001b[0m, in \u001b[0;36mHTTPConnectionPool.urlopen\u001b[1;34m(self, method, url, body, headers, retries, redirect, assert_same_host, timeout, pool_timeout, release_conn, chunked, body_pos, **response_kw)\u001b[0m\n\u001b[0;32m    700\u001b[0m     \u001b[38;5;28mself\u001b[39m\u001b[38;5;241m.\u001b[39m_prepare_proxy(conn)\n\u001b[0;32m    702\u001b[0m \u001b[38;5;66;03m# Make the request on the httplib connection object.\u001b[39;00m\n\u001b[1;32m--> 703\u001b[0m httplib_response \u001b[38;5;241m=\u001b[39m \u001b[38;5;28;43mself\u001b[39;49m\u001b[38;5;241;43m.\u001b[39;49m\u001b[43m_make_request\u001b[49m\u001b[43m(\u001b[49m\n\u001b[0;32m    704\u001b[0m \u001b[43m    \u001b[49m\u001b[43mconn\u001b[49m\u001b[43m,\u001b[49m\n\u001b[0;32m    705\u001b[0m \u001b[43m    \u001b[49m\u001b[43mmethod\u001b[49m\u001b[43m,\u001b[49m\n\u001b[0;32m    706\u001b[0m \u001b[43m    \u001b[49m\u001b[43murl\u001b[49m\u001b[43m,\u001b[49m\n\u001b[0;32m    707\u001b[0m \u001b[43m    \u001b[49m\u001b[43mtimeout\u001b[49m\u001b[38;5;241;43m=\u001b[39;49m\u001b[43mtimeout_obj\u001b[49m\u001b[43m,\u001b[49m\n\u001b[0;32m    708\u001b[0m \u001b[43m    \u001b[49m\u001b[43mbody\u001b[49m\u001b[38;5;241;43m=\u001b[39;49m\u001b[43mbody\u001b[49m\u001b[43m,\u001b[49m\n\u001b[0;32m    709\u001b[0m \u001b[43m    \u001b[49m\u001b[43mheaders\u001b[49m\u001b[38;5;241;43m=\u001b[39;49m\u001b[43mheaders\u001b[49m\u001b[43m,\u001b[49m\n\u001b[0;32m    710\u001b[0m \u001b[43m    \u001b[49m\u001b[43mchunked\u001b[49m\u001b[38;5;241;43m=\u001b[39;49m\u001b[43mchunked\u001b[49m\u001b[43m,\u001b[49m\n\u001b[0;32m    711\u001b[0m \u001b[43m\u001b[49m\u001b[43m)\u001b[49m\n\u001b[0;32m    713\u001b[0m \u001b[38;5;66;03m# If we're going to release the connection in ``finally:``, then\u001b[39;00m\n\u001b[0;32m    714\u001b[0m \u001b[38;5;66;03m# the response doesn't need to know about the connection. Otherwise\u001b[39;00m\n\u001b[0;32m    715\u001b[0m \u001b[38;5;66;03m# it will also try to release it and we'll have a double-release\u001b[39;00m\n\u001b[0;32m    716\u001b[0m \u001b[38;5;66;03m# mess.\u001b[39;00m\n\u001b[0;32m    717\u001b[0m response_conn \u001b[38;5;241m=\u001b[39m conn \u001b[38;5;28;01mif\u001b[39;00m \u001b[38;5;129;01mnot\u001b[39;00m release_conn \u001b[38;5;28;01melse\u001b[39;00m \u001b[38;5;28;01mNone\u001b[39;00m\n",
      "File \u001b[1;32mC:\\Application\\miniconda3\\lib\\site-packages\\urllib3\\connectionpool.py:449\u001b[0m, in \u001b[0;36mHTTPConnectionPool._make_request\u001b[1;34m(self, conn, method, url, timeout, chunked, **httplib_request_kw)\u001b[0m\n\u001b[0;32m    444\u001b[0m             httplib_response \u001b[38;5;241m=\u001b[39m conn\u001b[38;5;241m.\u001b[39mgetresponse()\n\u001b[0;32m    445\u001b[0m         \u001b[38;5;28;01mexcept\u001b[39;00m \u001b[38;5;167;01mBaseException\u001b[39;00m \u001b[38;5;28;01mas\u001b[39;00m e:\n\u001b[0;32m    446\u001b[0m             \u001b[38;5;66;03m# Remove the TypeError from the exception chain in\u001b[39;00m\n\u001b[0;32m    447\u001b[0m             \u001b[38;5;66;03m# Python 3 (including for exceptions like SystemExit).\u001b[39;00m\n\u001b[0;32m    448\u001b[0m             \u001b[38;5;66;03m# Otherwise it looks like a bug in the code.\u001b[39;00m\n\u001b[1;32m--> 449\u001b[0m             \u001b[43msix\u001b[49m\u001b[38;5;241;43m.\u001b[39;49m\u001b[43mraise_from\u001b[49m\u001b[43m(\u001b[49m\u001b[43me\u001b[49m\u001b[43m,\u001b[49m\u001b[43m \u001b[49m\u001b[38;5;28;43;01mNone\u001b[39;49;00m\u001b[43m)\u001b[49m\n\u001b[0;32m    450\u001b[0m \u001b[38;5;28;01mexcept\u001b[39;00m (SocketTimeout, BaseSSLError, SocketError) \u001b[38;5;28;01mas\u001b[39;00m e:\n\u001b[0;32m    451\u001b[0m     \u001b[38;5;28mself\u001b[39m\u001b[38;5;241m.\u001b[39m_raise_timeout(err\u001b[38;5;241m=\u001b[39me, url\u001b[38;5;241m=\u001b[39murl, timeout_value\u001b[38;5;241m=\u001b[39mread_timeout)\n",
      "File \u001b[1;32m<string>:3\u001b[0m, in \u001b[0;36mraise_from\u001b[1;34m(value, from_value)\u001b[0m\n",
      "File \u001b[1;32mC:\\Application\\miniconda3\\lib\\site-packages\\urllib3\\connectionpool.py:444\u001b[0m, in \u001b[0;36mHTTPConnectionPool._make_request\u001b[1;34m(self, conn, method, url, timeout, chunked, **httplib_request_kw)\u001b[0m\n\u001b[0;32m    441\u001b[0m \u001b[38;5;28;01mexcept\u001b[39;00m \u001b[38;5;167;01mTypeError\u001b[39;00m:\n\u001b[0;32m    442\u001b[0m     \u001b[38;5;66;03m# Python 3\u001b[39;00m\n\u001b[0;32m    443\u001b[0m     \u001b[38;5;28;01mtry\u001b[39;00m:\n\u001b[1;32m--> 444\u001b[0m         httplib_response \u001b[38;5;241m=\u001b[39m \u001b[43mconn\u001b[49m\u001b[38;5;241;43m.\u001b[39;49m\u001b[43mgetresponse\u001b[49m\u001b[43m(\u001b[49m\u001b[43m)\u001b[49m\n\u001b[0;32m    445\u001b[0m     \u001b[38;5;28;01mexcept\u001b[39;00m \u001b[38;5;167;01mBaseException\u001b[39;00m \u001b[38;5;28;01mas\u001b[39;00m e:\n\u001b[0;32m    446\u001b[0m         \u001b[38;5;66;03m# Remove the TypeError from the exception chain in\u001b[39;00m\n\u001b[0;32m    447\u001b[0m         \u001b[38;5;66;03m# Python 3 (including for exceptions like SystemExit).\u001b[39;00m\n\u001b[0;32m    448\u001b[0m         \u001b[38;5;66;03m# Otherwise it looks like a bug in the code.\u001b[39;00m\n\u001b[0;32m    449\u001b[0m         six\u001b[38;5;241m.\u001b[39mraise_from(e, \u001b[38;5;28;01mNone\u001b[39;00m)\n",
      "File \u001b[1;32mC:\\Application\\miniconda3\\lib\\http\\client.py:1374\u001b[0m, in \u001b[0;36mHTTPConnection.getresponse\u001b[1;34m(self)\u001b[0m\n\u001b[0;32m   1372\u001b[0m \u001b[38;5;28;01mtry\u001b[39;00m:\n\u001b[0;32m   1373\u001b[0m     \u001b[38;5;28;01mtry\u001b[39;00m:\n\u001b[1;32m-> 1374\u001b[0m         \u001b[43mresponse\u001b[49m\u001b[38;5;241;43m.\u001b[39;49m\u001b[43mbegin\u001b[49m\u001b[43m(\u001b[49m\u001b[43m)\u001b[49m\n\u001b[0;32m   1375\u001b[0m     \u001b[38;5;28;01mexcept\u001b[39;00m \u001b[38;5;167;01mConnectionError\u001b[39;00m:\n\u001b[0;32m   1376\u001b[0m         \u001b[38;5;28mself\u001b[39m\u001b[38;5;241m.\u001b[39mclose()\n",
      "File \u001b[1;32mC:\\Application\\miniconda3\\lib\\http\\client.py:318\u001b[0m, in \u001b[0;36mHTTPResponse.begin\u001b[1;34m(self)\u001b[0m\n\u001b[0;32m    316\u001b[0m \u001b[38;5;66;03m# read until we get a non-100 response\u001b[39;00m\n\u001b[0;32m    317\u001b[0m \u001b[38;5;28;01mwhile\u001b[39;00m \u001b[38;5;28;01mTrue\u001b[39;00m:\n\u001b[1;32m--> 318\u001b[0m     version, status, reason \u001b[38;5;241m=\u001b[39m \u001b[38;5;28;43mself\u001b[39;49m\u001b[38;5;241;43m.\u001b[39;49m\u001b[43m_read_status\u001b[49m\u001b[43m(\u001b[49m\u001b[43m)\u001b[49m\n\u001b[0;32m    319\u001b[0m     \u001b[38;5;28;01mif\u001b[39;00m status \u001b[38;5;241m!=\u001b[39m CONTINUE:\n\u001b[0;32m    320\u001b[0m         \u001b[38;5;28;01mbreak\u001b[39;00m\n",
      "File \u001b[1;32mC:\\Application\\miniconda3\\lib\\http\\client.py:279\u001b[0m, in \u001b[0;36mHTTPResponse._read_status\u001b[1;34m(self)\u001b[0m\n\u001b[0;32m    278\u001b[0m \u001b[38;5;28;01mdef\u001b[39;00m \u001b[38;5;21m_read_status\u001b[39m(\u001b[38;5;28mself\u001b[39m):\n\u001b[1;32m--> 279\u001b[0m     line \u001b[38;5;241m=\u001b[39m \u001b[38;5;28mstr\u001b[39m(\u001b[38;5;28;43mself\u001b[39;49m\u001b[38;5;241;43m.\u001b[39;49m\u001b[43mfp\u001b[49m\u001b[38;5;241;43m.\u001b[39;49m\u001b[43mreadline\u001b[49m\u001b[43m(\u001b[49m\u001b[43m_MAXLINE\u001b[49m\u001b[43m \u001b[49m\u001b[38;5;241;43m+\u001b[39;49m\u001b[43m \u001b[49m\u001b[38;5;241;43m1\u001b[39;49m\u001b[43m)\u001b[49m, \u001b[38;5;124m\"\u001b[39m\u001b[38;5;124miso-8859-1\u001b[39m\u001b[38;5;124m\"\u001b[39m)\n\u001b[0;32m    280\u001b[0m     \u001b[38;5;28;01mif\u001b[39;00m \u001b[38;5;28mlen\u001b[39m(line) \u001b[38;5;241m>\u001b[39m _MAXLINE:\n\u001b[0;32m    281\u001b[0m         \u001b[38;5;28;01mraise\u001b[39;00m LineTooLong(\u001b[38;5;124m\"\u001b[39m\u001b[38;5;124mstatus line\u001b[39m\u001b[38;5;124m\"\u001b[39m)\n",
      "File \u001b[1;32mC:\\Application\\miniconda3\\lib\\socket.py:705\u001b[0m, in \u001b[0;36mSocketIO.readinto\u001b[1;34m(self, b)\u001b[0m\n\u001b[0;32m    703\u001b[0m \u001b[38;5;28;01mwhile\u001b[39;00m \u001b[38;5;28;01mTrue\u001b[39;00m:\n\u001b[0;32m    704\u001b[0m     \u001b[38;5;28;01mtry\u001b[39;00m:\n\u001b[1;32m--> 705\u001b[0m         \u001b[38;5;28;01mreturn\u001b[39;00m \u001b[38;5;28;43mself\u001b[39;49m\u001b[38;5;241;43m.\u001b[39;49m\u001b[43m_sock\u001b[49m\u001b[38;5;241;43m.\u001b[39;49m\u001b[43mrecv_into\u001b[49m\u001b[43m(\u001b[49m\u001b[43mb\u001b[49m\u001b[43m)\u001b[49m\n\u001b[0;32m    706\u001b[0m     \u001b[38;5;28;01mexcept\u001b[39;00m timeout:\n\u001b[0;32m    707\u001b[0m         \u001b[38;5;28mself\u001b[39m\u001b[38;5;241m.\u001b[39m_timeout_occurred \u001b[38;5;241m=\u001b[39m \u001b[38;5;28;01mTrue\u001b[39;00m\n",
      "\u001b[1;31mKeyboardInterrupt\u001b[0m: "
     ]
    }
   ],
   "source": [
    "# update_list = []\n",
    "\"https://javdb.com//v/65DwM\"\n",
    "try:\n",
    "    driver.get(\"https://www.subtitlecat.com/\")\n",
    "except:\n",
    "    driver = webdriver.Firefox()\n",
    "for href in hrefs[::]:\n",
    "    if href in [i for i in df[\"href\"]]:\n",
    "        continue\n",
    "        \n",
    "    driver.get(href)\n",
    "\n",
    "    html = etree.HTML(driver.page_source)\n",
    "    fhs = []\n",
    "    magnetName = html.xpath(\n",
    "        './/div[@class=\"magnet-name column is-four-fifths\"]')\n",
    "\n",
    "    actor = html.xpath(\n",
    "        './/span[@class=\"value\"]/strong[@class=\"symbol female\"]/preceding-sibling::a/text()')[-1]\n",
    "\n",
    "    print(actor)\n",
    "    for _i in magnetName:\n",
    "\n",
    "        #         print(_i)\n",
    "        if \"无码\" in _i.xpath('.//span[@class=\"name\"]/text()')[-1]:\n",
    "            \n",
    "            if not _i.xpath('.//span[text()=\"字幕\"]') and fh not in fhs:\n",
    "                #                 print(_i.xpath('.//a/@href'), href, _i.xpath('.//span[@class=\"name\"]/text()')[-1])\n",
    "\n",
    "                print(href)\n",
    "                print(_i.xpath('.//a/@href')[-1])\n",
    "\n",
    "    #             print(\"{}/{}/{}\".format(root, i, j), \"\\n\")\n",
    "            else:\n",
    "                print(href)\n",
    "                print(_i.xpath('.//a/@href')[-1])\n",
    "            _d = {\n",
    "                \"actor\": actor, \"href\": href, \"magnet\": _i.xpath('.//a/@href')[-1]}\n",
    "            update_list.append(_d)\n",
    "    #             print(\"{}/{}/{}\".format(root, i, j), \"\\n\")\n",
    "            print(\"\\n\")"
   ]
  },
  {
   "cell_type": "code",
   "execution_count": 83,
   "id": "1c2ecd60",
   "metadata": {
    "ExecuteTime": {
     "end_time": "2024-01-06T08:33:44.732223Z",
     "start_time": "2024-01-06T08:33:44.706381Z"
    }
   },
   "outputs": [
    {
     "data": {
      "text/plain": [
       "'https://javdb.com//v/mOxQY'"
      ]
     },
     "execution_count": 83,
     "metadata": {},
     "output_type": "execute_result"
    }
   ],
   "source": [
    "hrefs[-1]"
   ]
  },
  {
   "cell_type": "code",
   "execution_count": 117,
   "id": "81084c5d",
   "metadata": {
    "ExecuteTime": {
     "end_time": "2024-01-06T08:44:27.850698Z",
     "start_time": "2024-01-06T08:44:27.814514Z"
    }
   },
   "outputs": [
    {
     "data": {
      "text/html": [
       "<div>\n",
       "<style scoped>\n",
       "    .dataframe tbody tr th:only-of-type {\n",
       "        vertical-align: middle;\n",
       "    }\n",
       "\n",
       "    .dataframe tbody tr th {\n",
       "        vertical-align: top;\n",
       "    }\n",
       "\n",
       "    .dataframe thead th {\n",
       "        text-align: right;\n",
       "    }\n",
       "</style>\n",
       "<table border=\"1\" class=\"dataframe\">\n",
       "  <thead>\n",
       "    <tr style=\"text-align: right;\">\n",
       "      <th></th>\n",
       "      <th>actor</th>\n",
       "      <th>href</th>\n",
       "      <th>magnet</th>\n",
       "    </tr>\n",
       "  </thead>\n",
       "  <tbody>\n",
       "    <tr>\n",
       "      <th>0</th>\n",
       "      <td>三宮つばき</td>\n",
       "      <td>https://javdb.com//v/Az3VEy</td>\n",
       "      <td>magnet:?xt=urn:btih:7a2c51e57bb1300431afcae2e4...</td>\n",
       "    </tr>\n",
       "    <tr>\n",
       "      <th>1</th>\n",
       "      <td>二宮ひかり</td>\n",
       "      <td>https://javdb.com//v/k4xDYJ</td>\n",
       "      <td>magnet:?xt=urn:btih:f9484d0cb161da6fd686c67bcf...</td>\n",
       "    </tr>\n",
       "    <tr>\n",
       "      <th>2</th>\n",
       "      <td>希島あいり</td>\n",
       "      <td>https://javdb.com//v/ZXb3qP</td>\n",
       "      <td>magnet:?xt=urn:btih:5da924a392a2af7fa721a48325...</td>\n",
       "    </tr>\n",
       "    <tr>\n",
       "      <th>3</th>\n",
       "      <td>伊藤舞雪</td>\n",
       "      <td>https://javdb.com//v/eKeDp1</td>\n",
       "      <td>magnet:?xt=urn:btih:766b489afdf8473c22093d8f36...</td>\n",
       "    </tr>\n",
       "    <tr>\n",
       "      <th>4</th>\n",
       "      <td>石川澪</td>\n",
       "      <td>https://javdb.com//v/0Rg25k</td>\n",
       "      <td>magnet:?xt=urn:btih:74534680cc7115931b4c732970...</td>\n",
       "    </tr>\n",
       "  </tbody>\n",
       "</table>\n",
       "</div>"
      ],
      "text/plain": [
       "   actor                         href  \\\n",
       "0  三宮つばき  https://javdb.com//v/Az3VEy   \n",
       "1  二宮ひかり  https://javdb.com//v/k4xDYJ   \n",
       "2  希島あいり  https://javdb.com//v/ZXb3qP   \n",
       "3   伊藤舞雪  https://javdb.com//v/eKeDp1   \n",
       "4    石川澪  https://javdb.com//v/0Rg25k   \n",
       "\n",
       "                                              magnet  \n",
       "0  magnet:?xt=urn:btih:7a2c51e57bb1300431afcae2e4...  \n",
       "1  magnet:?xt=urn:btih:f9484d0cb161da6fd686c67bcf...  \n",
       "2  magnet:?xt=urn:btih:5da924a392a2af7fa721a48325...  \n",
       "3  magnet:?xt=urn:btih:766b489afdf8473c22093d8f36...  \n",
       "4  magnet:?xt=urn:btih:74534680cc7115931b4c732970...  "
      ]
     },
     "execution_count": 117,
     "metadata": {},
     "output_type": "execute_result"
    }
   ],
   "source": [
    "df = pd.DataFrame(update_list)\n",
    "df.head()"
   ]
  },
  {
   "cell_type": "code",
   "execution_count": 118,
   "id": "4ad86260",
   "metadata": {
    "ExecuteTime": {
     "end_time": "2024-01-06T08:44:28.354971Z",
     "start_time": "2024-01-06T08:44:28.339116Z"
    }
   },
   "outputs": [],
   "source": [
    "df = df.drop_duplicates(subset=['href'], keep='first')"
   ]
  },
  {
   "cell_type": "code",
   "execution_count": 119,
   "id": "ef7541f4",
   "metadata": {
    "ExecuteTime": {
     "end_time": "2024-01-06T08:44:29.216000Z",
     "start_time": "2024-01-06T08:44:29.198206Z"
    }
   },
   "outputs": [
    {
     "data": {
      "text/plain": [
       "(2234, 3)"
      ]
     },
     "execution_count": 119,
     "metadata": {},
     "output_type": "execute_result"
    }
   ],
   "source": [
    "df.shape"
   ]
  },
  {
   "cell_type": "code",
   "execution_count": 120,
   "id": "72cf6afe",
   "metadata": {
    "ExecuteTime": {
     "end_time": "2024-01-06T08:44:32.224751Z",
     "start_time": "2024-01-06T08:44:32.198747Z"
    }
   },
   "outputs": [
    {
     "data": {
      "text/html": [
       "<div>\n",
       "<style scoped>\n",
       "    .dataframe tbody tr th:only-of-type {\n",
       "        vertical-align: middle;\n",
       "    }\n",
       "\n",
       "    .dataframe tbody tr th {\n",
       "        vertical-align: top;\n",
       "    }\n",
       "\n",
       "    .dataframe thead th {\n",
       "        text-align: right;\n",
       "    }\n",
       "</style>\n",
       "<table border=\"1\" class=\"dataframe\">\n",
       "  <thead>\n",
       "    <tr style=\"text-align: right;\">\n",
       "      <th></th>\n",
       "      <th>href</th>\n",
       "    </tr>\n",
       "    <tr>\n",
       "      <th>actor</th>\n",
       "      <th></th>\n",
       "    </tr>\n",
       "  </thead>\n",
       "  <tbody>\n",
       "    <tr>\n",
       "      <th>AIKA</th>\n",
       "      <td>2</td>\n",
       "    </tr>\n",
       "    <tr>\n",
       "      <th>Hitomi</th>\n",
       "      <td>1</td>\n",
       "    </tr>\n",
       "    <tr>\n",
       "      <th>JULIA</th>\n",
       "      <td>27</td>\n",
       "    </tr>\n",
       "    <tr>\n",
       "      <th>MINAMO</th>\n",
       "      <td>1</td>\n",
       "    </tr>\n",
       "    <tr>\n",
       "      <th>Melody Marks</th>\n",
       "      <td>2</td>\n",
       "    </tr>\n",
       "    <tr>\n",
       "      <th>...</th>\n",
       "      <td>...</td>\n",
       "    </tr>\n",
       "    <tr>\n",
       "      <th>高西夏葉</th>\n",
       "      <td>1</td>\n",
       "    </tr>\n",
       "    <tr>\n",
       "      <th>鷲尾芽衣</th>\n",
       "      <td>2</td>\n",
       "    </tr>\n",
       "    <tr>\n",
       "      <th>鷹宮ゆい</th>\n",
       "      <td>1</td>\n",
       "    </tr>\n",
       "    <tr>\n",
       "      <th>麻生ひより</th>\n",
       "      <td>1</td>\n",
       "    </tr>\n",
       "    <tr>\n",
       "      <th>黒木澪</th>\n",
       "      <td>1</td>\n",
       "    </tr>\n",
       "  </tbody>\n",
       "</table>\n",
       "<p>492 rows × 1 columns</p>\n",
       "</div>"
      ],
      "text/plain": [
       "              href\n",
       "actor             \n",
       "AIKA             2\n",
       "Hitomi           1\n",
       "JULIA           27\n",
       "MINAMO           1\n",
       "Melody Marks     2\n",
       "...            ...\n",
       "高西夏葉             1\n",
       "鷲尾芽衣             2\n",
       "鷹宮ゆい             1\n",
       "麻生ひより            1\n",
       "黒木澪              1\n",
       "\n",
       "[492 rows x 1 columns]"
      ]
     },
     "execution_count": 120,
     "metadata": {},
     "output_type": "execute_result"
    }
   ],
   "source": [
    "df1 = df[[\"actor\",\"href\"]].groupby(\"actor\").count()\n",
    "df1"
   ]
  },
  {
   "cell_type": "code",
   "execution_count": 121,
   "id": "8ae0cabc",
   "metadata": {
    "ExecuteTime": {
     "end_time": "2024-01-06T08:44:35.282437Z",
     "start_time": "2024-01-06T08:44:35.263451Z"
    },
    "scrolled": true
   },
   "outputs": [
    {
     "data": {
      "text/html": [
       "<div>\n",
       "<style scoped>\n",
       "    .dataframe tbody tr th:only-of-type {\n",
       "        vertical-align: middle;\n",
       "    }\n",
       "\n",
       "    .dataframe tbody tr th {\n",
       "        vertical-align: top;\n",
       "    }\n",
       "\n",
       "    .dataframe thead th {\n",
       "        text-align: right;\n",
       "    }\n",
       "</style>\n",
       "<table border=\"1\" class=\"dataframe\">\n",
       "  <thead>\n",
       "    <tr style=\"text-align: right;\">\n",
       "      <th></th>\n",
       "      <th>href</th>\n",
       "    </tr>\n",
       "    <tr>\n",
       "      <th>actor</th>\n",
       "      <th></th>\n",
       "    </tr>\n",
       "  </thead>\n",
       "  <tbody>\n",
       "    <tr>\n",
       "      <th>三上悠亞</th>\n",
       "      <td>60</td>\n",
       "    </tr>\n",
       "    <tr>\n",
       "      <th>明里つむぎ</th>\n",
       "      <td>59</td>\n",
       "    </tr>\n",
       "    <tr>\n",
       "      <th>葵つかさ</th>\n",
       "      <td>50</td>\n",
       "    </tr>\n",
       "    <tr>\n",
       "      <th>新ありな</th>\n",
       "      <td>48</td>\n",
       "    </tr>\n",
       "    <tr>\n",
       "      <th>相沢みなみ</th>\n",
       "      <td>47</td>\n",
       "    </tr>\n",
       "    <tr>\n",
       "      <th>桜空もも</th>\n",
       "      <td>43</td>\n",
       "    </tr>\n",
       "    <tr>\n",
       "      <th>桃乃木かな</th>\n",
       "      <td>36</td>\n",
       "    </tr>\n",
       "    <tr>\n",
       "      <th>佐々木あき</th>\n",
       "      <td>35</td>\n",
       "    </tr>\n",
       "    <tr>\n",
       "      <th>神宮寺ナオ</th>\n",
       "      <td>35</td>\n",
       "    </tr>\n",
       "    <tr>\n",
       "      <th>涼森れむ</th>\n",
       "      <td>34</td>\n",
       "    </tr>\n",
       "    <tr>\n",
       "      <th>坂道みる</th>\n",
       "      <td>32</td>\n",
       "    </tr>\n",
       "    <tr>\n",
       "      <th>小野夕子</th>\n",
       "      <td>32</td>\n",
       "    </tr>\n",
       "    <tr>\n",
       "      <th>八掛うみ</th>\n",
       "      <td>31</td>\n",
       "    </tr>\n",
       "    <tr>\n",
       "      <th>山岸逢花</th>\n",
       "      <td>31</td>\n",
       "    </tr>\n",
       "    <tr>\n",
       "      <th>JULIA</th>\n",
       "      <td>27</td>\n",
       "    </tr>\n",
       "    <tr>\n",
       "      <th>安齋らら</th>\n",
       "      <td>27</td>\n",
       "    </tr>\n",
       "    <tr>\n",
       "      <th>水卜さくら</th>\n",
       "      <td>26</td>\n",
       "    </tr>\n",
       "    <tr>\n",
       "      <th>田中レモン</th>\n",
       "      <td>25</td>\n",
       "    </tr>\n",
       "    <tr>\n",
       "      <th>希島あいり</th>\n",
       "      <td>25</td>\n",
       "    </tr>\n",
       "    <tr>\n",
       "      <th>石川澪</th>\n",
       "      <td>25</td>\n",
       "    </tr>\n",
       "    <tr>\n",
       "      <th>松下紗栄子</th>\n",
       "      <td>25</td>\n",
       "    </tr>\n",
       "    <tr>\n",
       "      <th>藤森里穂</th>\n",
       "      <td>23</td>\n",
       "    </tr>\n",
       "    <tr>\n",
       "      <th>愛音まりあ</th>\n",
       "      <td>20</td>\n",
       "    </tr>\n",
       "    <tr>\n",
       "      <th>鈴村あいり</th>\n",
       "      <td>19</td>\n",
       "    </tr>\n",
       "    <tr>\n",
       "      <th>篠田ゆう</th>\n",
       "      <td>19</td>\n",
       "    </tr>\n",
       "  </tbody>\n",
       "</table>\n",
       "</div>"
      ],
      "text/plain": [
       "       href\n",
       "actor      \n",
       "三上悠亞     60\n",
       "明里つむぎ    59\n",
       "葵つかさ     50\n",
       "新ありな     48\n",
       "相沢みなみ    47\n",
       "桜空もも     43\n",
       "桃乃木かな    36\n",
       "佐々木あき    35\n",
       "神宮寺ナオ    35\n",
       "涼森れむ     34\n",
       "坂道みる     32\n",
       "小野夕子     32\n",
       "八掛うみ     31\n",
       "山岸逢花     31\n",
       "JULIA    27\n",
       "安齋らら     27\n",
       "水卜さくら    26\n",
       "田中レモン    25\n",
       "希島あいり    25\n",
       "石川澪      25\n",
       "松下紗栄子    25\n",
       "藤森里穂     23\n",
       "愛音まりあ    20\n",
       "鈴村あいり    19\n",
       "篠田ゆう     19"
      ]
     },
     "execution_count": 121,
     "metadata": {},
     "output_type": "execute_result"
    }
   ],
   "source": [
    "df1.sort_values(by=\"href\",ascending=False).head(n=25)"
   ]
  },
  {
   "cell_type": "code",
   "execution_count": 158,
   "id": "a4f67f29",
   "metadata": {
    "ExecuteTime": {
     "end_time": "2024-01-06T11:25:33.668094Z",
     "start_time": "2024-01-06T11:25:33.648101Z"
    }
   },
   "outputs": [
    {
     "data": {
      "text/plain": [
       "7       magnet:?xt=urn:btih:1f87413458ca37876294bced97...\n",
       "113     magnet:?xt=urn:btih:4430a4fce72f7f469b6a237af3...\n",
       "188     magnet:?xt=urn:btih:72f2658d034306a05a32ffd8a2...\n",
       "416     magnet:?xt=urn:btih:92e5338c0337d4eb87fe862eaa...\n",
       "653     magnet:?xt=urn:btih:79b4dc26db0181de6fcd03fb29...\n",
       "1110    magnet:?xt=urn:btih:2849e3aa741751ef130cc85546...\n",
       "1140    magnet:?xt=urn:btih:2ab7692bbe8f4c8d3303e895c0...\n",
       "1277    magnet:?xt=urn:btih:96203d8b4b07de086aba5b16f5...\n",
       "1283    magnet:?xt=urn:btih:1d64ff2418dbb7284953697190...\n",
       "1400    magnet:?xt=urn:btih:a2e305e96949584cf88b165c20...\n",
       "1525    magnet:?xt=urn:btih:d4112b4c22bf0f24cc8730f20e...\n",
       "1543    magnet:?xt=urn:btih:4943d2eff703bb210d4ff6852f...\n",
       "1648    magnet:?xt=urn:btih:78c8f71721ede06b0356f60af0...\n",
       "1785    magnet:?xt=urn:btih:f66b77fd4a5fc8334aa6022be5...\n",
       "1828    magnet:?xt=urn:btih:d9fc774c1f59cd9fb7e6d05b88...\n",
       "2015    magnet:?xt=urn:btih:1e7514e84a299aa41da8eb04c8...\n",
       "2080    magnet:?xt=urn:btih:7042a01dc7baf98c5e50eb2bfe...\n",
       "2093    magnet:?xt=urn:btih:0f950b74123cac857019f74a86...\n",
       "2433    magnet:?xt=urn:btih:3b6c8e1b131d116b06b722289c...\n",
       "Name: magnet, dtype: object"
      ]
     },
     "execution_count": 158,
     "metadata": {},
     "output_type": "execute_result"
    }
   ],
   "source": [
    "df.query(\"actor == '篠田ゆう'\")[\"magnet\"]"
   ]
  },
  {
   "cell_type": "code",
   "execution_count": 164,
   "id": "14a7eb32",
   "metadata": {
    "ExecuteTime": {
     "end_time": "2024-01-07T03:55:55.454752Z",
     "start_time": "2024-01-07T03:55:32.813769Z"
    }
   },
   "outputs": [
    {
     "name": "stdout",
     "output_type": "stream",
     "text": [
      "https://www.subtitlecat.com/index.php?search=SSIS-269\n",
      "https://www.subtitlecat.com/index.php?search=SSIS-203\n",
      "https://www.subtitlecat.com/index.php?search=SSIS-172\n",
      "https://www.subtitlecat.com/index.php?search=SSIS-136\n",
      "https://www.subtitlecat.com/index.php?search=SSIS-050\n",
      "https://www.subtitlecat.com/index.php?search=SSIS-025\n",
      "https://www.subtitlecat.com/index.php?search=SSNI-822\n",
      "https://www.subtitlecat.com/index.php?search=SSNI-752\n",
      "https://www.subtitlecat.com/index.php?search=SSNI-700\n",
      "https://www.subtitlecat.com/index.php?search=SSNI-643\n",
      "https://www.subtitlecat.com/index.php?search=SSNI-241\n",
      "https://www.subtitlecat.com/index.php?search=SSNI-228\n",
      "https://www.subtitlecat.com/index.php?search=SSNI-204\n",
      "https://www.subtitlecat.com/index.php?search=SSNI-177\n",
      "https://www.subtitlecat.com/index.php?search=SSNI-100\n",
      "https://www.subtitlecat.com/index.php?search=EBOD-609\n",
      "https://www.subtitlecat.com/index.php?search=SSNI-053\n",
      "https://www.subtitlecat.com/index.php?search=SSNI-029\n",
      "https://www.subtitlecat.com/index.php?search=snis-985\n",
      "https://www.subtitlecat.com/index.php?search=SNIS-895\n",
      "https://www.subtitlecat.com/index.php?search=SNIS-752\n",
      "https://www.subtitlecat.com/index.php?search=SNIS-712\n",
      "https://www.subtitlecat.com/index.php?search=SNIS-692\n",
      "https://www.subtitlecat.com/index.php?search=snis-673\n",
      "\n",
      "\n",
      "https://www.subtitlecat.com/index.php?search=SNIS-939\n",
      "https://www.subtitlecat.com/index.php?search=SNIS-811\n",
      "https://www.subtitlecat.com/index.php?search=SNIS-731\n"
     ]
    }
   ],
   "source": [
    "check = []\n",
    "try:\n",
    "    driver.get(\"https://www.subtitlecat.com/\")\n",
    "except:\n",
    "    driver = webdriver.Firefox()\n",
    "query = df.query(\"actor == '安齋らら'\")[\"magnet\"]\n",
    "for magnet in query: \n",
    "\n",
    "    try:\n",
    "        fh = re.findall(\n",
    "            \"(\\w+-\\d+)\", magnet)[-1]\n",
    "    except:\n",
    "        fh = re.findall(\"\\[javdb.com]([A-Za-z]+\\d+)\", magnet)[-1]\n",
    "    query_url = \"https://www.subtitlecat.com/index.php?search={}\".format(fh)\n",
    "#     print(query_url)\n",
    "\n",
    "    driver.get(query_url)\n",
    "    html = etree.HTML(driver.page_source)\n",
    "    for i in html.xpath(\".//td/a\"):\n",
    "        full_text = (\" \").join(i.xpath(\".././text()\") + i.xpath(\"./@href\"))\n",
    "        full_text = full_text.replace(\"%\", \"\")\n",
    "\n",
    "        if \"zh-CN\" in full_text and fh.split(\"-\")[-1] in full_text:\n",
    "            print(query_url)\n",
    "            check.append(query_url)\n",
    "            break\n",
    "\n",
    "print(\"\\n\")\n",
    "for magnet in query:\n",
    "\n",
    "    try:\n",
    "        fh = re.findall(\n",
    "            \"(\\w+-\\d+)\", magnet)[-1]\n",
    "    except:\n",
    "        fh = re.findall(\"\\[javdb.com]([A-Za-z]+\\d+)\", magnet)[-1]\n",
    "        \n",
    "    query_url = \"https://www.subtitlecat.com/index.php?search={}\".format(fh)\n",
    "    \n",
    "    if query_url not in check:\n",
    "        print(query_url)"
   ]
  },
  {
   "cell_type": "code",
   "execution_count": 130,
   "id": "0fb48fa6",
   "metadata": {
    "ExecuteTime": {
     "end_time": "2024-01-06T11:07:09.216147Z",
     "start_time": "2024-01-06T11:07:05.936675Z"
    }
   },
   "outputs": [],
   "source": [
    "driver.get(query_url)\n",
    "html = etree.HTML(driver.page_source)\n",
    "for i in html.xpath(\".//td/a\"):\n",
    "    full_text = (\" \").join(i.xpath(\".././text()\") + i.xpath(\"./@href\"))\n",
    "    full_text = full_text.replace(\"%\", \"\")"
   ]
  },
  {
   "cell_type": "code",
   "execution_count": 152,
   "id": "4008024e",
   "metadata": {
    "ExecuteTime": {
     "end_time": "2024-01-06T11:15:37.980791Z",
     "start_time": "2024-01-06T11:15:37.956653Z"
    }
   },
   "outputs": [
    {
     "name": "stdout",
     "output_type": "stream",
     "text": [
      " (translated from Korean) subs/263/Yua20Mikami20-20TEK-079.html\n",
      " (translated from English) subs/63/Su20ve20AteC385C5B820-20Full20Film20Tek20ParC383C2A7a.en.html\n",
      " (translated from English) subs/77/Tek20istediC384C5B8im20bunun20gibi20bir20C385C5B8ey.20FarklC384C2B120bir20motivasyon20videosu.20-20English.html\n",
      " (translated from Turkish) subs/86/5BDownSub.com5D20Tarkan20_20Yerli20Film20Tek20ParC383C2A7a2028FULL20HD29.html\n",
      " (translated from Korean) subs/94/TEK-00720Kor.html\n",
      " (translated from Korean) subs/99/TEK-07120KOR.html\n",
      " (translated from Thai) subs/103/TEK-071.html\n",
      " (translated from Thai) subs/116/TEK-077.html\n",
      " (translated from Korean) subs/152/TEK-08020kukudas.com.html\n",
      " (translated from Korean) subs/152/TEK-08020Yua20MikamiEBAFB8ECB9B4EBAFB8EC9CA0EC9584.html\n",
      " (translated from Thai) subs/153/TEK-089.html\n",
      " (translated from nso) subs/160/Mikami20Yua20TEK-073.html\n",
      " (translated from English) subs/160/Mikami20Yua20TEK-073-en.html\n",
      " (translated from English) subs/160/TEK-073-en.html\n",
      " (translated from Thai) subs/162/TEK-071..html\n",
      " (translated from zh-CN) subs/170/TEK-097.html\n",
      " (translated from Thai) subs/177/TEK-067.html\n",
      " (translated from Thai) subs/184/TEK-092.html\n",
      " (translated from Korean) subs/201/5BSubtitleTools.com5D20TEK-072.html\n",
      " (translated from English) subs/202/TEK-067-en.html\n",
      " (translated from Indonesian) subs/203/TEK-08020kukudas.com-id.html\n",
      " (translated from English) subs/203/TEK-067-en-en.html\n",
      " (translated from Japanese) subs/203/5BSubtitleTools.com5D20TEK-072-ja.html\n",
      " (translated from Japanese) subs/206/TEK-0772028decensored2920Star20Bikini20Models20MUTEKI20Debut20Shoko20Takahashi20E28B8620Jav20Guru20E28B8620Japanese20porn20Tube.html\n",
      " (translated from Korean) subs/207/5BSubtitleTools.com5D205BED959CEAB880EC9E90EBA7895D20TEK-07720ED8380ECB9B4ED9598EC8B9C20EC87BCECBD94.html\n",
      " (translated from Japanese) subs/213/5BFHD5D20TEK-08920EC9B8CED84B0EBA788ED81ACEC9786EC9D8C-ja.html\n",
      " (translated from zh-CN) subs/226/TEK-08028FHD2928UNCENSORED20LEAKED29.html\n",
      " (translated from Korean) subs/247/Moko20Sakura20-20TEK-096.html\n",
      " (translated from zh-CN) subs/248/TEK-098.html\n",
      " (translated from Korean) subs/250/TEK-072.html\n",
      " (translated from zh-CN) subs/250/TEK-076.html\n",
      " (translated from zh-CN) subs/250/TEK-081.html\n",
      " (translated from English) subs/250/Max.Steel.Team.Turbo.Fusion.Tek.2016.720p.WEB-DL.x264.AAC.id.html\n",
      "subs/252/The-Message_2020_English-ELSUBTITLE.COM-ST_583068572028tek20satC4B1rlC4B12920-20Kopya.html\n",
      " (translated from English) subs/252/TEK20SATIR.html\n",
      " (translated from zh-CN) subs/254/TEK-08920Chinese.html\n",
      " (translated from English) subs/254/Sir-Ayet-Tek-Parca-Full-HD.html\n",
      " (translated from English) subs/257/Max.Steel.Fusion.Tek.2016.SPANISH.1080p.WEBRip_Eng.html\n",
      " (translated from zh-CN) subs/263/TEK-0899.html\n",
      " (translated from Korean) subs/278/TEK-06720EBAFB8ECB9B4EBAFB8EC9CA0EC9584.html\n",
      " (translated from Korean) subs/280/TEK-067a.html\n",
      " (translated from Korean) subs/285/TEK-09620ECB488EAB3A0ED9994ECA788208.60G.html\n",
      " (translated from Korean) subs/287/TEK-08020EBAFB8ECB9B4EBAFB820EC9CA0EC9584.html\n",
      " (translated from English) subs/295/TEK-0772028Uncensored20English20-20E784A1E7A2BCE4B8ADE696872920Star20Bikini20ModelE28099s20MUTEKI20Debut20Shoko20Takahashi20E2809320Hello2120JAV20girls_2.html\n",
      " (translated from Turkish) subs/306/Tek20YC3BCrek2010.BC3B6lC3BCm.html\n",
      " (translated from English) subs/308/TEK-097.dl.en.html\n",
      " (translated from zh-CN) subs/311/TEK-079y.html\n",
      " (translated from Indonesian) subs/334/TEK-089-id.html\n",
      " (translated from English) subs/341/TEK-081-ar.html\n",
      " (translated from Malay) subs/341/TEK-081-ms.html\n",
      " (translated from English) subs/343/5BSubtitleTools.com5D20TEK-072-en.html\n",
      " (translated from zh-CN) subs/348/TEK-07620CHN.html\n",
      " (translated from Turkish) subs/362/Kim20Daha20Mutlu20Yerli20Film20Romantik20Komedi20Tek20ParC3A7a.html\n",
      " (translated from Turkish) subs/405/Baba2018.20BE2809DlD9BEm20HD20Tek20ParE280A1a20Izle20-20Son20BE2809DlD9BEm.html\n",
      " (translated from English) subs/405/Baba2018.20BE2809DlD9BEm20HD20Tek20ParE280A1a20Izle20-20Son20BE2809DlD9BEm-en.html\n",
      " (translated from Turkish) subs/409/Baba2020.20BE2809DlD9BEm20HD20Tek20ParE280A1a20Izle.html\n",
      " (translated from Aragonese) subs/410/Ah20Nerede201.Sezon201.BCEA6lCE92m20Tek20ParCE98a20Full20HD20Izle.html\n",
      " (translated from Turkish) subs/410/Baba202120BE2809DlD9BEm20HD20Tek20ParE280A1a20Izle.html\n",
      " (translated from Turkish) subs/413/Baba202220BE2809DlD9BEm20HD20Tek20ParE280A1a20Izle.html\n",
      " (translated from Aragonese) subs/414/Baba202.20BCEA6lCE92m20HD20Tek20ParCE98a20Izle.html\n",
      " (translated from Aragonese) subs/415/Kaderimin20Oyunu201.Sezon201.BCEA6lCE92m20Tek20ParCE98a20Full20HD20Izle.ar.html\n",
      " (translated from Turkish) subs/418/Baba2016.20BE2809DlD9BEm20HD20Tek20ParE280A1a20Izle.html\n",
      " (translated from Turkish) subs/418/Baba2019.20BE2809DlD9BEm20HD20Tek20ParE280A1a20Izle.html\n",
      " (translated from Turkish) subs/418/Baba2017.20BE2809DlD9BEm20HD20Tek20ParE280A1a20Izle.html\n",
      " (translated from Turkish) subs/421/Baba2025.20BE2809DlD9BEm20HD20Tek20ParE280A1a20Izle.html\n",
      " (translated from Turkish) subs/443/Ah20Nerede201.Sezon201.BCEA6lCE92m20Tek20ParCE98a20Full20HD20Izle.tr.html\n",
      " (translated from zh-CN) subs/445/TEK-080-chn.html\n",
      " (translated from zh-CN) subs/448/Yua20Mikami20-20TEK-081-CN.html\n",
      " (translated from Korean) subs/460/Yua20Mikami20-20TEK-067-CN.html\n",
      " (translated from Japanese) subs/479/TEK-08320Pleasure20And20Ecstasy20Over20And20Over20Again20In20Sex20With20A20Chained20And20Restrained20Idol20Yua20Mikami.html\n",
      " (translated from Turkish) subs/518/5BTurkish2028auto-generated295D20SalkC4B1m20HanC4B1m27C4B1n20Taneleri20-20Yerli20Film2028Tek20ParC3A7a29205BDownSub.com5D.html\n",
      " (translated from English) subs/518/5BTurkish2028auto-generated295D20SalkC4B1m20HanC4B1m27C4B1n20Taneleri20-20Yerli20Film2028Tek20ParC3A7a29205BDownSub.com5D.en.html\n",
      " (translated from Turkish) subs/530/Zemheri201.20BE6948DE4B9B520HD20Tek20ParE598BA20Izle.html\n",
      " (translated from Turkish) subs/530/Zemheri202.20BE6948DE4B9B520HD20Tek20ParE598BA20Izle.html\n",
      " (translated from Turkish) subs/530/Zemheri203.20BE6948DE4B9B520HD20Tek20ParE598BA20Izle.html\n",
      "subs/539/Gelsin20Hayat20BildiC49Fi20Gibi2025.20BC3B6lC3BCm20HD20Tek20ParC3A7a20C4B0zle.html\n",
      " (translated from Turkish) subs/557/KC4B1zC4B1lcC4B1k20C59Eerbeti201.20BC3B6lC3BCm20HD20Tek20ParC3A7a20C4B0zle.html\n",
      " (translated from Japanese) subs/589/TEK-081-ar-ja.html\n",
      " (translated from Japanese) subs/623/TEK-067-jp.html\n",
      " (translated from Japanese) subs/624/TEK-081-ja.html\n"
     ]
    }
   ],
   "source": [
    "for i in html.xpath(\".//td/a\"):\n",
    "    full_text = (\" \").join(i.xpath(\".././text()\") + i.xpath(\"./@href\"))\n",
    "    full_text = full_text.replace(\"%\", \"\")\n",
    "    print(full_text)"
   ]
  },
  {
   "cell_type": "code",
   "execution_count": 166,
   "id": "ac78b3cc",
   "metadata": {
    "ExecuteTime": {
     "end_time": "2024-01-07T10:43:55.520381Z",
     "start_time": "2024-01-07T10:43:54.940333Z"
    }
   },
   "outputs": [],
   "source": [
    "df.to_excel(\"./UC.xlsx\",index=False)"
   ]
  },
  {
   "cell_type": "code",
   "execution_count": null,
   "id": "aa2d312a",
   "metadata": {},
   "outputs": [],
   "source": []
  }
 ],
 "metadata": {
  "hide_input": false,
  "kernelspec": {
   "display_name": "Python 3 (ipykernel)",
   "language": "python",
   "name": "python3"
  },
  "language_info": {
   "codemirror_mode": {
    "name": "ipython",
    "version": 3
   },
   "file_extension": ".py",
   "mimetype": "text/x-python",
   "name": "python",
   "nbconvert_exporter": "python",
   "pygments_lexer": "ipython3",
   "version": "3.10.8"
  },
  "toc": {
   "nav_menu": {},
   "number_sections": true,
   "sideBar": true,
   "skip_h1_title": false,
   "title_cell": "Table of Contents",
   "title_sidebar": "Contents",
   "toc_cell": false,
   "toc_position": {},
   "toc_section_display": true,
   "toc_window_display": false
  },
  "varInspector": {
   "cols": {
    "lenName": 16,
    "lenType": 16,
    "lenVar": 40
   },
   "kernels_config": {
    "python": {
     "delete_cmd_postfix": "",
     "delete_cmd_prefix": "del ",
     "library": "var_list.py",
     "varRefreshCmd": "print(var_dic_list())"
    },
    "r": {
     "delete_cmd_postfix": ") ",
     "delete_cmd_prefix": "rm(",
     "library": "var_list.r",
     "varRefreshCmd": "cat(var_dic_list()) "
    }
   },
   "types_to_exclude": [
    "module",
    "function",
    "builtin_function_or_method",
    "instance",
    "_Feature"
   ],
   "window_display": false
  }
 },
 "nbformat": 4,
 "nbformat_minor": 5
}
