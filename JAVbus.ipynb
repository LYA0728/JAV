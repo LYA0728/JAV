{
 "cells": [
  {
   "cell_type": "code",
   "execution_count": 1,
   "id": "9d13ba02",
   "metadata": {
    "ExecuteTime": {
     "end_time": "2023-10-14T09:30:40.403949Z",
     "start_time": "2023-10-14T09:30:40.209035Z"
    }
   },
   "outputs": [],
   "source": [
    "import requests"
   ]
  },
  {
   "cell_type": "code",
   "execution_count": null,
   "id": "9d29fdc8",
   "metadata": {},
   "outputs": [],
   "source": []
  },
  {
   "cell_type": "code",
   "execution_count": 2,
   "id": "a90b08e8",
   "metadata": {
    "ExecuteTime": {
     "end_time": "2023-10-14T09:31:07.164589Z",
     "start_time": "2023-10-14T09:31:07.149674Z"
    }
   },
   "outputs": [],
   "source": [
    "queryUrl = \"https://www.javbus.com/search/%E5%B0%8F%E5%AE%B5%E3%81%93%E3%81%AA%E3%82%93&type=&parent=ce\""
   ]
  },
  {
   "cell_type": "code",
   "execution_count": null,
   "id": "9cd55474",
   "metadata": {},
   "outputs": [],
   "source": [
    "\"headers\": [\n",
    "\t\t\t{\n",
    "\t\t\t\t\"name\": \"Accept\",\n",
    "\t\t\t\t\"value\": \"text/html,application/xhtml+xml,application/xml;q=0.9,image/avif,image/webp,*/*;q=0.8\"\n",
    "\t\t\t},\n",
    "\t\t\t{\n",
    "\t\t\t\t\"name\": \"Accept-Encoding\",\n",
    "\t\t\t\t\"value\": \"gzip, deflate, br\"\n",
    "\t\t\t},\n",
    "\t\t\t{\n",
    "\t\t\t\t\"name\": \"Accept-Language\",\n",
    "\t\t\t\t\"value\": \"zh-CN,zh;q=0.8,zh-TW;q=0.7,zh-HK;q=0.5,en-US;q=0.3,en;q=0.2\"\n",
    "\t\t\t},\n",
    "\t\t\t{\n",
    "\t\t\t\t\"name\": \"Connection\",\n",
    "\t\t\t\t\"value\": \"keep-alive\"\n",
    "\t\t\t},\n",
    "\t\t\t{\n",
    "\t\t\t\t\"name\": \"Cookie\",\n",
    "\t\t\t\t\"value\": \"existmag=mag; PHPSESSID=k4karuqn837cuk0ntdq0g4mor1\"\n",
    "\t\t\t},\n",
    "\t\t\t{\n",
    "\t\t\t\t\"name\": \"Host\",\n",
    "\t\t\t\t\"value\": \"www.javbus.com\"\n",
    "\t\t\t},\n",
    "\t\t\t{\n",
    "\t\t\t\t\"name\": \"Sec-Fetch-Dest\",\n",
    "\t\t\t\t\"value\": \"document\"\n",
    "\t\t\t},\n",
    "\t\t\t{\n",
    "\t\t\t\t\"name\": \"Sec-Fetch-Mode\",\n",
    "\t\t\t\t\"value\": \"navigate\"\n",
    "\t\t\t},\n",
    "\t\t\t{\n",
    "\t\t\t\t\"name\": \"Sec-Fetch-Site\",\n",
    "\t\t\t\t\"value\": \"none\"\n",
    "\t\t\t},\n",
    "\t\t\t{\n",
    "\t\t\t\t\"name\": \"Sec-Fetch-User\",\n",
    "\t\t\t\t\"value\": \"?1\"\n",
    "\t\t\t},\n",
    "\t\t\t{\n",
    "\t\t\t\t\"name\": \"TE\",\n",
    "\t\t\t\t\"value\": \"trailers\"\n",
    "\t\t\t},\n",
    "\t\t\t{\n",
    "\t\t\t\t\"name\": \"Upgrade-Insecure-Requests\",\n",
    "\t\t\t\t\"value\": \"1\"\n",
    "\t\t\t},\n",
    "\t\t\t{\n",
    "\t\t\t\t\"name\": \"User-Agent\",\n",
    "\t\t\t\t\"value\": \"Mozilla/5.0 (Windows NT 10.0; Win64; x64; rv:109.0) Gecko/20100101 Firefox/118.0\"\n",
    "\t\t\t}\n",
    "\t\t]"
   ]
  }
 ],
 "metadata": {
  "hide_input": false,
  "kernelspec": {
   "display_name": "Python 3 (ipykernel)",
   "language": "python",
   "name": "python3"
  },
  "language_info": {
   "codemirror_mode": {
    "name": "ipython",
    "version": 3
   },
   "file_extension": ".py",
   "mimetype": "text/x-python",
   "name": "python",
   "nbconvert_exporter": "python",
   "pygments_lexer": "ipython3",
   "version": "3.10.8"
  },
  "toc": {
   "base_numbering": 1,
   "nav_menu": {},
   "number_sections": true,
   "sideBar": true,
   "skip_h1_title": false,
   "title_cell": "Table of Contents",
   "title_sidebar": "Contents",
   "toc_cell": false,
   "toc_position": {},
   "toc_section_display": true,
   "toc_window_display": false
  },
  "varInspector": {
   "cols": {
    "lenName": 16,
    "lenType": 16,
    "lenVar": 40
   },
   "kernels_config": {
    "python": {
     "delete_cmd_postfix": "",
     "delete_cmd_prefix": "del ",
     "library": "var_list.py",
     "varRefreshCmd": "print(var_dic_list())"
    },
    "r": {
     "delete_cmd_postfix": ") ",
     "delete_cmd_prefix": "rm(",
     "library": "var_list.r",
     "varRefreshCmd": "cat(var_dic_list()) "
    }
   },
   "types_to_exclude": [
    "module",
    "function",
    "builtin_function_or_method",
    "instance",
    "_Feature"
   ],
   "window_display": false
  }
 },
 "nbformat": 4,
 "nbformat_minor": 5
}
