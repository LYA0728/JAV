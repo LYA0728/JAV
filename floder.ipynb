{
 "cells": [
  {
   "cell_type": "code",
   "execution_count": null,
   "id": "f6e45623",
   "metadata": {},
   "outputs": [],
   "source": []
  },
  {
   "cell_type": "code",
   "execution_count": 1,
   "id": "d76dbca2",
   "metadata": {
    "ExecuteTime": {
     "end_time": "2023-12-31T10:15:34.768130Z",
     "start_time": "2023-12-31T10:15:34.436277Z"
    }
   },
   "outputs": [],
   "source": [
    "import os\n",
    "import re\n",
    "import requests\n",
    "from lxml import etree\n",
    "import wget\n",
    "from selenium import webdriver\n",
    "import base64\n",
    "import os\n",
    "import re\n",
    "from io import BytesIO\n",
    "from PIL import Image\n",
    "import json\n",
    "\n",
    "import random"
   ]
  },
  {
   "cell_type": "code",
   "execution_count": null,
   "id": "8febfdad",
   "metadata": {},
   "outputs": [],
   "source": []
  },
  {
   "cell_type": "code",
   "execution_count": 2,
   "id": "ab868a32",
   "metadata": {
    "ExecuteTime": {
     "end_time": "2023-12-31T10:15:34.783544Z",
     "start_time": "2023-12-31T10:15:34.777244Z"
    }
   },
   "outputs": [],
   "source": [
    "def get_poster(fh:str):\n",
    "    \"\"\"\n",
    "    根据番号获取图片链接\n",
    "    \"\"\"\n",
    "    # 查询链接\n",
    "    seacher_url = \"https://javdb.com/search?q={}&f=all\".format(fh)\n",
    "    # print(seacher_url)\n",
    "    res_text = driver.get(seacher_url)\n",
    "    \n",
    "    html = etree.HTML(driver.page_source)\n",
    "    img_src = html.xpath('.//img[@loading=\"lazy\"]/@src')[0]\n",
    "    return img_src"
   ]
  },
  {
   "cell_type": "code",
   "execution_count": 3,
   "id": "b511ed61",
   "metadata": {
    "ExecuteTime": {
     "end_time": "2023-12-31T10:15:35.026656Z",
     "start_time": "2023-12-31T10:15:35.014650Z"
    }
   },
   "outputs": [
    {
     "name": "stdout",
     "output_type": "stream",
     "text": [
      "山岸逢花\n",
      "有栖花绯\n",
      "河北采花\n",
      "白峰ミ\n",
      "神木\n"
     ]
    }
   ],
   "source": [
    "root = r\"F:\\JAV\"\n",
    "for i in os.listdir(root)[1:]:\n",
    "    print(i)"
   ]
  },
  {
   "cell_type": "code",
   "execution_count": 4,
   "id": "18189e2b",
   "metadata": {
    "ExecuteTime": {
     "end_time": "2023-12-31T10:15:55.721587Z",
     "start_time": "2023-12-31T10:15:38.868174Z"
    }
   },
   "outputs": [
    {
     "name": "stdout",
     "output_type": "stream",
     "text": [
      "F:\\JAV\\山岸逢花\\[7sht.me]pred-140-C\\folder.jpg\n",
      "F:\\JAV\\山岸逢花\\pred-153-C\\folder.jpg\n",
      "F:\\JAV\\山岸逢花\\PRED-133\\folder.jpg\n",
      "F:\\JAV\\山岸逢花\\PRED-099-c\\folder.jpg\n",
      "F:\\JAV\\山岸逢花\\PRED-068-C\\folder.jpg\n",
      "F:\\JAV\\山岸逢花\\IPX-219\\folder.jpg\n",
      "F:\\JAV\\有栖花绯\\SSIS-950-C\\folder.jpg\n",
      "F:\\JAV\\有栖花绯\\SSIS-870-U\\folder.jpg\n",
      "F:\\JAV\\有栖花绯\\SSIS-784-U\\folder.jpg\n",
      "F:\\JAV\\有栖花绯\\SSIS-641-U\\folder.jpg\n",
      "F:\\JAV\\有栖花绯\\SSIS-235-U\\folder.jpg\n",
      "F:\\JAV\\有栖花绯\\SSIS-084-U\\folder.jpg\n",
      "F:\\JAV\\有栖花绯\\ssis-011-uncensored\\folder.jpg\n",
      "F:\\JAV\\河北采花\\SSNI-240-U\\folder.jpg\n",
      "F:\\JAV\\河北采花\\SSIS-499-U\\folder.jpg\n",
      "F:\\JAV\\河北采花\\SSIS-468-U\\folder.jpg\n",
      "F:\\JAV\\河北采花\\SSIS-413-U\\folder.jpg\n",
      "F:\\JAV\\河北采花\\SSIS-158-U\\folder.jpg\n",
      "F:\\JAV\\白峰ミ\\SAME-013-C\\folder.jpg\n",
      "F:\\JAV\\白峰ミ\\PRED-526-C\\folder.jpg\n",
      "F:\\JAV\\白峰ミ\\PRED-516-C\\folder.jpg\n",
      "F:\\JAV\\白峰ミ\\PRED-507-C\\folder.jpg\n",
      "F:\\JAV\\白峰ミ\\PRED-498-C\\folder.jpg\n",
      "F:\\JAV\\白峰ミ\\PRED-488-C\\folder.jpg\n",
      "F:\\JAV\\白峰ミ\\PRED-483-U\\folder.jpg\n",
      "F:\\JAV\\白峰ミ\\IPX-845-U\\folder.jpg\n",
      "F:\\JAV\\白峰ミ\\IPX-826-U\\folder.jpg\n",
      "F:\\JAV\\白峰ミ\\IPX-806-U\\folder.jpg\n",
      "F:\\JAV\\白峰ミ\\ipx-771-C\\folder.jpg\n",
      "F:\\JAV\\白峰ミ\\IPX-753-U\\folder.jpg\n",
      "F:\\JAV\\白峰ミ\\IPX-736-U\\folder.jpg\n",
      "F:\\JAV\\白峰ミ\\ipx-700-C\\folder.jpg\n",
      "F:\\JAV\\白峰ミ\\IPX-683-U\\folder.jpg\n",
      "F:\\JAV\\白峰ミ\\IPX-668-U\\folder.jpg\n",
      "F:\\JAV\\白峰ミ\\IPX-652-U\\folder.jpg\n",
      "F:\\JAV\\白峰ミ\\IPX-635-U\\folder.jpg\n",
      "F:\\JAV\\白峰ミ\\IPX-589-C\\folder.jpg\n",
      "F:\\JAV\\白峰ミ\\ATID-566-U\\folder.jpg\n",
      "F:\\JAV\\白峰ミ\\ATID-561-U\\folder.jpg\n",
      "F:\\JAV\\白峰ミ\\ATID-557-C\\folder.jpg\n",
      "F:\\JAV\\白峰ミ\\ATID-555-U\\folder.jpg\n",
      "F:\\JAV\\白峰ミ\\ADN-503-C\\folder.jpg\n",
      "F:\\JAV\\白峰ミ\\ADN-499-C\\folder.jpg\n",
      "F:\\JAV\\白峰ミ\\ADN-413-U\\folder.jpg\n",
      "F:\\JAV\\白峰ミ\\ADN-405-U\\folder.jpg\n",
      "F:\\JAV\\白峰ミ\\ADN-396-U\\folder.jpg\n",
      "F:\\JAV\\神木\\STARS-979-UC\\folder.jpg\n",
      "STARS-979 F:\\JAV\\神木\\STARS-979-UC\\folder.jpg\n",
      "F:\\JAV\\神木\\STARS-964-UC\\folder.jpg\n",
      "F:\\JAV\\神木\\STARS-923-UC\\folder.jpg\n",
      "F:\\JAV\\神木\\STARS-896-UC\\folder.jpg\n",
      "F:\\JAV\\神木\\STARS-894-UC\\folder.jpg\n",
      "F:\\JAV\\神木\\STARS-881-UC\\folder.jpg\n",
      "F:\\JAV\\神木\\STARS-866-UC\\folder.jpg\n",
      "F:\\JAV\\神木\\STARS-852-UC\\folder.jpg\n",
      "F:\\JAV\\神木\\STARS-818-UC\\folder.jpg\n",
      "F:\\JAV\\神木\\STARS-804-UC\\folder.jpg\n",
      "F:\\JAV\\神木\\STARS-778-U\\folder.jpg\n",
      "F:\\JAV\\神木\\STARS-766-UC\\folder.jpg\n",
      "F:\\JAV\\神木\\STARS-734-UC\\folder.jpg\n",
      "F:\\JAV\\神木\\STARS-725-U\\folder.jpg\n",
      "F:\\JAV\\神木\\stars-725-4k\\folder.jpg\n",
      "F:\\JAV\\神木\\stars-703-C\\folder.jpg\n",
      "F:\\JAV\\神木\\stars-642-C\\folder.jpg\n",
      "F:\\JAV\\神木\\STARS-599-U\\folder.jpg\n",
      "F:\\JAV\\神木\\STARS-573-U\\folder.jpg\n"
     ]
    }
   ],
   "source": [
    "# executable_path = r\"E:\\JupyterFiles\\geckodriver\\geckodriver\\geckodriver.exe\"\n",
    "# driver = webdriver.Firefox(executable_path=executable_path)\n",
    "# driver = webdriver.Firefox()\n",
    "root = r\"F:\\JAV\"\n",
    "\n",
    "try:\n",
    "    driver.get(\"https://www.javbus.com\")\n",
    "except:\n",
    "    driver = webdriver.Firefox()\n",
    "    \n",
    "for i in os.listdir(root)[1:]:\n",
    "    # print(r\"\\\\10.168.1.127\\hdd3t\\JAV\\{}\".format(i))\n",
    "    for j in os.listdir(r\"{}\\{}\".format(root,i))[::-1]:\n",
    "        sp = r\"{}\\{}\\{}\\folder.jpg\".format(root,i, j)\n",
    "        print(sp)\n",
    "        \n",
    "        if os.path.exists(sp):\n",
    "            continue\n",
    "        try:\n",
    "#             print( re.findall(\"\\d+-\\d+\", j))\n",
    "            fh = re.findall(\"\\w+-\\d+\", j)[-1]\n",
    "        except:\n",
    "            \n",
    "            fh = re.findall(\"\\d+_\\s\\d+\", j)[-1]\n",
    "        \n",
    "        seacher_url = \"https://javdb.com/search?q={}&f=all\".format(fh)\n",
    "        \n",
    "        if not os.path.exists(sp):\n",
    "            try:\n",
    "                os.remove(sp)\n",
    "            except:\n",
    "                pass\n",
    "\n",
    "            with open(sp, mode=\"wb\") as file:\n",
    "                # 直接使用使用requests 请求图片保存\n",
    "                file.write(requests.get(get_poster(fh)).content)\n",
    "                print(fh,sp)\n",
    "\n",
    "driver.close()"
   ]
  },
  {
   "cell_type": "code",
   "execution_count": 4,
   "id": "506b1f02",
   "metadata": {
    "ExecuteTime": {
     "end_time": "2023-10-28T13:06:55.241959Z",
     "start_time": "2023-10-28T13:06:55.194157Z"
    }
   },
   "outputs": [
    {
     "name": "stdout",
     "output_type": "stream",
     "text": [
      "G:\\JAV\\TOP\\1-50\\folder.jpg\n",
      "G:\\JAV\\TOP\\105-110\\folder.jpg\n",
      "G:\\JAV\\TOP\\110-135\\folder.jpg\n",
      "G:\\JAV\\TOP\\130-150\\folder.jpg\n",
      "G:\\JAV\\TOP\\151-152\\folder.jpg\n",
      "G:\\JAV\\TOP\\153-157\\folder.jpg\n",
      "G:\\JAV\\TOP\\154-156\\folder.jpg\n",
      "G:\\JAV\\TOP\\158-165\\folder.jpg\n",
      "G:\\JAV\\TOP\\166-175\\folder.jpg\n",
      "G:\\JAV\\TOP\\176-180\\folder.jpg\n",
      "G:\\JAV\\TOP\\180-250\\folder.jpg\n",
      "G:\\JAV\\TOP\\51-60\\folder.jpg\n",
      "G:\\JAV\\TOP\\60-82\\folder.jpg\n",
      "G:\\JAV\\TOP\\83-86\\folder.jpg\n",
      "G:\\JAV\\TOP\\87-95\\folder.jpg\n",
      "G:\\JAV\\TOP\\96-105\\folder.jpg\n",
      "G:\\JAV\\TOP\\年度\\folder.jpg\n"
     ]
    },
    {
     "ename": "IndexError",
     "evalue": "list index out of range",
     "output_type": "error",
     "traceback": [
      "\u001b[1;31m---------------------------------------------------------------------------\u001b[0m",
      "\u001b[1;31mIndexError\u001b[0m                                Traceback (most recent call last)",
      "Cell \u001b[1;32mIn[4], line 9\u001b[0m\n\u001b[0;32m      7\u001b[0m         \u001b[38;5;28;01mtry\u001b[39;00m:\n\u001b[0;32m      8\u001b[0m \u001b[38;5;66;03m#             print( re.findall(\"\\d+-\\d+\", j))\u001b[39;00m\n\u001b[1;32m----> 9\u001b[0m             fh \u001b[38;5;241m=\u001b[39m \u001b[43mre\u001b[49m\u001b[38;5;241;43m.\u001b[39;49m\u001b[43mfindall\u001b[49m\u001b[43m(\u001b[49m\u001b[38;5;124;43m\"\u001b[39;49m\u001b[38;5;124;43m\\\u001b[39;49m\u001b[38;5;124;43mw+-\u001b[39;49m\u001b[38;5;124;43m\\\u001b[39;49m\u001b[38;5;124;43md+\u001b[39;49m\u001b[38;5;124;43m\"\u001b[39;49m\u001b[43m,\u001b[49m\u001b[43m \u001b[49m\u001b[43mj\u001b[49m\u001b[43m)\u001b[49m\u001b[43m[\u001b[49m\u001b[38;5;241;43m-\u001b[39;49m\u001b[38;5;241;43m1\u001b[39;49m\u001b[43m]\u001b[49m\n\u001b[0;32m     10\u001b[0m         \u001b[38;5;28;01mexcept\u001b[39;00m:\n",
      "\u001b[1;31mIndexError\u001b[0m: list index out of range",
      "\nDuring handling of the above exception, another exception occurred:\n",
      "\u001b[1;31mIndexError\u001b[0m                                Traceback (most recent call last)",
      "Cell \u001b[1;32mIn[4], line 11\u001b[0m\n\u001b[0;32m      9\u001b[0m     fh \u001b[38;5;241m=\u001b[39m re\u001b[38;5;241m.\u001b[39mfindall(\u001b[38;5;124m\"\u001b[39m\u001b[38;5;124m\\\u001b[39m\u001b[38;5;124mw+-\u001b[39m\u001b[38;5;124m\\\u001b[39m\u001b[38;5;124md+\u001b[39m\u001b[38;5;124m\"\u001b[39m, j)[\u001b[38;5;241m-\u001b[39m\u001b[38;5;241m1\u001b[39m]\n\u001b[0;32m     10\u001b[0m \u001b[38;5;28;01mexcept\u001b[39;00m:\n\u001b[1;32m---> 11\u001b[0m     fh \u001b[38;5;241m=\u001b[39m \u001b[43mre\u001b[49m\u001b[38;5;241;43m.\u001b[39;49m\u001b[43mfindall\u001b[49m\u001b[43m(\u001b[49m\u001b[38;5;124;43m\"\u001b[39;49m\u001b[38;5;124;43m\\\u001b[39;49m\u001b[38;5;124;43md+-\u001b[39;49m\u001b[38;5;124;43m\\\u001b[39;49m\u001b[38;5;124;43md+\u001b[39;49m\u001b[38;5;124;43m\"\u001b[39;49m\u001b[43m,\u001b[49m\u001b[43m \u001b[49m\u001b[43mj\u001b[49m\u001b[43m)\u001b[49m\u001b[43m[\u001b[49m\u001b[38;5;241;43m-\u001b[39;49m\u001b[38;5;241;43m1\u001b[39;49m\u001b[43m]\u001b[49m\n\u001b[0;32m     12\u001b[0m seacher_url \u001b[38;5;241m=\u001b[39m \u001b[38;5;124m\"\u001b[39m\u001b[38;5;124mhttps://javdb.com/search?q=\u001b[39m\u001b[38;5;132;01m{}\u001b[39;00m\u001b[38;5;124m&f=all\u001b[39m\u001b[38;5;124m\"\u001b[39m\u001b[38;5;241m.\u001b[39mformat(fh)\n\u001b[0;32m     14\u001b[0m \u001b[38;5;28;01mif\u001b[39;00m \u001b[38;5;129;01mnot\u001b[39;00m os\u001b[38;5;241m.\u001b[39mpath\u001b[38;5;241m.\u001b[39mexists(sp):\n",
      "\u001b[1;31mIndexError\u001b[0m: list index out of range"
     ]
    }
   ],
   "source": [
    "root = r\"G:\\JAV\\TOP\"\n",
    "for i in os.listdir(root)[:]:\n",
    "    # print(r\"\\\\10.168.1.127\\hdd3t\\JAV\\{}\".format(i))\n",
    "    for j in os.listdir(r\"{}\\{}\".format(root,i))[::1]:\n",
    "        sp = r\"{}\\{}\\{}\\folder.jpg\".format(root,i, j)\n",
    "        print(sp)\n",
    "        try:\n",
    "#             print( re.findall(\"\\d+-\\d+\", j))\n",
    "            fh = re.findall(\"\\w+-\\d+\", j)[-1]\n",
    "        except:\n",
    "            fh = re.findall(\"\\d+-\\d+\", j)[-1]\n",
    "        seacher_url = \"https://javdb.com/search?q={}&f=all\".format(fh)\n",
    "        \n",
    "        if not os.path.exists(sp):\n",
    "            try:\n",
    "                os.remove(sp)\n",
    "            except:\n",
    "                pass"
   ]
  },
  {
   "cell_type": "code",
   "execution_count": null,
   "id": "a29716ab",
   "metadata": {},
   "outputs": [],
   "source": []
  }
 ],
 "metadata": {
  "hide_input": false,
  "kernelspec": {
   "display_name": "Python 3 (ipykernel)",
   "language": "python",
   "name": "python3"
  },
  "language_info": {
   "codemirror_mode": {
    "name": "ipython",
    "version": 3
   },
   "file_extension": ".py",
   "mimetype": "text/x-python",
   "name": "python",
   "nbconvert_exporter": "python",
   "pygments_lexer": "ipython3",
   "version": "3.10.8"
  },
  "toc": {
   "nav_menu": {},
   "number_sections": true,
   "sideBar": true,
   "skip_h1_title": false,
   "title_cell": "Table of Contents",
   "title_sidebar": "Contents",
   "toc_cell": false,
   "toc_position": {},
   "toc_section_display": true,
   "toc_window_display": false
  },
  "varInspector": {
   "cols": {
    "lenName": 16,
    "lenType": 16,
    "lenVar": 40
   },
   "kernels_config": {
    "python": {
     "delete_cmd_postfix": "",
     "delete_cmd_prefix": "del ",
     "library": "var_list.py",
     "varRefreshCmd": "print(var_dic_list())"
    },
    "r": {
     "delete_cmd_postfix": ") ",
     "delete_cmd_prefix": "rm(",
     "library": "var_list.r",
     "varRefreshCmd": "cat(var_dic_list()) "
    }
   },
   "types_to_exclude": [
    "module",
    "function",
    "builtin_function_or_method",
    "instance",
    "_Feature"
   ],
   "window_display": false
  }
 },
 "nbformat": 4,
 "nbformat_minor": 5
}
