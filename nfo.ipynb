{
 "cells": [
  {
   "cell_type": "code",
   "execution_count": null,
   "id": "842aeea4",
   "metadata": {},
   "outputs": [],
   "source": []
  },
  {
   "cell_type": "code",
   "execution_count": null,
   "id": "455d09a4",
   "metadata": {},
   "outputs": [],
   "source": []
  },
  {
   "cell_type": "code",
   "execution_count": 1,
   "id": "49e6235a",
   "metadata": {
    "ExecuteTime": {
     "end_time": "2023-12-31T10:14:01.041111Z",
     "start_time": "2023-12-31T10:13:59.431645Z"
    }
   },
   "outputs": [],
   "source": [
    "import os\n",
    "import re\n",
    "import requests\n",
    "from lxml import etree\n",
    "import wget\n",
    "from selenium import webdriver\n",
    "import base64\n",
    "import os\n",
    "import re\n",
    "from io import BytesIO\n",
    "from PIL import Image\n",
    "import json\n",
    "import random\n",
    "import shutil\n",
    "from hashlib import md5\n",
    "from selenium.webdriver.common.by import By\n",
    "import cv2"
   ]
  },
  {
   "cell_type": "code",
   "execution_count": null,
   "id": "5cdbf793",
   "metadata": {
    "ExecuteTime": {
     "end_time": "2023-10-28T14:07:44.400563Z",
     "start_time": "2023-10-28T14:07:44.387390Z"
    }
   },
   "outputs": [],
   "source": [
    "\n",
    "\n"
   ]
  },
  {
   "cell_type": "code",
   "execution_count": null,
   "id": "98bcee0d",
   "metadata": {
    "ExecuteTime": {
     "end_time": "2023-10-28T14:07:44.415828Z",
     "start_time": "2023-10-28T14:07:44.403567Z"
    }
   },
   "outputs": [],
   "source": []
  },
  {
   "cell_type": "code",
   "execution_count": 2,
   "id": "1fc37e52",
   "metadata": {
    "ExecuteTime": {
     "end_time": "2023-12-31T10:14:01.056601Z",
     "start_time": "2023-12-31T10:14:01.044115Z"
    }
   },
   "outputs": [],
   "source": [
    "def get_href(fh:str):\n",
    "    \"\"\"\n",
    "    根据番号获取跳转链接\n",
    "    \"\"\"\n",
    "    # 查询链接\n",
    "    seacher_url = \"https://javdb.com/search?q={}&f=all\".format(fh)\n",
    "    # print(seacher_url)\n",
    "    res_text = driver.get(seacher_url)\n",
    "    \n",
    "    html = etree.HTML(driver.page_source)\n",
    "    img_src = html.xpath('.//div[@class=\"movie-list h cols-4 vcols-8\"]/div[@class=\"item\"]/a/@href')[0]\n",
    "    img_src = \"https://javdb.com\" + img_src\n",
    "    return img_src"
   ]
  },
  {
   "cell_type": "code",
   "execution_count": 3,
   "id": "64602a2b",
   "metadata": {
    "ExecuteTime": {
     "end_time": "2023-12-31T10:14:01.087559Z",
     "start_time": "2023-12-31T10:14:01.059598Z"
    }
   },
   "outputs": [],
   "source": [
    "def get_moveData(url: str, fh):\n",
    "    # info = \"\"\n",
    "    # plot =\n",
    "    \"\"\"\n",
    "    jav321 提供简介\n",
    "    \"\"\"\n",
    "    _fh = (\"00\").join(fh.split(\"-\"))\n",
    "    print(\"https://www.jav321.com/video/{}\".format(_fh.lower()))\n",
    "    # res = requests.get(\"https://www.jav321.com/video/{}\".format(_fh.lower()))\n",
    "\n",
    "    if \"stars\" in _fh.lower():\n",
    "\n",
    "        driver.get(\"https://www.jav321.com/video/1{}\".format(_fh.lower()))\n",
    "    elif \"sdde\" in _fh.lower():\n",
    "        driver.get(\"https://www.jav321.com/video/1{}\".format(_fh.lower()))\n",
    "\n",
    "    elif \"abp\" in _fh.lower():\n",
    "        driver.get(\"https://www.jav321.com/video/118{}\".format(_fh.lower()))\n",
    "    else:\n",
    "        driver.get(\"https://www.jav321.com/video/{}\".format(_fh.lower()))\n",
    "    html = etree.HTML(driver.page_source)\n",
    "    \n",
    "    \n",
    "    try:\n",
    "        \n",
    "        source = [(\" \").join(html.xpath('.//div[@class=\"col-md-12\"]/text()[1]'))]\n",
    "        # trans_result = tranlate(source, \"auto2zh\")\n",
    "        result = Google_Translate(source)\n",
    "        \n",
    "    except:\n",
    "        \n",
    "        result = \"\"\n",
    "    # trans_result = trans_result[\"trans_result\"][0][\"dst\"]\n",
    "    print(result)\n",
    "    plot2 = \"<plot>{}</plot>\".format(result)\n",
    "\n",
    "    print(url)\n",
    "    driver.get(url)\n",
    "    html = etree.HTML(driver.page_source)\n",
    "\n",
    "    plot = \"<originaltitle>{}</originaltitle>\".format(\n",
    "        (\" \").join(html.xpath('.//h2/strong/text()')))\n",
    "\n",
    "    # print(plot)\n",
    "    # 番号\n",
    "    fh = html.xpath('.//a[@data-clipboard-text]/@data-clipboard-text')[0]\n",
    "    title = \"<title>{}</title>\".format(fh)\n",
    "\n",
    "    releasedate = html.xpath(\n",
    "        './/strong[contains(text(), \"日期\")]/following-sibling::span/text()')[0]\n",
    "    releasedate = \"\"\"\n",
    "      <premiered>{}</premiered>\n",
    "      <releasedate>{}</releasedate>\n",
    "    \"\"\".format(releasedate, releasedate)\n",
    "\n",
    "    runtime = html.xpath(\n",
    "        './/strong[contains(text(), \"時長\")]/following-sibling::span/text()')[0]\n",
    "    runtime = \"<runtime>{}</runtime>\".format(runtime)\n",
    "\n",
    "    studio = html.xpath(\n",
    "        './/strong[contains(text(), \"片商\")]/following-sibling::span/a/text()')[0]\n",
    "    studio = '<studio>{}</studio>'.format(studio)\n",
    "\n",
    "    try:\n",
    "        director = html.xpath(\n",
    "            './/strong[contains(text(), \"導演\")]/following-sibling::span/a/text()')[0]\n",
    "    except:\n",
    "        director = \"\"\n",
    "    director = \"<director>{}</director>\".format(director)\n",
    "\n",
    "    rate = html.xpath(\n",
    "        './/strong[contains(text(), \"評分\")]/following-sibling::span/text()')[0]\n",
    "    rate = \"<rating>{}</rating>\".format(re.findall(\n",
    "        pattern=\"(\\d{1}\\.\\d{1,2})分\", string=rate)[0])\n",
    "\n",
    "    # 风格类别\n",
    "    genre = html.xpath(\n",
    "        './/strong[contains(text(), \"類別\")]/following-sibling::span/a/text()')\n",
    "    genre = (\"\\n\").join([\"<genre>{}</genre>\".format(i) for i in genre])\n",
    "\n",
    "    info = [plot, plot2, title, releasedate,\n",
    "            runtime, studio, director, rate, genre]\n",
    "    if html.xpath('.//a[@class=\"tags has-addons\"]/span'):\n",
    "        tag = (\"\\n\").join([\"<tag>{}</tag>\".format(i.xpath(\"./text()\")[0])\n",
    "                           for i in html.xpath('.//a[@class=\"tags has-addons\"]/span')])\n",
    "\n",
    "        info.append(tag)\n",
    "\n",
    "    actor_tmp = \"\"\"\n",
    "                    <actor>\n",
    "                        <name>{}</name>\n",
    "                        <type>Actor</type>\n",
    "                        <thumb>{}</thumb>\n",
    "                      </actor>\n",
    "                         \"\"\"\n",
    "    # print(html.xpath('.//strong[contains(text(), \"演員\")]/following-sibling::span/a'))\n",
    "    for i in html.xpath('.//strong[contains(text(), \"演員\")]/following-sibling::span/a'):\n",
    "        # print('https://javdb.com' + i.xpath(\"./@href\")[0])\n",
    "        driver.get('https://javdb.com' + i.xpath(\"./@href\")[0])\n",
    "        _html = etree.HTML(driver.page_source)\n",
    "        try:\n",
    "            avatar = _html.xpath('.//span[@class=\"avatar\"]/@style')[0]\n",
    "        # print(i.xpath(\"./text()\")[0])\n",
    "            avatar = re.findall(\n",
    "                pattern=\"background-image: url\\((.+)\\)\", string=avatar)[0]\n",
    "            print(avatar)\n",
    "            info.append(actor_tmp.format(i.xpath(\"./text()\")[0], avatar))\n",
    "        except:\n",
    "            continue\n",
    "\n",
    "    return info"
   ]
  },
  {
   "cell_type": "code",
   "execution_count": 4,
   "id": "b17ddc6b",
   "metadata": {
    "ExecuteTime": {
     "end_time": "2023-12-31T10:14:01.118801Z",
     "start_time": "2023-12-31T10:14:01.090567Z"
    }
   },
   "outputs": [],
   "source": [
    "def get_moveData(url: str, fh, sharpness):\n",
    "    # info = \"\"\n",
    "    # plot =\n",
    "    \"\"\"\n",
    "\n",
    "    \"\"\"\n",
    "    _url = \"https://www.av01.tv/search/videos?search_query={}\".format(fh)\n",
    "    driver.get(_url)\n",
    "    html = etree.HTML(driver.page_source)\n",
    "\n",
    "\n",
    "#     Google_Translate()\n",
    "\n",
    "    try:\n",
    "        _url = html.xpath(\".//div[@id]/a/@href\")[0]\n",
    "        _url = \"https://www.av01.tv{}\".format(_url)\n",
    "    #     print(_url)\n",
    "        driver.get(_url)\n",
    "    #     print(\"https://www.jav321.com/video/{}\".format(_fh.lower()))\n",
    "        # res = requests.get(\"https://www.jav321.com/video/{}\".format(_fh.lower()))\n",
    "        html = etree.HTML(driver.page_source)\n",
    "        source = html.xpath('.//div[@id=\"description\"]/text()')[-1]\n",
    "        # trans_result = tranlate(source, \"auto2zh\")\n",
    "        result = Google_Translate(source)\n",
    "\n",
    "    except:\n",
    "\n",
    "        result = \"\"\n",
    "    # trans_result = trans_result[\"trans_result\"][0][\"dst\"]\n",
    "    print(result)\n",
    "    plot2 = \"<plot>{}</plot>\".format(result)\n",
    "\n",
    "#     print(url)\n",
    "    driver.get(url)\n",
    "    html = etree.HTML(driver.page_source)\n",
    "\n",
    "    plot = \"<originaltitle>{}</originaltitle>\".format(\n",
    "        (\" \").join(html.xpath('.//h2/strong/text()')))\n",
    "\n",
    "    # print(plot)\n",
    "    # 番号\n",
    "    fh = html.xpath('.//a[@data-clipboard-text]/@data-clipboard-text')[0]\n",
    "\n",
    "    title = \"<title>{}-{}</title>\".format(fh, sharpness)\n",
    "\n",
    "    releasedate = html.xpath(\n",
    "        './/strong[contains(text(), \"日期\")]/following-sibling::span/text()')[0]\n",
    "    releasedate = \"\"\"\n",
    "      <premiered>{}</premiered>\n",
    "      <releasedate>{}</releasedate>\n",
    "    \"\"\".format(releasedate, releasedate)\n",
    "\n",
    "    runtime = html.xpath(\n",
    "        './/strong[contains(text(), \"時長\")]/following-sibling::span/text()')[0]\n",
    "    runtime = \"<runtime>{}</runtime>\".format(runtime)\n",
    "\n",
    "    studio = html.xpath(\n",
    "        './/strong[contains(text(), \"片商\")]/following-sibling::span/a/text()')[0]\n",
    "    studio = '<studio>{}</studio>'.format(studio)\n",
    "\n",
    "    try:\n",
    "        director = html.xpath(\n",
    "            './/strong[contains(text(), \"導演\")]/following-sibling::span/a/text()')[0]\n",
    "    except:\n",
    "        director = \"\"\n",
    "    director = \"<director>{}</director>\".format(director)\n",
    "\n",
    "    rate = html.xpath(\n",
    "        './/strong[contains(text(), \"評分\")]/following-sibling::span/text()')[0]\n",
    "    rate = \"<rating>{}</rating>\".format(re.findall(\n",
    "        pattern=\"(\\d{1}\\.\\d{1,2})分\", string=rate)[0])\n",
    "    try:\n",
    "        _criticrating = re.findall(pattern=\"\\d{1,3}\",string=html.xpath('.//span[@class=\"tag is-dark\"]/text()')[0])[0]\n",
    "        criticrating = \"<criticrating>{}</criticrating>\".format(int(_criticrating))\n",
    "    except:\n",
    "        criticrating = \"<criticrating></criticrating>\"\n",
    "\n",
    "    # 风格类别\n",
    "    genre = html.xpath(\n",
    "        './/strong[contains(text(), \"類別\")]/following-sibling::span/a/text()')\n",
    "    genre = (\"\\n\").join([\"<genre>{}</genre>\".format(i) for i in genre])\n",
    "\n",
    "    info = [plot, plot2, title, releasedate,\n",
    "            runtime, studio, director, rate, criticrating, genre]\n",
    "    \n",
    "    if html.xpath('.//a[@class=\"tags has-addons\"]/span'):\n",
    "        tag = (\"\\n\").join([\"<tag>{}</tag>\".format(i.xpath(\"./text()\")[0])\n",
    "                           for i in html.xpath('.//a[@class=\"tags has-addons\"]/span')])\n",
    "\n",
    "        info.append(tag)\n",
    "\n",
    "    actor_tmp = \"\"\"\n",
    "                    <actor>\n",
    "                        <name>{}</name>\n",
    "                        <type>Actor</type>\n",
    "                        <thumb>{}</thumb>\n",
    "                      </actor>\n",
    "                         \"\"\"\n",
    "    # print(html.xpath('.//strong[contains(text(), \"演員\")]/following-sibling::span/a'))\n",
    "    for i in html.xpath('.//strong[contains(text(), \"演員\")]/following-sibling::span/a'):\n",
    "        # print('https://javdb.com' + i.xpath(\"./@href\")[0])\n",
    "        driver.get('https://javdb.com' + i.xpath(\"./@href\")[0])\n",
    "        _html = etree.HTML(driver.page_source)\n",
    "        try:\n",
    "            avatar = _html.xpath('.//span[@class=\"avatar\"]/@style')[0]\n",
    "        # print(i.xpath(\"./text()\")[0])\n",
    "            avatar = re.findall(\n",
    "                pattern=\"background-image: url\\((.+)\\)\", string=avatar)[0]\n",
    "            print(avatar)\n",
    "            info.append(actor_tmp.format(i.xpath(\"./text()\")[0], avatar))\n",
    "        except:\n",
    "            continue\n",
    "\n",
    "    return info"
   ]
  },
  {
   "cell_type": "code",
   "execution_count": 5,
   "id": "a7cfe4c8",
   "metadata": {
    "ExecuteTime": {
     "end_time": "2023-12-31T10:14:01.133803Z",
     "start_time": "2023-12-31T10:14:01.121804Z"
    }
   },
   "outputs": [],
   "source": [
    "def Google_Translate(origin_string):\n",
    "    origin_string = origin_string[0] if isinstance (origin_string,(list)) else origin_string\n",
    "    \n",
    "    print(origin_string)\n",
    "    url = \"https://www.google.com.hk/async/translate\" \n",
    "    payload = \"async=translate,sl:ja,tl:zh-CN,st:{},id:1672056488960,qc:true,ac:true,_id:tw-async-translate,_pms:s,_fmt:pc\".format(origin_string) \n",
    "    headers = { \n",
    "    'sec-ch-ua': '\"Not?A_Brand\";v=\"8\", \"Chromium\";v=\"108\", \"Google Chrome\";v=\"108\"', \n",
    "    'DNT': '1', \n",
    "    'sec-ch-ua-mobile': '?0', \n",
    "    'User-Agent': 'Mozilla/5.0 (Windows NT 10.0; Win64; x64) AppleWebKit/537.36 (KHTML, like Gecko) Chrome/108.0.0.0 Safari/537.36', \n",
    "    'sec-ch-ua-arch': '\"x86\"', \n",
    "    'sec-ch-ua-full-version': '\"108.0.5359.125\"', \n",
    "    'Content-Type': 'application/x-www-form-urlencoded;charset=UTF-16', \n",
    "    'sec-ch-ua-platform-version': '\"10.0.0\"', \n",
    "    'sec-ch-ua-full-version-list': '\"Not?A_Brand\";v=\"8.0.0.0\", \"Chromium\";v=\"108.0.5359.125\", \"Google Chrome\";v=\"108.0.5359.125\"', \n",
    "    'sec-ch-ua-bitness': '\"64\"', \n",
    "    'sec-ch-ua-model': '', \n",
    "    'sec-ch-ua-wow64': '?0', \n",
    "    'sec-ch-ua-platform': '\"Windows\"', \n",
    "    'Accept': '*/*', \n",
    "    'X-Client-Data': 'CKW1yQEIhbbJAQiktskBCMS2yQEIqZ3KAQjb08oBCLD+ygEIlaHLAQjv8swBCN75zAEI5PrMAQjxgM0BCLKCzQEI7ILNAQjIhM0BCO+EzQEIt4XNAQ==', \n",
    "    'Sec-Fetch-Site': 'same-origin', \n",
    "    'Sec-Fetch-Mode': 'cors', \n",
    "    'Sec-Fetch-Dest': 'empty', \n",
    "    'host': 'www.google.com.hk', \n",
    "    'Cookie':'HSID=AznMI4mNNxPNNQgaf; SSID=AV5F7o0yOIjCQ0ag8; APISID=8-OEbXZznaKk9yQ5/Ay1KW11OUirjIZYhX; SAPISID=iOh6vTGozH3PMBDv/A9f9h0l2Qfase_6Qz; __Secure-1PAPISID=iOh6vTGozH3PMBDv/A9f9h0l2Qfase_6Qz; __Secure-3PAPISID=iOh6vTGozH3PMBDv/A9f9h0l2Qfase_6Qz; _ga=GA1.3.1048895737.1698418190; OTZ=7268570_24_24__24_; SID=cwh9zGkUzMRgfJpWdxZ5l_4HsqHrn09YvDxOTKFdk0zwZ8b-Wwpaj8b8RhEwSSyGXwQNtQ.; __Secure-1PSID=cwh9zGkUzMRgfJpWdxZ5l_4HsqHrn09YvDxOTKFdk0zwZ8b-g6DJLuVgSMB4ozK_CTq6MQ.; __Secure-3PSID=cwh9zGkUzMRgfJpWdxZ5l_4HsqHrn09YvDxOTKFdk0zwZ8b-7sbpX7iUtNrQoxLewUyMgg.; AEC=Ackid1SYuq_cRqgb2_sJ9MRppxZQcNEI4G_GD_eJwXpIvMnCgakwshARxDM; SEARCH_SAMESITE=CgQI2JkB; 1P_JAR=2023-11-11-14; __Secure-1PSIDTS=sidts-CjEBNiGH7iDA5rIuBe2L6moKFtl2ft7JlylXllEFRu5jB4OrxDgE3BMWXO-KaMIo8XLPEAA; __Secure-3PSIDTS=sidts-CjEBNiGH7iDA5rIuBe2L6moKFtl2ft7JlylXllEFRu5jB4OrxDgE3BMWXO-KaMIo8XLPEAA; NID=511=dBODXFjWW9hSiuQKgBZI8QBuNEnG68GEoGNBH6fHkEzMJS4wCvTiPl5iXcYcHcxISVxcwrxAT0K5_AXUi7P943ZZH6Iuphk9qiNc3AxPJR7kpeFnKXle6aZ83ntcmI7nLpqKq-FEmVOF1oQOndzBLrtDS2iYsDzJg7T0bKL4ZbHe5MkHf0pEpUqFu6x_gmOO7ItP0EyYWizI9Nep-21Gkb-K4NvEejshec1lCnADpx5D7eRD7kb55NWyfw6S03YaU9lUzVWF8jh0ixeUyogTTfXrHP_r_jp6QSHFG_ag4JbsWkqgVRxaXvpxdaZpPxzMzCSBT8FDOO3cTVDUohLP3J5XiFY2i4bE3bb4tsuRQ1FYmvI6wy_e6o_GZljj4LeKkSt7lU0yxM1-1Il00-6Z3wuPgQ8NQOarD4ZM29HAFOqr; SIDCC=ACA-OxOq4a-3FwPOc12uWpQh4fnoV87In3qTZQ38y77FMCp9BLZOpqD7uBSJUMQKhHHofQxffmA; __Secure-1PSIDCC=ACA-OxNbB_7SpY5wJheHrypMTtkhL9-yD9OEfZ_zVKeWKoE0b3TPzcfYGhgfXQfMu8Uo-iAWQmY; __Secure-3PSIDCC=ACA-OxN-cjqjlmPn30QHHoFh57qnmsIF5FZW8T-NicJnAnipCQCzXX9v3U6kNzEPrC2RUj5W6g'\n",
    "#     'Cookie': '1P_JAR=2022-12-26-12; NID=511=eVLI1bG9nhyOZtqU14JBHm5Be00epdxfR4XmfQeehYyIkzgpXi6dbpNY75ZMVyS7aOjoM2oZ5WdoR8eNq6wi1-e_J0NeoyI0dtsHW-_8Ik4PGrqvuGHdcvVC03zTOEK2TY1FZL85Wimo_ZPIE3hGIrmGPSiel6-rRRW9lD30UPs' \n",
    "    } \n",
    "\n",
    "    response = requests.request(\"POST\", url, headers=headers, data=payload.encode(\"utf-8\")) \n",
    "#     print(response.text)\n",
    "    def find_string_between_A_amd_B(string, string_A, string_B):  # 查找两段字符串之间的字符 \n",
    "        import re \n",
    "\n",
    "        regular = '{}(.*?){}'.format(string_A, string_B) \n",
    "        result = re.findall(regular, string) \n",
    "        return result \n",
    "\n",
    "    result = find_string_between_A_amd_B(response.text, \n",
    "                                         '<span id=\"tw-answ-target-text\">',\n",
    "                                         '</span>'\n",
    "                                        ) \n",
    "    return result[-1]\n",
    "\n"
   ]
  },
  {
   "cell_type": "code",
   "execution_count": null,
   "id": "d13941e6",
   "metadata": {
    "ExecuteTime": {
     "end_time": "2023-11-11T14:41:24.576343Z",
     "start_time": "2023-11-11T14:41:23.717419Z"
    }
   },
   "outputs": [],
   "source": []
  },
  {
   "cell_type": "code",
   "execution_count": 7,
   "id": "c89e30a2",
   "metadata": {
    "ExecuteTime": {
     "end_time": "2023-12-31T10:14:12.411016Z",
     "start_time": "2023-12-31T10:14:12.393022Z"
    }
   },
   "outputs": [
    {
     "name": "stdout",
     "output_type": "stream",
     "text": [
      "有栖花绯\n",
      "河北采花\n",
      "白峰ミ\n",
      "神木\n"
     ]
    }
   ],
   "source": [
    "for i in os.listdir(r\"F:\\JAV\")[2:]:\n",
    "    print(i)"
   ]
  },
  {
   "cell_type": "code",
   "execution_count": 10,
   "id": "45389e2d",
   "metadata": {
    "ExecuteTime": {
     "end_time": "2023-12-31T10:14:53.729128Z",
     "start_time": "2023-12-31T10:14:47.377814Z"
    }
   },
   "outputs": [],
   "source": [
    "executable_path = r\"E:\\JupyterFiles\\geckodriver\\geckodriver\\geckodriver.exe\"\n",
    "# driver = webdriver.Firefox(executable_path=executable_path)\n",
    "\n",
    "driver = webdriver.Firefox()"
   ]
  },
  {
   "cell_type": "code",
   "execution_count": 9,
   "id": "341cccf8",
   "metadata": {
    "ExecuteTime": {
     "end_time": "2023-12-31T10:14:39.847525Z",
     "start_time": "2023-12-31T10:14:39.834076Z"
    }
   },
   "outputs": [
    {
     "name": "stdout",
     "output_type": "stream",
     "text": [
      "F:\\JAV\\山岸逢花\\[7sht.me]pred-140-C\\pred-140-C.mp4\n",
      "F:\\JAV\\山岸逢花\\pred-153-C\\pred-153-C.mp4\n",
      "F:\\JAV\\山岸逢花\\PRED-133\\PRED-133-C.mp4\n",
      "F:\\JAV\\山岸逢花\\PRED-099-c\\PRED-099-c.mp4\n",
      "F:\\JAV\\山岸逢花\\PRED-068-C\\PRED-068-C.mp4\n",
      "F:\\JAV\\山岸逢花\\IPX-219\\IPX-219A-c.mp4\n",
      "F:\\JAV\\山岸逢花\\IPX-219\\IPX-219B-c.mp4\n",
      "F:\\JAV\\有栖花绯\\SSIS-950-C\\SSIS-950-C.mp4\n",
      "F:\\JAV\\有栖花绯\\SSIS-870-U\\SSIS-870-U.mp4\n",
      "F:\\JAV\\有栖花绯\\SSIS-784-U\\SSIS-784-U.mp4\n",
      "F:\\JAV\\有栖花绯\\SSIS-641-U\\SSIS-641-U.mp4\n",
      "F:\\JAV\\有栖花绯\\SSIS-235-U\\SSIS-235-U.mp4\n",
      "F:\\JAV\\有栖花绯\\SSIS-084-U\\SSIS-084-U.mp4\n",
      "F:\\JAV\\有栖花绯\\ssis-011-uncensored\\ssis-011-uncensored.mp4\n",
      "F:\\JAV\\河北采花\\SSNI-240-U\\SSNI-240-U.mp4\n",
      "F:\\JAV\\河北采花\\SSIS-499-U\\SSIS-499-U.mp4\n",
      "F:\\JAV\\河北采花\\SSIS-468-U\\SSIS-468-U.mp4\n",
      "F:\\JAV\\河北采花\\SSIS-413-U\\SSIS-413-U.mp4\n",
      "F:\\JAV\\河北采花\\SSIS-158-U\\SSIS-158-U.mp4\n",
      "F:\\JAV\\白峰ミ\\SAME-013-C\\SAME-013-C.mp4\n",
      "F:\\JAV\\白峰ミ\\PRED-526-C\\PRED-526-C.mp4\n",
      "F:\\JAV\\白峰ミ\\PRED-516-C\\PRED-516-C.mp4\n",
      "F:\\JAV\\白峰ミ\\PRED-507-C\\PRED-507-C.mp4\n",
      "F:\\JAV\\白峰ミ\\PRED-498-C\\PRED-498-C.mp4\n",
      "F:\\JAV\\白峰ミ\\PRED-488-C\\PRED-488-C.mp4\n",
      "F:\\JAV\\白峰ミ\\PRED-483-U\\PRED-483-U.mp4\n",
      "F:\\JAV\\白峰ミ\\IPX-845-U\\IPX-845-U.mp4\n",
      "F:\\JAV\\白峰ミ\\IPX-826-U\\IPX-826-U.mp4\n",
      "F:\\JAV\\白峰ミ\\IPX-806-U\\IPX-806-U.mp4\n",
      "F:\\JAV\\白峰ミ\\ipx-771-C\\ipx-771-C.mp4\n",
      "F:\\JAV\\白峰ミ\\IPX-753-U\\IPX-753-U.mp4\n",
      "F:\\JAV\\白峰ミ\\IPX-736-U\\IPX-736-U.mp4\n",
      "F:\\JAV\\白峰ミ\\ipx-700-C\\ipx-700-C.mp4\n",
      "F:\\JAV\\白峰ミ\\IPX-683-U\\IPX-683-U.mp4\n",
      "F:\\JAV\\白峰ミ\\IPX-668-U\\IPX-668-U.mp4\n",
      "F:\\JAV\\白峰ミ\\IPX-652-U\\IPX-652-U.mp4\n",
      "F:\\JAV\\白峰ミ\\IPX-635-U\\IPX-635-U.mp4\n",
      "F:\\JAV\\白峰ミ\\IPX-589-C\\IPX-589-C.mp4\n",
      "F:\\JAV\\白峰ミ\\ATID-566-U\\ATID-566-U.mp4\n",
      "F:\\JAV\\白峰ミ\\ATID-561-U\\ATID-561-U.mp4\n",
      "F:\\JAV\\白峰ミ\\ATID-557-C\\ATID-557-C.mp4\n",
      "F:\\JAV\\白峰ミ\\ATID-555-U\\ATID-555-U.mp4\n",
      "F:\\JAV\\白峰ミ\\ADN-503-C\\ADN-503-C.mp4\n",
      "F:\\JAV\\白峰ミ\\ADN-499-C\\ADN-499-C.mp4\n",
      "F:\\JAV\\白峰ミ\\ADN-413-U\\ADN-413-U.mp4\n",
      "F:\\JAV\\白峰ミ\\ADN-405-U\\ADN-405-U.mp4\n",
      "F:\\JAV\\白峰ミ\\ADN-396-U\\ADN-396-U.mp4\n",
      "F:\\JAV\\神木\\STARS-979-UC\\STARS-979-UC.mp4\n",
      "F:\\JAV\\神木\\STARS-964-UC\\STARS-964-UC.mp4\n",
      "F:\\JAV\\神木\\STARS-923-UC\\STARS-923-UC.mp4\n",
      "F:\\JAV\\神木\\STARS-896-UC\\STARS-896-UC.mp4\n",
      "F:\\JAV\\神木\\STARS-894-UC\\STARS-894-UC.mp4\n",
      "F:\\JAV\\神木\\STARS-881-UC\\STARS-881-UC.mp4\n",
      "F:\\JAV\\神木\\STARS-866-UC\\STARS-866.mp4\n",
      "F:\\JAV\\神木\\STARS-852-UC\\STARS-852-UC.mp4\n",
      "F:\\JAV\\神木\\STARS-818-UC\\STARS-818-UC.mp4\n",
      "F:\\JAV\\神木\\STARS-804-UC\\STARS-804-UC.mp4\n",
      "F:\\JAV\\神木\\STARS-778-U\\STARS-778-U.mp4\n",
      "F:\\JAV\\神木\\STARS-766-UC\\STARS-766-UC.mp4\n",
      "F:\\JAV\\神木\\STARS-734-UC\\STARS-734-UC.mp4\n",
      "F:\\JAV\\神木\\STARS-725-U\\STARS-725-U.mp4\n",
      "F:\\JAV\\神木\\stars-725-4k\\stars-725-4k.mp4\n",
      "F:\\JAV\\神木\\stars-703-C\\stars-703-C.mp4\n",
      "F:\\JAV\\神木\\stars-642-C\\stars-642-C.mp4\n",
      "F:\\JAV\\神木\\STARS-599-U\\STARS-599-U.mp4\n",
      "F:\\JAV\\神木\\STARS-573-U\\STARS-573-U.mp4\n"
     ]
    }
   ],
   "source": [
    "root = r\"F:\\JAV\"\n",
    "for i in os.listdir(root)[1:]:\n",
    "    # print(r\"\\\\10.168.1.127\\hdd3t\\JAV\\{}\".format(i))\n",
    "    for j in os.listdir(r\"{}\\{}\".format(root,i))[::-1]:\n",
    "        sp = r\"{}\\{}\\{}\".format(root,i, j)\n",
    "        for _i in os.listdir(sp):\n",
    "            if _i.endswith(\"mp4\"):\n",
    "                mp4_file = sp + \"\\\\\" + _i.replace(\".mp4\", \".mp4\")\n",
    "                print(mp4_file)"
   ]
  },
  {
   "cell_type": "code",
   "execution_count": 18,
   "id": "3edb6add",
   "metadata": {
    "ExecuteTime": {
     "end_time": "2023-12-09T05:51:11.503884Z",
     "start_time": "2023-12-09T05:51:11.493876Z"
    }
   },
   "outputs": [
    {
     "name": "stdout",
     "output_type": "stream",
     "text": [
      "30 720 480\n"
     ]
    }
   ],
   "source": []
  },
  {
   "cell_type": "code",
   "execution_count": 37,
   "id": "e7508eeb",
   "metadata": {
    "ExecuteTime": {
     "end_time": "2023-12-10T05:22:45.454167Z",
     "start_time": "2023-12-10T05:22:45.071178Z"
    }
   },
   "outputs": [
    {
     "name": "stdout",
     "output_type": "stream",
     "text": [
      "30 1920 1080\n"
     ]
    }
   ],
   "source": [
    "import cv2\n",
    "cap = cv2.VideoCapture(video_file)\n",
    "# 帧率\n",
    "fps = int(round(cap.get(cv2.CAP_PROP_FPS)))\n",
    "# 分辨率-宽度\n",
    "width = int(cap.get(cv2.CAP_PROP_FRAME_WIDTH))\n",
    "# 分辨率-高度\n",
    "height = int(cap.get(cv2.CAP_PROP_FRAME_HEIGHT))\n",
    "# 总帧数\n",
    "frame_counter = int(cap.get(cv2.CAP_PROP_FRAME_COUNT))\n",
    "print(fps,width,height)\n"
   ]
  },
  {
   "cell_type": "code",
   "execution_count": 34,
   "id": "fc2c49fe",
   "metadata": {
    "ExecuteTime": {
     "end_time": "2023-12-09T10:08:23.559576Z",
     "start_time": "2023-12-09T10:08:23.547583Z"
    }
   },
   "outputs": [
    {
     "data": {
      "text/plain": [
       "'E:\\\\JAV\\\\渋谷華\\\\YMDS-130-C\\\\mp4'"
      ]
     },
     "execution_count": 34,
     "metadata": {},
     "output_type": "execute_result"
    }
   ],
   "source": []
  },
  {
   "cell_type": "code",
   "execution_count": 11,
   "id": "91536724",
   "metadata": {
    "ExecuteTime": {
     "end_time": "2023-12-31T10:15:39.852886Z",
     "start_time": "2023-12-31T10:15:01.209801Z"
    }
   },
   "outputs": [
    {
     "name": "stdout",
     "output_type": "stream",
     "text": [
      "F:\\JAV\\神木\\STARS-573-U\\STARS-573-U.nfo\n",
      "1080\n",
      "F:\\JAV\\神木\\STARS-599-U\\STARS-599-U.nfo\n",
      "1080\n",
      "F:\\JAV\\神木\\stars-642-C\\stars-642-C.nfo\n",
      "1080\n",
      "F:\\JAV\\神木\\stars-703-C\\stars-703-C.nfo\n",
      "1080\n",
      "F:\\JAV\\神木\\stars-725-4k\\stars-725-4k.nfo\n",
      "2160\n",
      "F:\\JAV\\神木\\STARS-725-U\\STARS-725-U.nfo\n",
      "1080\n",
      "F:\\JAV\\神木\\STARS-734-UC\\STARS-734-UC.nfo\n",
      "1080\n",
      "F:\\JAV\\神木\\STARS-766-UC\\STARS-766-UC.nfo\n",
      "1080\n",
      "F:\\JAV\\神木\\STARS-778-U\\STARS-778-U.nfo\n",
      "1080\n",
      "F:\\JAV\\神木\\STARS-804-UC\\STARS-804-UC.nfo\n",
      "1080\n",
      "F:\\JAV\\神木\\STARS-818-UC\\STARS-818-UC.nfo\n",
      "1080\n",
      "F:\\JAV\\神木\\STARS-852-UC\\STARS-852-UC.nfo\n",
      "1080\n",
      "F:\\JAV\\神木\\STARS-866-UC\\STARS-866.nfo\n",
      "1080\n",
      "F:\\JAV\\神木\\STARS-881-UC\\STARS-881-UC.nfo\n",
      "1080\n",
      "F:\\JAV\\神木\\STARS-894-UC\\STARS-894-UC.nfo\n",
      "1080\n",
      "F:\\JAV\\神木\\STARS-896-UC\\STARS-896-UC.nfo\n",
      "1080\n",
      "F:\\JAV\\神木\\STARS-923-UC\\STARS-923-UC.nfo\n",
      "1080\n",
      "F:\\JAV\\神木\\STARS-964-UC\\STARS-964-UC.nfo\n",
      "1080\n",
      "F:\\JAV\\神木\\STARS-979-UC\\STARS-979-UC.nfo\n",
      "1080\n",
      "有名ホテルで‘ホテリエ’として働く麗は職場で彼女持ちや既婚者の男性を誘惑して寝取るという誰にも話せない趣味がある。ホテルの空部屋で、ワークススペースで、倉庫で…時間場所問わず、自分がムラムラした時は痴女って寝取る。そんな彼女のエスカレートしていく日常を覗き見ていく。\n",
      "在一家著名酒店担任“酒店老板”的丽有一个不能告诉任何人的爱好：勾引有女朋友或已婚男人并与他们上床。在空荡荡的酒店房间里，在工作空间里，在仓库里……无论何时何地，当我感到性欲旺盛时，我都会和一个荡妇一起睡觉。我们来看看她不断升级的日常生活。\n",
      "https://c0.jdbstatic.com/avatars/65/65v5Q.jpg\n"
     ]
    }
   ],
   "source": [
    "# root = \"G:\\JAV\\TOP\"\n",
    "try:\n",
    "    driver.get(\"https://www.javbus.com\")\n",
    "except:\n",
    "    driver = webdriver.Firefox()\n",
    "\n",
    "for i in os.listdir(root)[5:]:\n",
    "    # print(r\"\\\\10.168.1.127\\hdd3t\\JAV\\{}\".format(i))\n",
    "    for j in os.listdir(r\"{}\\{}\".format(root, i))[::1]:\n",
    "        sp = r\"{}\\{}\\{}\".format(root, i, j)\n",
    "\n",
    "        for _i in os.listdir(sp):\n",
    "            if _i.endswith(\"mp4\"):\n",
    "                file = sp + \"\\\\\" + _i.replace(\".mp4\", \".nfo\")\n",
    "                video_file = sp + \"\\\\\" + _i.replace(\".mp4\", \".mp4\")\n",
    "\n",
    "            elif _i.endswith(\"wmv\"):\n",
    "                file = sp + \"\\\\\" + _i.replace(\".wmv\", \".nfo\")\n",
    "                video_file = sp + \"\\\\\" + _i.replace(\".wmv\", \".wmv\")\n",
    "\n",
    "            elif _i.endswith(\"mkv\"):\n",
    "                file = sp + \"\\\\\" + _i.replace(\".mkv\", \".nfo\")\n",
    "                video_file = sp + \"\\\\\" + _i.replace(\".mkv\", \".mkv\")\n",
    "                \n",
    "            elif _i.endswith(\"avi\"):\n",
    "                file = sp + \"\\\\\" + _i.replace(\".avi\", \".nfo\")\n",
    "                video_file = sp + \"\\\\\" + _i.replace(\".avi\", \".avi\")\n",
    "                \n",
    "            elif _i.endswith(\"mpg\"):\n",
    "                file = sp + \"\\\\\" + _i.replace(\".mpg\", \".nfo\")\n",
    "                video_file = sp + \"\\\\\" + _i.replace(\".mpg\", \".mpg\")\n",
    "\n",
    "        print(file)\n",
    "\n",
    "        cap = cv2.VideoCapture(video_file)\n",
    "        # 帧率\n",
    "        fps = int(round(cap.get(cv2.CAP_PROP_FPS)))\n",
    "        # 分辨率-宽度\n",
    "        width = int(cap.get(cv2.CAP_PROP_FRAME_WIDTH))\n",
    "        # 分辨率-高度\n",
    "        height = int(cap.get(cv2.CAP_PROP_FRAME_HEIGHT))\n",
    "        print(height)\n",
    "        sharpness = \"4k\" if int(height) > 1100 else \"{}p\".format(str(height))\n",
    "\n",
    "        if os.path.exists(file):\n",
    "            continue\n",
    "\n",
    "        try:\n",
    "            os.remove(file)\n",
    "        except:\n",
    "            pass\n",
    "        try:\n",
    "            fh = re.findall(\"\\w+-\\w\\d+\", j)[-1]\n",
    "        except:\n",
    "            fh = re.findall(\"\\d+_\\d+\", j)[-1]\n",
    "\n",
    "        url = get_href(fh)\n",
    "        b = get_moveData(url, fh, sharpness)\n",
    "        a = \"{}\\n</movie>\"\n",
    "        shutil.copyfile(r\"G:\\SSNI-240-C.nfo\", file)\n",
    "        with open(file, mode=\"a+\", encoding=\"utf-8\") as _f:\n",
    "            _f.writelines(a.format((\"\\n\").join(b)))\n",
    "driver.close()\n",
    "# print(sp)"
   ]
  },
  {
   "cell_type": "code",
   "execution_count": 43,
   "id": "82ad12ef",
   "metadata": {
    "ExecuteTime": {
     "end_time": "2023-11-11T06:11:58.006782Z",
     "start_time": "2023-11-11T06:11:54.007293Z"
    },
    "scrolled": true
   },
   "outputs": [],
   "source": [
    "driver = webdriver.ChromiumEdge()"
   ]
  },
  {
   "cell_type": "code",
   "execution_count": 21,
   "id": "95002156",
   "metadata": {
    "ExecuteTime": {
     "end_time": "2023-12-10T05:02:39.509319Z",
     "start_time": "2023-12-10T05:02:36.203022Z"
    }
   },
   "outputs": [],
   "source": [
    "try:\n",
    "    driver.get(\"https://javdb.com/v/g0O1Yq\")\n",
    "except:\n",
    "    driver = webdriver.Firefox()"
   ]
  },
  {
   "cell_type": "code",
   "execution_count": 22,
   "id": "59fd8330",
   "metadata": {
    "ExecuteTime": {
     "end_time": "2023-12-10T05:03:00.847665Z",
     "start_time": "2023-12-10T05:03:00.819251Z"
    }
   },
   "outputs": [],
   "source": [
    "html = etree.HTML(driver.page_source)"
   ]
  },
  {
   "cell_type": "code",
   "execution_count": 43,
   "id": "6e59d0b1",
   "metadata": {
    "ExecuteTime": {
     "end_time": "2023-12-10T05:28:54.918144Z",
     "start_time": "2023-12-10T05:28:54.902566Z"
    }
   },
   "outputs": [
    {
     "data": {
      "text/plain": [
       "'80'"
      ]
     },
     "execution_count": 43,
     "metadata": {},
     "output_type": "execute_result"
    }
   ],
   "source": []
  },
  {
   "cell_type": "code",
   "execution_count": null,
   "id": "0f3b0377",
   "metadata": {
    "ExecuteTime": {
     "end_time": "2023-10-28T14:07:53.301608Z",
     "start_time": "2023-10-28T14:07:52.781418Z"
    }
   },
   "outputs": [],
   "source": []
  },
  {
   "cell_type": "code",
   "execution_count": null,
   "id": "b973156e",
   "metadata": {
    "ExecuteTime": {
     "end_time": "2023-10-27T15:32:53.520794Z",
     "start_time": "2023-10-27T15:32:47.652072Z"
    }
   },
   "outputs": [],
   "source": []
  },
  {
   "cell_type": "code",
   "execution_count": null,
   "id": "fbea4ec0",
   "metadata": {
    "ExecuteTime": {
     "end_time": "2023-10-27T15:33:47.675528Z",
     "start_time": "2023-10-27T15:33:38.547323Z"
    }
   },
   "outputs": [],
   "source": []
  },
  {
   "cell_type": "code",
   "execution_count": null,
   "id": "eae62660",
   "metadata": {
    "ExecuteTime": {
     "end_time": "2023-10-28T14:07:58.610198Z",
     "start_time": "2023-10-28T14:07:58.580099Z"
    }
   },
   "outputs": [],
   "source": []
  },
  {
   "cell_type": "code",
   "execution_count": null,
   "id": "db336af5",
   "metadata": {},
   "outputs": [],
   "source": []
  }
 ],
 "metadata": {
  "hide_input": false,
  "kernelspec": {
   "display_name": "Python 3 (ipykernel)",
   "language": "python",
   "name": "python3"
  },
  "language_info": {
   "codemirror_mode": {
    "name": "ipython",
    "version": 3
   },
   "file_extension": ".py",
   "mimetype": "text/x-python",
   "name": "python",
   "nbconvert_exporter": "python",
   "pygments_lexer": "ipython3",
   "version": "3.10.8"
  },
  "toc": {
   "nav_menu": {},
   "number_sections": true,
   "sideBar": true,
   "skip_h1_title": false,
   "title_cell": "Table of Contents",
   "title_sidebar": "Contents",
   "toc_cell": false,
   "toc_position": {},
   "toc_section_display": true,
   "toc_window_display": false
  },
  "varInspector": {
   "cols": {
    "lenName": 16,
    "lenType": 16,
    "lenVar": 40
   },
   "kernels_config": {
    "python": {
     "delete_cmd_postfix": "",
     "delete_cmd_prefix": "del ",
     "library": "var_list.py",
     "varRefreshCmd": "print(var_dic_list())"
    },
    "r": {
     "delete_cmd_postfix": ") ",
     "delete_cmd_prefix": "rm(",
     "library": "var_list.r",
     "varRefreshCmd": "cat(var_dic_list()) "
    }
   },
   "types_to_exclude": [
    "module",
    "function",
    "builtin_function_or_method",
    "instance",
    "_Feature"
   ],
   "window_display": false
  }
 },
 "nbformat": 4,
 "nbformat_minor": 5
}
