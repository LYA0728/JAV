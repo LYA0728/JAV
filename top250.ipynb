{
 "cells": [
  {
   "cell_type": "code",
   "execution_count": null,
   "id": "596e6fd4",
   "metadata": {},
   "outputs": [],
   "source": []
  },
  {
   "cell_type": "code",
   "execution_count": 19,
   "id": "a8df111e",
   "metadata": {
    "ExecuteTime": {
     "end_time": "2023-10-28T13:48:38.744820Z",
     "start_time": "2023-10-28T13:48:38.739818Z"
    }
   },
   "outputs": [],
   "source": [
    "import os\n",
    "import re\n",
    "import requests\n",
    "from lxml import etree\n",
    "from selenium import webdriver\n",
    "import pandas as pd\n",
    "import shutil"
   ]
  },
  {
   "cell_type": "code",
   "execution_count": 20,
   "id": "2ce302e2",
   "metadata": {
    "ExecuteTime": {
     "end_time": "2023-10-28T13:48:39.792003Z",
     "start_time": "2023-10-28T13:48:39.771577Z"
    }
   },
   "outputs": [],
   "source": [
    "headers = [{\n",
    "    \"name\":\n",
    "    \"Accept\",\n",
    "    \"value\":\n",
    "    \"text/html,application/xhtml+xml,application/xml;q=0.9,image/avif,image/webp,*/*;q=0.8\"\n",
    "}, {\n",
    "    \"name\": \"Accept-Encoding\",\n",
    "    \"value\": \"gzip, deflate, br\"\n",
    "}, {\n",
    "    \"name\":\n",
    "    \"Accept-Language\",\n",
    "    \"value\":\n",
    "    \"zh-CN,zh;q=0.8,zh-TW;q=0.7,zh-HK;q=0.5,en-US;q=0.3,en;q=0.2\"\n",
    "}, {\n",
    "    \"name\": \"Connection\",\n",
    "    \"value\": \"keep-alive\"\n",
    "}, {\n",
    "    \"name\": \"Cookie\",\n",
    "    \"value\": \"existmag=mag; PHPSESSID=k4karuqn837cuk0ntdq0g4mor1\"\n",
    "}, {\n",
    "    \"name\": \"Host\",\n",
    "    \"value\": \"www.javbus.com\"\n",
    "}, {\n",
    "    \"name\": \"Sec-Fetch-Dest\",\n",
    "    \"value\": \"document\"\n",
    "}, {\n",
    "    \"name\": \"Sec-Fetch-Mode\",\n",
    "    \"value\": \"navigate\"\n",
    "}, {\n",
    "    \"name\": \"Sec-Fetch-Site\",\n",
    "    \"value\": \"none\"\n",
    "}, {\n",
    "    \"name\": \"Sec-Fetch-User\",\n",
    "    \"value\": \"?1\"\n",
    "}, {\n",
    "    \"name\": \"TE\",\n",
    "    \"value\": \"trailers\"\n",
    "}, {\n",
    "    \"name\": \"Upgrade-Insecure-Requests\",\n",
    "    \"value\": \"1\"\n",
    "}, {\n",
    "    \"name\":\n",
    "    \"User-Agent\",\n",
    "    \"value\":\n",
    "    \"Mozilla/5.0 (Windows NT 10.0; Win64; x64; rv:109.0) Gecko/20100101 Firefox/118.0\"\n",
    "}]\n",
    "headers = {i['name']:i[\"value\"] for i in headers}"
   ]
  },
  {
   "cell_type": "code",
   "execution_count": 21,
   "id": "98189c86",
   "metadata": {
    "ExecuteTime": {
     "end_time": "2023-10-28T13:48:40.909128Z",
     "start_time": "2023-10-28T13:48:40.743124Z"
    }
   },
   "outputs": [
    {
     "data": {
      "text/html": [
       "<div>\n",
       "<style scoped>\n",
       "    .dataframe tbody tr th:only-of-type {\n",
       "        vertical-align: middle;\n",
       "    }\n",
       "\n",
       "    .dataframe tbody tr th {\n",
       "        vertical-align: top;\n",
       "    }\n",
       "\n",
       "    .dataframe thead th {\n",
       "        text-align: right;\n",
       "    }\n",
       "</style>\n",
       "<table border=\"1\" class=\"dataframe\">\n",
       "  <thead>\n",
       "    <tr style=\"text-align: right;\">\n",
       "      <th></th>\n",
       "      <th>NO</th>\n",
       "      <th>code</th>\n",
       "    </tr>\n",
       "  </thead>\n",
       "  <tbody>\n",
       "    <tr>\n",
       "      <th>0</th>\n",
       "      <td>1</td>\n",
       "      <td>LAFBD-41</td>\n",
       "    </tr>\n",
       "    <tr>\n",
       "      <th>1</th>\n",
       "      <td>2</td>\n",
       "      <td>ABP-984</td>\n",
       "    </tr>\n",
       "    <tr>\n",
       "      <th>2</th>\n",
       "      <td>3</td>\n",
       "      <td>SSNI-497</td>\n",
       "    </tr>\n",
       "    <tr>\n",
       "      <th>3</th>\n",
       "      <td>4</td>\n",
       "      <td>IPX-580</td>\n",
       "    </tr>\n",
       "    <tr>\n",
       "      <th>4</th>\n",
       "      <td>5</td>\n",
       "      <td>IPX-811</td>\n",
       "    </tr>\n",
       "  </tbody>\n",
       "</table>\n",
       "</div>"
      ],
      "text/plain": [
       "   NO      code\n",
       "0   1  LAFBD-41\n",
       "1   2   ABP-984\n",
       "2   3  SSNI-497\n",
       "3   4   IPX-580\n",
       "4   5   IPX-811"
      ]
     },
     "execution_count": 21,
     "metadata": {},
     "output_type": "execute_result"
    }
   ],
   "source": [
    "df = pd.read_csv(\"./250.csv\",names=[\"NO\", \"code\"])\n",
    "df.head(5)"
   ]
  },
  {
   "cell_type": "code",
   "execution_count": 21,
   "id": "5aadef7d",
   "metadata": {
    "ExecuteTime": {
     "end_time": "2023-10-27T16:51:42.328897Z",
     "start_time": "2023-10-27T16:51:36.406442Z"
    }
   },
   "outputs": [],
   "source": [
    "executable_path = r\"E:\\JupyterFiles\\geckodriver\\geckodriver\\geckodriver.exe\"\n",
    "# driver = webdriver.Firefox(executable_path=executable_path)\n",
    "\n",
    "driver = webdriver.Firefox()"
   ]
  },
  {
   "cell_type": "code",
   "execution_count": 19,
   "id": "8eba86c8",
   "metadata": {
    "ExecuteTime": {
     "end_time": "2023-10-27T16:51:06.243987Z",
     "start_time": "2023-10-27T16:51:06.231985Z"
    }
   },
   "outputs": [],
   "source": [
    "def get_magnet_urls(code):\n",
    "    query_url = \"https://javdb.com/search?q={}&f=all\".format(code)\n",
    "    # print(query_url)\n",
    "    driver.get(query_url)\n",
    "    html = etree.HTML(driver.page_source)\n",
    "    href_xpath = './/div[@class=\"item\"][1]/a/@href'\n",
    "    href = [\"https://javdb.com\" + i for i in html.xpath(href_xpath)][-1]\n",
    "    # print(href)\n",
    "    \n",
    "    driver.get(href)\n",
    "    html = etree.HTML(driver.page_source)\n",
    "    a =  html.xpath('.//div[@class=\"magnet-name column is-four-fifths\"]/a')\n",
    "    magnet_urls = html.xpath('.//div[@class=\"magnet-name column is-four-fifths\"]/a/@href')\n",
    "    #print(url)\n",
    "    if html.xpath('.//span[text()=\"字幕\"]/../..'):\n",
    "        max_size = html.xpath('.//span[text()=\"字幕\"]/../../span[@class=\"meta\"]/text()')[0]\n",
    "        max_size = float(re.findall(\"\\d+.\\d+\", max_size)[0])\n",
    "        \n",
    "        for _i,size in enumerate(html.xpath('.//span[text()=\"字幕\"]/../../span[@class=\"meta\"]/text()')):\n",
    "            size = float(re.findall(\"\\d+.\\d+\", size)[0])\n",
    "            \n",
    "            # print(max_size, size)\n",
    "            \n",
    "            if size > max_size:\n",
    "                # print(max_size, _i)\n",
    "                magnet_url = html.xpath('.//span[text()=\"字幕\"]/../..')[_i].attrib.get(\"href\")\n",
    "            else:\n",
    "                # print(\"diyi\")\n",
    "                magnet_url = html.xpath('.//span[text()=\"字幕\"]/../..')[0].attrib.get(\"href\")\n",
    "            max_size = size if size > max_size else max_size\n",
    "        \n",
    "        \n",
    "        # print(\"有字幕\")\n",
    "    elif html.xpath('.//span[text()=\"高清\"]/../..'):\n",
    "        magnet_url = html.xpath('.//span[text()=\"高清\"]/../..')[0].attrib.get(\"href\")\n",
    "        # print(\"HD\")\n",
    "    else:\n",
    "        magnet_url = magnet_urls[0]\n",
    "    return magnet_url "
   ]
  },
  {
   "cell_type": "code",
   "execution_count": 4,
   "id": "538e7e7d",
   "metadata": {
    "ExecuteTime": {
     "end_time": "2023-10-27T16:47:25.684375Z",
     "start_time": "2023-10-27T16:47:25.666440Z"
    }
   },
   "outputs": [],
   "source": [
    "fhs = [re.findall(\"\\w+-(\\d+)\", ele)[-1] for ele in os.listdir(r\"G:\\JAV\\TOP\")]\n",
    "fhs = [i.upper() for i in fhs]"
   ]
  },
  {
   "cell_type": "code",
   "execution_count": 5,
   "id": "d0799763",
   "metadata": {
    "ExecuteTime": {
     "end_time": "2023-10-27T16:47:37.223538Z",
     "start_time": "2023-10-27T16:47:37.203545Z"
    },
    "collapsed": true
   },
   "outputs": [
    {
     "data": {
      "text/plain": [
       "['001',\n",
       " '017',\n",
       " '171',\n",
       " '408',\n",
       " '889',\n",
       " '912',\n",
       " '933',\n",
       " '968',\n",
       " '975',\n",
       " '984',\n",
       " '995',\n",
       " '032',\n",
       " '054',\n",
       " '087',\n",
       " '108',\n",
       " '121',\n",
       " '135',\n",
       " '153',\n",
       " '187',\n",
       " '204',\n",
       " '216',\n",
       " '220',\n",
       " '244',\n",
       " '286',\n",
       " '296',\n",
       " '305',\n",
       " '324',\n",
       " '339',\n",
       " '396',\n",
       " '344',\n",
       " '557',\n",
       " '243',\n",
       " '259',\n",
       " '365',\n",
       " '404',\n",
       " '120',\n",
       " '778',\n",
       " '092',\n",
       " '789',\n",
       " '077',\n",
       " '272',\n",
       " '513',\n",
       " '529',\n",
       " '548',\n",
       " '504',\n",
       " '0783',\n",
       " '1031',\n",
       " '033',\n",
       " '765',\n",
       " '047',\n",
       " '050',\n",
       " '118',\n",
       " '177',\n",
       " '216',\n",
       " '247',\n",
       " '398',\n",
       " '451',\n",
       " '471',\n",
       " '475',\n",
       " '484',\n",
       " '497',\n",
       " '515',\n",
       " '528',\n",
       " '534',\n",
       " '536',\n",
       " '540',\n",
       " '557',\n",
       " '565',\n",
       " '580',\n",
       " '582',\n",
       " '596',\n",
       " '602',\n",
       " '607',\n",
       " '620',\n",
       " '633',\n",
       " '641',\n",
       " '643',\n",
       " '660',\n",
       " '666',\n",
       " '690',\n",
       " '697',\n",
       " '708',\n",
       " '726',\n",
       " '743',\n",
       " '776',\n",
       " '777',\n",
       " '811',\n",
       " '832',\n",
       " '850',\n",
       " '851',\n",
       " '867',\n",
       " '917',\n",
       " '002',\n",
       " '003',\n",
       " '034',\n",
       " '037',\n",
       " '179',\n",
       " '185',\n",
       " '388',\n",
       " '887',\n",
       " '048',\n",
       " '136',\n",
       " '722',\n",
       " '41',\n",
       " '234',\n",
       " '568',\n",
       " '605',\n",
       " '698',\n",
       " '831',\n",
       " '525',\n",
       " '548',\n",
       " '715',\n",
       " '797',\n",
       " '020',\n",
       " '633',\n",
       " '767',\n",
       " '776',\n",
       " '906',\n",
       " '934',\n",
       " '960',\n",
       " '970',\n",
       " '979',\n",
       " '036',\n",
       " '207',\n",
       " '229',\n",
       " '236',\n",
       " '248',\n",
       " '277',\n",
       " '296',\n",
       " '391',\n",
       " '433',\n",
       " '009',\n",
       " '082',\n",
       " '784',\n",
       " '094',\n",
       " '538',\n",
       " '766',\n",
       " '099',\n",
       " '193',\n",
       " '256',\n",
       " '277',\n",
       " '483',\n",
       " '016',\n",
       " '110',\n",
       " '625',\n",
       " '546',\n",
       " '744',\n",
       " '115',\n",
       " '032',\n",
       " '082',\n",
       " '333',\n",
       " '338',\n",
       " '369',\n",
       " '402',\n",
       " '423',\n",
       " '465',\n",
       " '469',\n",
       " '500',\n",
       " '531',\n",
       " '562',\n",
       " '573',\n",
       " '588',\n",
       " '622',\n",
       " '624',\n",
       " '687',\n",
       " '698',\n",
       " '724',\n",
       " '740',\n",
       " '743',\n",
       " '776',\n",
       " '798',\n",
       " '806',\n",
       " '036',\n",
       " '369',\n",
       " '392',\n",
       " '424',\n",
       " '497',\n",
       " '520',\n",
       " '621',\n",
       " '624',\n",
       " '727',\n",
       " '780',\n",
       " '782',\n",
       " '845',\n",
       " '865',\n",
       " '916',\n",
       " '080',\n",
       " '145',\n",
       " '168',\n",
       " '237',\n",
       " '435',\n",
       " '678',\n",
       " '734',\n",
       " '759',\n",
       " '766',\n",
       " '804',\n",
       " '818',\n",
       " '874',\n",
       " '026',\n",
       " '055',\n",
       " '091',\n",
       " '098',\n",
       " '288',\n",
       " '99',\n",
       " '159',\n",
       " '554',\n",
       " '566',\n",
       " '583',\n",
       " '601',\n",
       " '149',\n",
       " '462',\n",
       " '432',\n",
       " '436',\n",
       " '454',\n",
       " '418',\n",
       " '421',\n",
       " '437',\n",
       " '724']"
      ]
     },
     "execution_count": 5,
     "metadata": {},
     "output_type": "execute_result"
    }
   ],
   "source": [
    "fhs"
   ]
  },
  {
   "cell_type": "code",
   "execution_count": 23,
   "id": "6333327d",
   "metadata": {
    "ExecuteTime": {
     "end_time": "2023-10-27T16:54:51.659014Z",
     "start_time": "2023-10-27T16:53:22.422380Z"
    }
   },
   "outputs": [
    {
     "name": "stdout",
     "output_type": "stream",
     "text": [
      "magnet:?xt=urn:btih:448dc38fa2d50b0314999940c57bf88891db5f92&dn=[javdb.com]abw-096-C.torrent \n",
      "\n",
      "magnet:?xt=urn:btih:e524db8fbba7a401fe53718e4a3420cb87ecf368&dn=[javdb.com]121914-760-C.torrent \n",
      "\n",
      "magnet:?xt=urn:btih:r762a3lacipgpdnh43dtzxoaetaywmrn&dn=[javdb.com]IPX-868-C_X1080X \n",
      "\n",
      "magnet:?xt=urn:btih:60aa09e36b56550d1d4beeeb75d2ef7a5654544a&dn=[javdb.com]ipx-416-C.torrent \n",
      "\n",
      "magnet:?xt=urn:btih:956343e0cff87b9c7357d5e667e12bc81469017e&dn=[javdb.com]ssni-618-C.torrent \n",
      "\n",
      "magnet:?xt=urn:btih:335165b666e6b45e57697bb26294f6ff07c75392&dn=[javdb.com]MKBD-S03-BD.torrent \n",
      "\n",
      "magnet:?xt=urn:btih:2ff0ac27cf0189f75372ccc85200f0849318ebdb&dn=[javdb.com]pred-262-C.torrent \n",
      "\n",
      "magnet:?xt=urn:btih:2465e92dcb72bbdaed856356fe2e5502d4333258&dn=[javdb.com]ABW-366-UC.torrent.无码破解 \n",
      "\n",
      "magnet:?xt=urn:btih:9ac2ca710577cfc209e6cca82be9481d000f729e&dn=[javdb.com]IPZ-127.1080p.x264.AAC.中文特效字幕.mp4 \n",
      "\n",
      "magnet:?xt=urn:btih:8d83621ba82dce44fbb30ab7b02a7bbe3e4ecace&dn=[javdb.com]ABW-043.torrent.无码破解 \n",
      "\n",
      "magnet:?xt=urn:btih:89317424384d0293ae08c9cfb1a80c02e90ea14d&dn=[javdb.com]SNIS-352-UC.torrent.无码破解 \n",
      "\n",
      "magnet:?xt=urn:btih:05fc88836e15eede1ac8e86a276b1f86315a8c62&dn=[javdb.com]ssni-650-C.torrent \n",
      "\n",
      "magnet:?xt=urn:btih:f7316a79cf2cc1aac2818fb04d5286bf321daccb&dn=[javdb.com]IPZ-921 桃乃木香奈 中文字幕 1080P高清 \n",
      "\n",
      "magnet:?xt=urn:btih:37cd0039ff56f927b14a206d40cd68d42126e19d&dn=[javdb.com]atid-327-C.mp4 \n",
      "\n",
      "magnet:?xt=urn:btih:f66a790c5616573a495f93ecd3eda3e0353766d5&dn=[javdb.com]JUQ-090 \n",
      "\n",
      "magnet:?xt=urn:btih:8ebfc8d1d0081897c2b882d4b679f940390af1fd&dn=[javdb.com][Sky High Ent][SKYHD-084]Sky Angel Blue Vol.84-Arisa Nakano (Blu-ray Disc).avi.torrent \n",
      "\n",
      "magnet:?xt=urn:btih:ca0ea491b1b310fac0844792968cc9bd614dcbd2&dn=[javdb.com]SSNI-413 超美足迷你裙誘惑美容沙龍 橋本亞里奈[中文字幕] \n",
      "\n",
      "magnet:?xt=urn:btih:57580eea405bb2361fe2406e07080fe1fc1ea70&dn=[javdb.com]SSIS-669-UC \n",
      "\n",
      "magnet:?xt=urn:btih:f3546196f352b721a6757a175fdd6334e87b468c&dn=[javdb.com]DASS-060 \n",
      "\n"
     ]
    }
   ],
   "source": [
    "for i in df[\"code\"][::1]:\n",
    "    \n",
    "    try:\n",
    "        fh = re.findall(\"\\w+-(\\d+)\", i)[-1]\n",
    "    except:\n",
    "#         print(i)\n",
    "        pass\n",
    "    if fh not in fhs:\n",
    "#         print(i)\n",
    "        print(get_magnet_urls(i), \"\\n\")"
   ]
  },
  {
   "cell_type": "code",
   "execution_count": 24,
   "id": "76d461d0",
   "metadata": {
    "ExecuteTime": {
     "end_time": "2023-10-28T04:53:57.830607Z",
     "start_time": "2023-10-28T04:53:57.787589Z"
    }
   },
   "outputs": [
    {
     "name": "stdout",
     "output_type": "stream",
     "text": [
      "010115_001\n",
      "MKBD-S03\n",
      "MKBD-S89\n",
      "032715_002\n",
      "vixen.16.10.06\n",
      "092415_159\n",
      "blackedraw.19.05.17\n"
     ]
    }
   ],
   "source": [
    "for i in df[\"code\"][::1]:\n",
    "    \n",
    "    try:\n",
    "        fh = re.findall(\"\\w+-(\\d+)\", i)[-1]\n",
    "    except:\n",
    "        print(i)"
   ]
  },
  {
   "cell_type": "code",
   "execution_count": 12,
   "id": "2be60270",
   "metadata": {
    "ExecuteTime": {
     "end_time": "2023-10-28T12:37:43.260446Z",
     "start_time": "2023-10-28T12:37:37.515817Z"
    }
   },
   "outputs": [],
   "source": [
    "executable_path = r\"E:\\JupyterFiles\\geckodriver\\geckodriver\\geckodriver.exe\"\n",
    "# driver = webdriver.Firefox(executable_path=executable_path)\n",
    "\n",
    "driver = webdriver.Firefox()"
   ]
  },
  {
   "cell_type": "code",
   "execution_count": 2,
   "id": "a23f0b3b",
   "metadata": {
    "ExecuteTime": {
     "end_time": "2023-10-28T12:34:05.122738Z",
     "start_time": "2023-10-28T12:34:05.106938Z"
    }
   },
   "outputs": [],
   "source": [
    "def get_href(fh:str):\n",
    "    \"\"\"\n",
    "    根据番号获取跳转链接\n",
    "    \"\"\"\n",
    "    # 查询链接\n",
    "    seacher_url = \"https://javdb.com/search?q={}&f=all\".format(fh)\n",
    "    # print(seacher_url)\n",
    "    res_text = driver.get(seacher_url)\n",
    "    \n",
    "    html = etree.HTML(driver.page_source)\n",
    "    img_src = html.xpath('.//div[@class=\"movie-list h cols-4 vcols-8\"]/div[@class=\"item\"]/a/@href')[0]\n",
    "    img_src = \"https://javdb.com\" + img_src\n",
    "    return img_src"
   ]
  },
  {
   "cell_type": "code",
   "execution_count": 153,
   "id": "8ebe6f56",
   "metadata": {
    "ExecuteTime": {
     "end_time": "2023-10-28T11:30:50.736889Z",
     "start_time": "2023-10-28T11:30:50.692222Z"
    },
    "collapsed": true
   },
   "outputs": [
    {
     "ename": "FileNotFoundError",
     "evalue": "[WinError 3] 系统找不到指定的路径。: 'G:\\\\JAV\\\\TOP\\\\75-101'",
     "output_type": "error",
     "traceback": [
      "\u001b[1;31m---------------------------------------------------------------------------\u001b[0m",
      "\u001b[1;31mFileNotFoundError\u001b[0m                         Traceback (most recent call last)",
      "Cell \u001b[1;32mIn[153], line 2\u001b[0m\n\u001b[0;32m      1\u001b[0m root \u001b[38;5;241m=\u001b[39m \u001b[38;5;124mr\u001b[39m\u001b[38;5;124m\"\u001b[39m\u001b[38;5;124mG:\u001b[39m\u001b[38;5;124m\\\u001b[39m\u001b[38;5;124mJAV\u001b[39m\u001b[38;5;124m\\\u001b[39m\u001b[38;5;124mTOP\u001b[39m\u001b[38;5;124m\\\u001b[39m\u001b[38;5;124m75-101\u001b[39m\u001b[38;5;124m\"\u001b[39m\n\u001b[1;32m----> 2\u001b[0m \u001b[38;5;28;01mfor\u001b[39;00m i \u001b[38;5;129;01min\u001b[39;00m \u001b[43mos\u001b[49m\u001b[38;5;241;43m.\u001b[39;49m\u001b[43mlistdir\u001b[49m\u001b[43m(\u001b[49m\u001b[43mroot\u001b[49m\u001b[43m)\u001b[49m[::\u001b[38;5;241m-\u001b[39m\u001b[38;5;241m1\u001b[39m]:\n\u001b[0;32m      3\u001b[0m     src_folder \u001b[38;5;241m=\u001b[39m \u001b[38;5;124m\"\u001b[39m\u001b[38;5;132;01m{}\u001b[39;00m\u001b[38;5;124m\\\u001b[39m\u001b[38;5;132;01m{}\u001b[39;00m\u001b[38;5;124m\"\u001b[39m\u001b[38;5;241m.\u001b[39mformat(root, i)\n\u001b[0;32m      4\u001b[0m     fh \u001b[38;5;241m=\u001b[39m (\u001b[38;5;124m\"\u001b[39m\u001b[38;5;124m\"\u001b[39m)\u001b[38;5;241m.\u001b[39mjoin(i\u001b[38;5;241m.\u001b[39msplit(\u001b[38;5;124m\"\u001b[39m\u001b[38;5;124m-\u001b[39m\u001b[38;5;124m\"\u001b[39m)[:\u001b[38;5;241m2\u001b[39m:])\n",
      "\u001b[1;31mFileNotFoundError\u001b[0m: [WinError 3] 系统找不到指定的路径。: 'G:\\\\JAV\\\\TOP\\\\75-101'"
     ]
    }
   ],
   "source": [
    "root = r\"G:\\JAV\\TOP\\75-101\"\n",
    "for i in os.listdir(root)[::-1]:\n",
    "    src_folder = \"{}\\{}\".format(root, i)\n",
    "    fh = (\"\").join(i.split(\"-\")[:2:])\n",
    "    \n",
    "    print(get_href(fh))\n",
    "    \n",
    "    driver.get(get_href(fh))\n",
    "    html = etree.HTML(driver.page_source)\n",
    "    try:\n",
    "        NO_text = html.xpath('.//span[text()=\"JavDB 影片TOP250\"]/preceding-sibling::span/text()')[0]\n",
    "    except:\n",
    "        shutil.move(src_folder, r\"G:\\JAV\\TOP\\年度\\{}\".format(i))\n",
    "        pass\n",
    "    NO = re.findall(pattern=\"\\d+\", string=NO_text)[0]\n",
    "    if int(NO) < 51:\n",
    "        shutil.move(src_folder, r\"G:\\JAV\\TOP\\1-50\\{}\".format(i))\n",
    "    elif int(NO) > 50 and int(NO) < 61:\n",
    "        shutil.move(src_folder, r\"G:\\JAV\\TOP\\51-60\\{}\".format(i))\n",
    "    elif int(NO) > 60 and int(NO) < 91:\n",
    "        shutil.move(src_folder, r\"G:\\JAV\\TOP\\60-90\\{}\".format(i))\n",
    "    elif int(NO) > 90 and int(NO) < 161:\n",
    "        shutil.move(src_folder, r\"G:\\JAV\\TOP\\90-160\\{}\".format(i))\n",
    "    elif int(NO) > 180 and int(NO) < 260:\n",
    "        shutil.move(src_folder, r\"G:\\JAV\\TOP\\180-250\\{}\".format(i))"
   ]
  },
  {
   "cell_type": "code",
   "execution_count": 18,
   "id": "a4050994",
   "metadata": {
    "ExecuteTime": {
     "end_time": "2023-10-28T12:57:28.178326Z",
     "start_time": "2023-10-28T12:57:12.131593Z"
    }
   },
   "outputs": [
    {
     "name": "stdout",
     "output_type": "stream",
     "text": [
      "https://javdb.com/v/PrYe2\n",
      "90\n",
      "https://javdb.com/v/WzXz8\n",
      "83\n",
      "https://javdb.com/v/K2Xmv\n",
      "84\n",
      "https://javdb.com/v/wGDbB\n",
      "86\n",
      "https://javdb.com/v/5EWRKD\n",
      "89\n",
      "https://javdb.com/v/YeK7p\n",
      "85\n",
      "https://javdb.com/v/PnBkN\n",
      "87\n"
     ]
    }
   ],
   "source": [
    "root = r\"G:\\JAV\\TOP\\83-86\"\n",
    "for i in os.listdir(root)[::-1]:\n",
    "    src_folder = \"{}\\{}\".format(root, i)\n",
    "    fh = (\"\").join(i.split(\"-\")[:2:])\n",
    "    \n",
    "    print(get_href(fh))\n",
    "    \n",
    "    driver.get(get_href(fh))\n",
    "    html = etree.HTML(driver.page_source)\n",
    "    try:\n",
    "        NO_text = html.xpath('.//span[text()=\"JavDB 影片TOP250\"]/preceding-sibling::span/text()')[0]\n",
    "    except:\n",
    "        shutil.move(src_folder, r\"G:\\JAV\\TOP\\年度\\{}\".format(i))\n",
    "        pass\n",
    "    NO = re.findall(pattern=\"\\d+\", string=NO_text)[0]\n",
    "    print(NO)\n",
    "    if int(NO) < 0:\n",
    "        shutil.move(src_folder, r\"G:\\JAV\\TOP\\151-158\\{}\".format(i))\n",
    "    elif int(NO) > 86 and int(NO) < 95:\n",
    "        shutil.move(src_folder, r\"G:\\JAV\\TOP\\87-95\\{}\".format(i))\n",
    "    elif int(NO) > 90 and int(NO) < 96:\n",
    "        shutil.move(src_folder, r\"G:\\JAV\\TOP\\91-95\\{}\".format(i))\n",
    "    else:\n",
    "        pass\n",
    "    "
   ]
  },
  {
   "cell_type": "code",
   "execution_count": 23,
   "id": "83f20d14",
   "metadata": {
    "ExecuteTime": {
     "end_time": "2023-10-28T13:57:50.891970Z",
     "start_time": "2023-10-28T13:57:26.032983Z"
    }
   },
   "outputs": [
    {
     "name": "stdout",
     "output_type": "stream",
     "text": [
      "https://javdb.com/v/dazNv\n",
      "87\n",
      "https://javdb.com/v/W1M4dK\n",
      "206\n",
      "https://javdb.com/v/B84DpG\n",
      "215\n"
     ]
    }
   ],
   "source": [
    "try:\n",
    "    driver.get(\"https://www.javbus.com\")\n",
    "except:\n",
    "    driver = webdriver.Firefox()\n",
    "\n",
    "root = r\"G:\\JAV\\top250\"\n",
    "for i in os.listdir(root)[::-1]:\n",
    "    src_folder = \"{}\\{}\".format(root, i)\n",
    "    fh = (\"\").join(i.split(\"-\")[:2:])\n",
    "    \n",
    "    print(get_href(fh))\n",
    "    \n",
    "    driver.get(get_href(fh))\n",
    "    html = etree.HTML(driver.page_source)\n",
    "    try:\n",
    "        NO_text = html.xpath('.//span[text()=\"JavDB 影片TOP250\"]/preceding-sibling::span/text()')[0]\n",
    "    except:\n",
    "        shutil.move(src_folder, r\"G:\\JAV\\TOP\\年度\\{}\".format(i))\n",
    "        pass\n",
    "    NO = re.findall(pattern=\"\\d+\", string=NO_text)[0]\n",
    "    print(NO)\n",
    "driver.close()"
   ]
  }
 ],
 "metadata": {
  "hide_input": false,
  "kernelspec": {
   "display_name": "Python 3 (ipykernel)",
   "language": "python",
   "name": "python3"
  },
  "language_info": {
   "codemirror_mode": {
    "name": "ipython",
    "version": 3
   },
   "file_extension": ".py",
   "mimetype": "text/x-python",
   "name": "python",
   "nbconvert_exporter": "python",
   "pygments_lexer": "ipython3",
   "version": "3.10.8"
  },
  "toc": {
   "base_numbering": 1,
   "nav_menu": {},
   "number_sections": true,
   "sideBar": true,
   "skip_h1_title": false,
   "title_cell": "Table of Contents",
   "title_sidebar": "Contents",
   "toc_cell": false,
   "toc_position": {},
   "toc_section_display": true,
   "toc_window_display": false
  },
  "varInspector": {
   "cols": {
    "lenName": 16,
    "lenType": 16,
    "lenVar": 40
   },
   "kernels_config": {
    "python": {
     "delete_cmd_postfix": "",
     "delete_cmd_prefix": "del ",
     "library": "var_list.py",
     "varRefreshCmd": "print(var_dic_list())"
    },
    "r": {
     "delete_cmd_postfix": ") ",
     "delete_cmd_prefix": "rm(",
     "library": "var_list.r",
     "varRefreshCmd": "cat(var_dic_list()) "
    }
   },
   "types_to_exclude": [
    "module",
    "function",
    "builtin_function_or_method",
    "instance",
    "_Feature"
   ],
   "window_display": false
  }
 },
 "nbformat": 4,
 "nbformat_minor": 5
}
