{
 "cells": [
  {
   "cell_type": "code",
   "execution_count": null,
   "id": "f0abee82",
   "metadata": {},
   "outputs": [],
   "source": []
  },
  {
   "cell_type": "code",
   "execution_count": 7,
   "id": "35b41099",
   "metadata": {
    "ExecuteTime": {
     "end_time": "2024-01-05T12:21:39.679787Z",
     "start_time": "2024-01-05T12:21:35.703333Z"
    }
   },
   "outputs": [],
   "source": [
    "import re\n",
    "import os\n",
    "from selenium import webdriver\n",
    "from selenium.webdriver.common.by import By\n",
    "from lxml import etree\n",
    "import pandas as pd"
   ]
  },
  {
   "cell_type": "code",
   "execution_count": 8,
   "id": "80c58f01",
   "metadata": {
    "ExecuteTime": {
     "end_time": "2024-01-05T13:04:25.512758Z",
     "start_time": "2024-01-05T13:04:22.253503Z"
    }
   },
   "outputs": [],
   "source": [
    "try:\n",
    "    driver.get(\"https://www.subtitlecat.com/\")\n",
    "except:\n",
    "    driver = webdriver.Firefox()"
   ]
  },
  {
   "cell_type": "code",
   "execution_count": 5,
   "id": "bf8f12dd",
   "metadata": {
    "ExecuteTime": {
     "end_time": "2024-01-05T11:59:28.093721Z",
     "start_time": "2024-01-05T11:55:30.096130Z"
    }
   },
   "outputs": [
    {
     "name": "stdout",
     "output_type": "stream",
     "text": [
      "https://javdb.com/v/GZ9bg\n",
      "magnet:?xt=urn:btih:6cb88893b7f405711246b41e4cfd807cd5df9599&dn=[javdb.com]IPX-134-U.torrent.无码破解\n",
      "E:\\JAV/櫻空桃/IPX-134-C \n",
      "\n",
      "https://javdb.com/v/0kqBa\n",
      "magnet:?xt=urn:btih:95c3c5fc45a93e15ac739d3e569ce829467af078&dn=[javdb.com]IPX-367-U.torrent.无码破解\n",
      "E:\\JAV/櫻空桃/IPX-367-C \n",
      "\n",
      "https://javdb.com/v/OpM4v\n",
      "magnet:?xt=urn:btih:2ea2527d9d67df23c51e249f593877eeef13e3dc&dn=[javdb.com]IPX-384-U.torrent.无码破解\n",
      "E:\\JAV/櫻空桃/IPX-384-C \n",
      "\n",
      "https://javdb.com/v/8EKZE\n",
      "magnet:?xt=urn:btih:72714ce87c306ea66c3c94cfd34007f423296381&dn=[javdb.com]IPX-399-U.torrent.无码破解\n",
      "E:\\JAV/櫻空桃/IPX-399-C \n",
      "\n",
      "https://javdb.com/v/dgGkQ\n",
      "magnet:?xt=urn:btih:4366092bae7244b7ecf7763b3257f9b16d61372b&dn=[javdb.com]IPX-415-U.torrent.无码破解\n",
      "E:\\JAV/櫻空桃/ipx-415-C \n",
      "\n",
      "https://javdb.com/v/n4ape\n",
      "magnet:?xt=urn:btih:ec7a75b71a8b342092567337f9e1b40f87753567&dn=[javdb.com]IPX-428-U.torrent.无码破解\n",
      "E:\\JAV/櫻空桃/ipx-428-C \n",
      "\n",
      "https://javdb.com/v/8Z2wa\n",
      "magnet:?xt=urn:btih:feb88c7c361fcb69b534672d216de1a31b04f494&dn=[javdb.com]IPX-438-U.torrent.无码破解\n",
      "E:\\JAV/櫻空桃/ipx-438-C \n",
      "\n",
      "https://javdb.com/v/KPNOv\n",
      "magnet:?xt=urn:btih:28d046829b52be8d86dc4c62779a352bf5793099&dn=[javdb.com]IPX-485-U.torrent.无码破解\n",
      "E:\\JAV/櫻空桃/ipx-485-C \n",
      "\n",
      "https://javdb.com/v/pzBJ5\n",
      "magnet:?xt=urn:btih:1284ec7e026d2c61ebb39b39776feee3b4114845&dn=[javdb.com]IPX-502-U.torrent.无码破解\n",
      "E:\\JAV/櫻空桃/ipx-502-C \n",
      "\n",
      "https://javdb.com/v/zZVEW\n",
      "magnet:?xt=urn:btih:a7052e555759090bdf546f7ff057c20b0af5a302&dn=[javdb.com]IPX-529-U.torrent.无码破解\n",
      "E:\\JAV/櫻空桃/ipx-529-C \n",
      "\n",
      "https://javdb.com/v/XzkY4\n",
      "magnet:?xt=urn:btih:9ea7779bde524721d764f4aed379fb1ee1bd74d7&dn=[javdb.com]IPX-535.torrent.无码破解\n",
      "E:\\JAV/櫻空桃/ipx-535-C \n",
      "\n",
      "https://javdb.com/v/eWK5z\n",
      "magnet:?xt=urn:btih:2b35c2fd00e99aa0fe91ed1088b68c1279c4f4de&dn=[javdb.com]IPX-597.torrent.无码破解\n",
      "E:\\JAV/櫻空桃/ipx-597-C \n",
      "\n",
      "https://javdb.com/v/xP0yV\n",
      "magnet:?xt=urn:btih:d2a48af7e57ccdc189c790acda4b116a091b5fc0&dn=[javdb.com]IPX-613-U.torrent.无码破解\n",
      "E:\\JAV/櫻空桃/ipx-613-C \n",
      "\n",
      "https://javdb.com/v/DA72J\n",
      "magnet:?xt=urn:btih:3543890dad9bf0f767a542d769af5890c7955335&dn=[javdb.com]ipx-628-uncensored.torrent 无码破解\n",
      "E:\\JAV/櫻空桃/ipx-628-C \n",
      "\n",
      "https://javdb.com/v/mRQ6Z\n",
      "magnet:?xt=urn:btih:c1501d64e195e1c0f0ca47713f9072644afa2c24&dn=[javdb.com]IPX-659-U.torrent.无码破解\n",
      "E:\\JAV/櫻空桃/ipx-659-C \n",
      "\n",
      "https://javdb.com/v/dxKn9\n",
      "magnet:?xt=urn:btih:b53c6c7b9c5c0e1613893a0ba82b80bbc89a7e81&dn=[javdb.com]IPX-674-U.torrent.无码破解\n",
      "E:\\JAV/櫻空桃/ipx-674-C \n",
      "\n",
      "https://javdb.com/v/r8p8R\n",
      "magnet:?xt=urn:btih:dae7af4fd9c132624a7d83867dee838e0ab68cfb&dn=[javdb.com]IPX-725-U.torrent.无码破解\n",
      "E:\\JAV/櫻空桃/ipx-725-C \n",
      "\n",
      "https://javdb.com/v/MMP6R\n",
      "magnet:?xt=urn:btih:8cab0ad82a2c78edc51f0129dbe743a06643fd78&dn=[javdb.com]IPX-743-U.torrent.无码破解\n",
      "E:\\JAV/櫻空桃/IPX-743-C \n",
      "\n",
      "https://javdb.com/v/AeeAe\n",
      "magnet:?xt=urn:btih:7948bafbe179d195abfc29a4a6fdd5cfe4634dc6&dn=[javdb.com]IPX-759-U.torrent.无码破解\n",
      "E:\\JAV/櫻空桃/IPX-759-C \n",
      "\n",
      "https://javdb.com/v/A7B4P\n",
      "magnet:?xt=urn:btih:ea8d1a4ab1edc10822c965c45a03a9188a6e64d6&dn=[javdb.com]IPX-777-U.torrent.无码破解\n",
      "E:\\JAV/櫻空桃/ipx-777-C \n",
      "\n",
      "https://javdb.com/v/rAm4z\n",
      "magnet:?xt=urn:btih:9ba1e19eabd7017f9e1b5e8616098b6bbe1ee8c0&dn=[javdb.com]IPX-868-U.torrent.无码破解\n",
      "E:\\JAV/櫻空桃/ipx-868-C \n",
      "\n",
      "https://javdb.com/v/k445Ye\n",
      "magnet:?xt=urn:btih:2cb4b672bdabd2e4317497cb1f8815f90a50ebfc&dn=[javdb.com]IPX-916-U.torrent.无码破解\n",
      "E:\\JAV/櫻空桃/ipx-916-C \n",
      "\n",
      "https://javdb.com/v/OXRYD\n",
      "magnet:?xt=urn:btih:929e1a22be3c0e2da12ee5553b6a22e7f3a6030a&dn=[javdb.com]ipz-941-uncensored.torrent 无码破解\n",
      "E:\\JAV/櫻空桃/ipz-941-C \n",
      "\n",
      "https://javdb.com/v/9DwN06\n",
      "magnet:?xt=urn:btih:11b82cc936d24e38dec085b6555a40cbe80831c9&dn=[javdb.com]IPZZ-002-U.torrent.无码破解\n",
      "E:\\JAV/櫻空桃/IPZZ-002-C \n",
      "\n"
     ]
    }
   ],
   "source": [
    "update_list = []\n",
    "\n",
    "try:\n",
    "    driver.get(\"https://www.subtitlecat.com/\")\n",
    "except:\n",
    "    driver = webdriver.Firefox()\n",
    "fhs = []\n",
    "root = r\"E:\\JAV\"\n",
    "for i in os.listdir(root)[1:]:\n",
    "    for j in os.listdir(\"{}\\{}\".format(root, i))[::]:\n",
    "        #         print(j.split(\"-\"))\n",
    "        if len(j.split(\"-\")) > 2 and j.split(\"-\")[-1] == \"C\":\n",
    "            #             print(j)\n",
    "            fh = (\"-\").join(j.split(\"-\")[0:2])\n",
    "            query_url = \"https://javdb.com/search?q={}&f=all\".format(fh)\n",
    "\n",
    "#             print(query_url)\n",
    "            driver.get(query_url)\n",
    "            html = etree.HTML(driver.page_source)\n",
    "            href = html.xpath(\n",
    "                './/div[@class=\"movie-list h cols-4 vcols-8\"]/div[@class=\"item\"]/a/@href')[0]\n",
    "            href = \"https://javdb.com\" + href\n",
    "\n",
    "            driver.get(href)\n",
    "\n",
    "            html = etree.HTML(driver.page_source)\n",
    "\n",
    "            magnetName = html.xpath(\n",
    "                './/div[@class=\"magnet-name column is-four-fifths\"]')\n",
    "            for _i in magnetName:\n",
    "                #         print(_i)\n",
    "                if \"无码\" in _i.xpath('.//span[@class=\"name\"]/text()')[-1]:\n",
    "\n",
    "                    try:\n",
    "                        fh = re.findall(\n",
    "                            \"\\w+-(\\d+)\", _i.xpath('.//a/@href')[-1])[-1]\n",
    "                    except:\n",
    "                        fh = re.findall(\"\\[javdb.com][A-Za-z]+(\\d+)\",\n",
    "                                        _i.xpath('.//a/@href')[-1])[-1]\n",
    "\n",
    "                    if not _i.xpath('.//span[text()=\"字幕\"]') and fh not in fhs:\n",
    "                        #                 print(_i.xpath('.//a/@href'), href, _i.xpath('.//span[@class=\"name\"]/text()')[-1])\n",
    "\n",
    "                        print(href)\n",
    "                        print(_i.xpath('.//a/@href')[-1])\n",
    "\n",
    "                        print(\"{}/{}/{}\".format(root, i, j), \"\\n\")\n",
    "                    else:\n",
    "                        print(href)\n",
    "                        print(_i.xpath('.//a/@href')[-1])\n",
    "\n",
    "                        print(\"{}/{}/{}\".format(root, i, j), \"\\n\")\n",
    "\n",
    "                    _d = {\n",
    "                        \"path\": \"{}/{}/{}\".format(root, i, j), \"href\": href, \"magnet\": _i.xpath('.//a/@href')[-1]}\n",
    "                    update_list.append(_d)\n",
    "                    break"
   ]
  },
  {
   "cell_type": "code",
   "execution_count": 6,
   "id": "fb166b3a",
   "metadata": {
    "ExecuteTime": {
     "end_time": "2024-01-05T12:21:18.519812Z",
     "start_time": "2024-01-05T12:21:18.494986Z"
    }
   },
   "outputs": [
    {
     "data": {
      "text/plain": [
       "[{'path': 'E:\\\\JAV/櫻空桃/IPX-134-C',\n",
       "  'href': 'https://javdb.com/v/GZ9bg',\n",
       "  'magnet': 'magnet:?xt=urn:btih:6cb88893b7f405711246b41e4cfd807cd5df9599&dn=[javdb.com]IPX-134-U.torrent.无码破解'},\n",
       " {'path': 'E:\\\\JAV/櫻空桃/IPX-367-C',\n",
       "  'href': 'https://javdb.com/v/0kqBa',\n",
       "  'magnet': 'magnet:?xt=urn:btih:95c3c5fc45a93e15ac739d3e569ce829467af078&dn=[javdb.com]IPX-367-U.torrent.无码破解'},\n",
       " {'path': 'E:\\\\JAV/櫻空桃/IPX-384-C',\n",
       "  'href': 'https://javdb.com/v/OpM4v',\n",
       "  'magnet': 'magnet:?xt=urn:btih:2ea2527d9d67df23c51e249f593877eeef13e3dc&dn=[javdb.com]IPX-384-U.torrent.无码破解'},\n",
       " {'path': 'E:\\\\JAV/櫻空桃/IPX-399-C',\n",
       "  'href': 'https://javdb.com/v/8EKZE',\n",
       "  'magnet': 'magnet:?xt=urn:btih:72714ce87c306ea66c3c94cfd34007f423296381&dn=[javdb.com]IPX-399-U.torrent.无码破解'},\n",
       " {'path': 'E:\\\\JAV/櫻空桃/ipx-415-C',\n",
       "  'href': 'https://javdb.com/v/dgGkQ',\n",
       "  'magnet': 'magnet:?xt=urn:btih:4366092bae7244b7ecf7763b3257f9b16d61372b&dn=[javdb.com]IPX-415-U.torrent.无码破解'},\n",
       " {'path': 'E:\\\\JAV/櫻空桃/ipx-428-C',\n",
       "  'href': 'https://javdb.com/v/n4ape',\n",
       "  'magnet': 'magnet:?xt=urn:btih:ec7a75b71a8b342092567337f9e1b40f87753567&dn=[javdb.com]IPX-428-U.torrent.无码破解'},\n",
       " {'path': 'E:\\\\JAV/櫻空桃/ipx-438-C',\n",
       "  'href': 'https://javdb.com/v/8Z2wa',\n",
       "  'magnet': 'magnet:?xt=urn:btih:feb88c7c361fcb69b534672d216de1a31b04f494&dn=[javdb.com]IPX-438-U.torrent.无码破解'},\n",
       " {'path': 'E:\\\\JAV/櫻空桃/ipx-485-C',\n",
       "  'href': 'https://javdb.com/v/KPNOv',\n",
       "  'magnet': 'magnet:?xt=urn:btih:28d046829b52be8d86dc4c62779a352bf5793099&dn=[javdb.com]IPX-485-U.torrent.无码破解'},\n",
       " {'path': 'E:\\\\JAV/櫻空桃/ipx-502-C',\n",
       "  'href': 'https://javdb.com/v/pzBJ5',\n",
       "  'magnet': 'magnet:?xt=urn:btih:1284ec7e026d2c61ebb39b39776feee3b4114845&dn=[javdb.com]IPX-502-U.torrent.无码破解'},\n",
       " {'path': 'E:\\\\JAV/櫻空桃/ipx-529-C',\n",
       "  'href': 'https://javdb.com/v/zZVEW',\n",
       "  'magnet': 'magnet:?xt=urn:btih:a7052e555759090bdf546f7ff057c20b0af5a302&dn=[javdb.com]IPX-529-U.torrent.无码破解'},\n",
       " {'path': 'E:\\\\JAV/櫻空桃/ipx-535-C',\n",
       "  'href': 'https://javdb.com/v/XzkY4',\n",
       "  'magnet': 'magnet:?xt=urn:btih:9ea7779bde524721d764f4aed379fb1ee1bd74d7&dn=[javdb.com]IPX-535.torrent.无码破解'},\n",
       " {'path': 'E:\\\\JAV/櫻空桃/ipx-597-C',\n",
       "  'href': 'https://javdb.com/v/eWK5z',\n",
       "  'magnet': 'magnet:?xt=urn:btih:2b35c2fd00e99aa0fe91ed1088b68c1279c4f4de&dn=[javdb.com]IPX-597.torrent.无码破解'},\n",
       " {'path': 'E:\\\\JAV/櫻空桃/ipx-613-C',\n",
       "  'href': 'https://javdb.com/v/xP0yV',\n",
       "  'magnet': 'magnet:?xt=urn:btih:d2a48af7e57ccdc189c790acda4b116a091b5fc0&dn=[javdb.com]IPX-613-U.torrent.无码破解'},\n",
       " {'path': 'E:\\\\JAV/櫻空桃/ipx-628-C',\n",
       "  'href': 'https://javdb.com/v/DA72J',\n",
       "  'magnet': 'magnet:?xt=urn:btih:3543890dad9bf0f767a542d769af5890c7955335&dn=[javdb.com]ipx-628-uncensored.torrent 无码破解'},\n",
       " {'path': 'E:\\\\JAV/櫻空桃/ipx-659-C',\n",
       "  'href': 'https://javdb.com/v/mRQ6Z',\n",
       "  'magnet': 'magnet:?xt=urn:btih:c1501d64e195e1c0f0ca47713f9072644afa2c24&dn=[javdb.com]IPX-659-U.torrent.无码破解'},\n",
       " {'path': 'E:\\\\JAV/櫻空桃/ipx-674-C',\n",
       "  'href': 'https://javdb.com/v/dxKn9',\n",
       "  'magnet': 'magnet:?xt=urn:btih:b53c6c7b9c5c0e1613893a0ba82b80bbc89a7e81&dn=[javdb.com]IPX-674-U.torrent.无码破解'},\n",
       " {'path': 'E:\\\\JAV/櫻空桃/ipx-725-C',\n",
       "  'href': 'https://javdb.com/v/r8p8R',\n",
       "  'magnet': 'magnet:?xt=urn:btih:dae7af4fd9c132624a7d83867dee838e0ab68cfb&dn=[javdb.com]IPX-725-U.torrent.无码破解'},\n",
       " {'path': 'E:\\\\JAV/櫻空桃/IPX-743-C',\n",
       "  'href': 'https://javdb.com/v/MMP6R',\n",
       "  'magnet': 'magnet:?xt=urn:btih:8cab0ad82a2c78edc51f0129dbe743a06643fd78&dn=[javdb.com]IPX-743-U.torrent.无码破解'},\n",
       " {'path': 'E:\\\\JAV/櫻空桃/IPX-759-C',\n",
       "  'href': 'https://javdb.com/v/AeeAe',\n",
       "  'magnet': 'magnet:?xt=urn:btih:7948bafbe179d195abfc29a4a6fdd5cfe4634dc6&dn=[javdb.com]IPX-759-U.torrent.无码破解'},\n",
       " {'path': 'E:\\\\JAV/櫻空桃/ipx-777-C',\n",
       "  'href': 'https://javdb.com/v/A7B4P',\n",
       "  'magnet': 'magnet:?xt=urn:btih:ea8d1a4ab1edc10822c965c45a03a9188a6e64d6&dn=[javdb.com]IPX-777-U.torrent.无码破解'},\n",
       " {'path': 'E:\\\\JAV/櫻空桃/ipx-868-C',\n",
       "  'href': 'https://javdb.com/v/rAm4z',\n",
       "  'magnet': 'magnet:?xt=urn:btih:9ba1e19eabd7017f9e1b5e8616098b6bbe1ee8c0&dn=[javdb.com]IPX-868-U.torrent.无码破解'},\n",
       " {'path': 'E:\\\\JAV/櫻空桃/ipx-916-C',\n",
       "  'href': 'https://javdb.com/v/k445Ye',\n",
       "  'magnet': 'magnet:?xt=urn:btih:2cb4b672bdabd2e4317497cb1f8815f90a50ebfc&dn=[javdb.com]IPX-916-U.torrent.无码破解'},\n",
       " {'path': 'E:\\\\JAV/櫻空桃/ipz-941-C',\n",
       "  'href': 'https://javdb.com/v/OXRYD',\n",
       "  'magnet': 'magnet:?xt=urn:btih:929e1a22be3c0e2da12ee5553b6a22e7f3a6030a&dn=[javdb.com]ipz-941-uncensored.torrent 无码破解'},\n",
       " {'path': 'E:\\\\JAV/櫻空桃/IPZZ-002-C',\n",
       "  'href': 'https://javdb.com/v/9DwN06',\n",
       "  'magnet': 'magnet:?xt=urn:btih:11b82cc936d24e38dec085b6555a40cbe80831c9&dn=[javdb.com]IPZZ-002-U.torrent.无码破解'}]"
      ]
     },
     "execution_count": 6,
     "metadata": {},
     "output_type": "execute_result"
    }
   ],
   "source": [
    "update_list"
   ]
  },
  {
   "cell_type": "code",
   "execution_count": 43,
   "id": "a70800ac",
   "metadata": {
    "ExecuteTime": {
     "end_time": "2023-12-31T06:05:35.233925Z",
     "start_time": "2023-12-31T06:05:35.229565Z"
    }
   },
   "outputs": [],
   "source": []
  },
  {
   "cell_type": "code",
   "execution_count": 44,
   "id": "5b8865e5",
   "metadata": {
    "ExecuteTime": {
     "end_time": "2023-12-31T06:05:38.170905Z",
     "start_time": "2023-12-31T06:05:38.165523Z"
    }
   },
   "outputs": [
    {
     "data": {
      "text/plain": [
       "'https://javdb.com/v/Gn1nJ'"
      ]
     },
     "execution_count": 44,
     "metadata": {},
     "output_type": "execute_result"
    }
   ],
   "source": [
    "href"
   ]
  }
 ],
 "metadata": {
  "hide_input": false,
  "kernelspec": {
   "display_name": "Python 3 (ipykernel)",
   "language": "python",
   "name": "python3"
  },
  "language_info": {
   "codemirror_mode": {
    "name": "ipython",
    "version": 3
   },
   "file_extension": ".py",
   "mimetype": "text/x-python",
   "name": "python",
   "nbconvert_exporter": "python",
   "pygments_lexer": "ipython3",
   "version": "3.10.8"
  },
  "toc": {
   "nav_menu": {},
   "number_sections": true,
   "sideBar": true,
   "skip_h1_title": false,
   "title_cell": "Table of Contents",
   "title_sidebar": "Contents",
   "toc_cell": false,
   "toc_position": {},
   "toc_section_display": true,
   "toc_window_display": false
  },
  "varInspector": {
   "cols": {
    "lenName": 16,
    "lenType": 16,
    "lenVar": 40
   },
   "kernels_config": {
    "python": {
     "delete_cmd_postfix": "",
     "delete_cmd_prefix": "del ",
     "library": "var_list.py",
     "varRefreshCmd": "print(var_dic_list())"
    },
    "r": {
     "delete_cmd_postfix": ") ",
     "delete_cmd_prefix": "rm(",
     "library": "var_list.r",
     "varRefreshCmd": "cat(var_dic_list()) "
    }
   },
   "types_to_exclude": [
    "module",
    "function",
    "builtin_function_or_method",
    "instance",
    "_Feature"
   ],
   "window_display": false
  }
 },
 "nbformat": 4,
 "nbformat_minor": 5
}
